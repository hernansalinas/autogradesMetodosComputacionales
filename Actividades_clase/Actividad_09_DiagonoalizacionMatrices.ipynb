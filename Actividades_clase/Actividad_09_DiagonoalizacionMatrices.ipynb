{
 "cells": [
  {
   "cell_type": "markdown",
   "metadata": {
    "id": "Qms28ZxFZdXn"
   },
   "source": [
    "# Autovalores, autovectores, polinomio caracteristico, diagonalización"
   ]
  },
  {
   "cell_type": "markdown",
   "metadata": {
    "id": "ONmddMM3Youm"
   },
   "source": [
    "| Librería | Función | Explicación |\n",
    "| --- | --- | --- |\n",
    "| numpy | numpy.linalg.eig | Calcula los autovalores y autovectores derechos de una matriz cuadrada |\n",
    "| numpy | numpy.linalg.eigh | Calcula los autovalores y autovectores de una matriz hermítica compleja o simétrica real |\n",
    "| numpy | numpy.poly | Calcula el polinomio característico de una matriz |\n",
    "| sympy | sympy.Matrix.eigenvals | Calcula los autovalores de una matriz simbólica |\n",
    "| sympy | sympy.Matrix.eigenvects | Calcula los autovalores y autovectores de una matriz simbólica |\n",
    "| sympy | sympy.Matrix.charpoly | Calcula el polinomio característico de una matriz simbólica |"
   ]
  },
  {
   "cell_type": "markdown",
   "metadata": {
    "id": "EwfvC822XBSY"
   },
   "source": [
    "Calcular el polinomio caracteristico, los  autovalores y autvectores propios de la siguiente matrices, comprobar con la solucion analitica:\n",
    "\n",
    "1. \n",
    "\\begin{bmatrix}\n",
    "1 & -1 & 4 \\\\\n",
    "3 & 2 & -1 \\\\\n",
    "2 & 1 & -1\n",
    "\\end{bmatrix}\n",
    "\n",
    "\n",
    "2. \\begin{bmatrix}\n",
    "3 & -5 \\\\\n",
    "1 & -1 \\\\\n",
    "\\end{bmatrix}\n",
    "\n",
    "\n",
    "\n"
   ]
  },
  {
   "cell_type": "markdown",
   "metadata": {
    "id": "FjG0uYQ_ZlFo"
   },
   "source": [
    "# Diagonalizacion \n",
    "Una matriz cuadrada $A$ es diagonalizable si y solo si cada autovalor $\\lambda$ de multiplicidad $m$ produce exactamente $m$ autovectores básicos; es decir, si y solo si la solución general del sistema $(A-I\\lambda)\\vec{x}=0$ tiene exactamente $m$ parámetros.\n",
    "\n",
    "\n",
    "Para diagonalizar una matriz $A$, se necesita encontrar una matriz invertible $P$ tal que $P^{-1}AP$ sea una matriz diagonal $D$. Esto significa que las columnas de $P$ son los autovectores de $A$ y los elementos de la diagonal de $D$ son los autovalores correspondientes de $A$.\n",
    "\n",
    "Encuentre la matrix diagnonal para las matrices anteriores. \n",
    "\n"
   ]
  },
  {
   "cell_type": "markdown",
   "metadata": {
    "id": "JwPHzdikikzu"
   },
   "source": [
    "Actividad 2. \n",
    "\n",
    "Considere la ecuación cuadrática $x^2-4xy+3y^2=6$, esta ecuación cuadrática se corresponde a una hiperbola, la cual puede ser escrita en forma matricial como sigue:\n",
    "\n",
    "$A\\vec{v} \\cdot \\vec{v}=6$, donde $\\vec{v}=(x, y)$ y A es una matrix simetrica, \n",
    "\n",
    "\\begin{equation}\n",
    "A=\\begin{bmatrix}\n",
    "1 & -2 \\\\\n",
    "-2 & 3 \\\\\n",
    "\\end{bmatrix}\n",
    "\\end{equation}\n",
    "\n",
    "1. Realice un grafico que represente la hyperbola\n",
    "\n",
    "\n",
    "\n",
    "\n",
    "\n",
    "\n",
    "\n",
    "- Diagonalice A, para ello construya la matrix Q de autovectores ortoganales \n",
    "tal que $D=Q^{T}AQ$, en este caso se dice que A es diagonalizable ortogonalmente, donde $A=QDQ^T$.\n",
    "\n",
    "- Aplique el resultado de la siguiente demostración para encontrar una nueva hyperbola en una  nueva base\n",
    "\n",
    "\\begin{equation}\n",
    "QDQ^T \\vec{v} \\cdot \\vec{v} = d\n",
    "\\end{equation}\n",
    "\n",
    "\n",
    "\\begin{equation}\n",
    "Q(DQ^T\\vec{v}) \\cdot \\vec{v} = (DQ^T\\vec{v}) \\cdot (Q^T\\vec{v})=d\n",
    "\\end{equation}\n",
    "\n",
    "\n",
    "\\begin{equation}\n",
    "(DQ^T\\vec{v}) \\cdot (Q^T\\vec{v})=d\n",
    "\\end{equation}\n",
    "\n",
    "\n",
    "Sea $u=Q^T\\vec{v}$\n",
    "\n",
    "Luego :\n",
    "\n",
    "\n",
    "\\begin{equation}\n",
    "(D\\vec{u}) \\cdot \\vec{u}=d\n",
    "\\end{equation}\n",
    "\n",
    "donde $\\vec{u}=(x', y')$, tal que $D\\vec{u} \\cdot \\vec{u}=d$ es una nueva hyperbola \n",
    "\n",
    "\n",
    "\n",
    "\n",
    "\n",
    "\n",
    "\n"
   ]
  }
 ],
 "metadata": {
  "colab": {
   "authorship_tag": "ABX9TyOi0LsaMjTr4njGJUtUHsSS",
   "provenance": []
  },
  "kernelspec": {
   "display_name": "Python 3 (ipykernel)",
   "language": "python",
   "name": "python3"
  },
  "language_info": {
   "codemirror_mode": {
    "name": "ipython",
    "version": 3
   },
   "file_extension": ".py",
   "mimetype": "text/x-python",
   "name": "python",
   "nbconvert_exporter": "python",
   "pygments_lexer": "ipython3",
   "version": "3.10.9"
  }
 },
 "nbformat": 4,
 "nbformat_minor": 1
}
