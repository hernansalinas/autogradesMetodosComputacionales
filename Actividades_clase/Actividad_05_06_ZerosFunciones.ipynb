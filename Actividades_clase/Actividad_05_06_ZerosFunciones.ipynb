{
 "cells": [
  {
   "cell_type": "markdown",
   "id": "3a6dc6a1",
   "metadata": {},
   "source": [
    "<a href=\"https://colab.research.google.com/github/hernansalinas/autogrades/blob/main/Actividades_clase/Actividad_05_06_ZerosFunciones.ipynb\" target=\"_parent\"><img src=\"https://colab.research.google.com/assets/colab-badge.svg\" alt=\"Open In Colab\"/></a>\n",
    "\n",
    "\n",
    "\n",
    "# Actividad 5\n",
    "### Métodos computacionales para físicos  y astrónomos\n",
    "### Universidad de Antioquia\n",
    "### Prof: Hernan D. Salinas Jiménez\n",
    "Ref: https://github.com/restrepo/ComputationalMethods"
   ]
  },
  {
   "cell_type": "markdown",
   "id": "8e59c672",
   "metadata": {},
   "source": [
    "1. Implementar el metodo de la bisección para determinar las raices de una función.\n",
    "2. Implementar el metodo de la newton para determinar las raices de una función.\n",
    "\n",
    "Prueba tu resultado para:\n"
   ]
  },
  {
   "cell_type": "markdown",
   "id": "ee7acda4",
   "metadata": {},
   "source": [
    "  \n",
    " 2. $a e^{x}-2= b\\cos(e^x-2)$"
   ]
  },
  {
   "cell_type": "code",
   "execution_count": null,
   "id": "d0073dbf",
   "metadata": {},
   "outputs": [],
   "source": []
  }
 ],
 "metadata": {
  "kernelspec": {
   "display_name": "Python 3 (ipykernel)",
   "language": "python",
   "name": "python3"
  },
  "language_info": {
   "codemirror_mode": {
    "name": "ipython",
    "version": 3
   },
   "file_extension": ".py",
   "mimetype": "text/x-python",
   "name": "python",
   "nbconvert_exporter": "python",
   "pygments_lexer": "ipython3",
   "version": "3.10.9"
  }
 },
 "nbformat": 4,
 "nbformat_minor": 5
}
