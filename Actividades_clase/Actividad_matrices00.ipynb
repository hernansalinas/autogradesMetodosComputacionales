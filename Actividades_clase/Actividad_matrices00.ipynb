{
 "cells": [
  {
   "cell_type": "markdown",
   "id": "703ddc37",
   "metadata": {},
   "source": [
    "# Actividad matrices\n",
    "\n",
    "Para los siguientes enunciados trabajar con matrices simbolicas y objetos de numpy.\n",
    "\n",
    "1. Disenar un programa que permita sumar dos matrices.\n",
    "2. Disenar un programa que permita multiplicar dos matrices.\n",
    "3. Determinar la transpuesta de una matrix\n",
    "\n",
    "4. La matriz de rotación en 2D. Es una matriz que se usa para rotar puntos en el plano xy en sentido antihorario alrededor del origen. La matriz tiene la siguiente forma:\n",
    "\n",
    "\n",
    "\\begin{equation}\n",
    "R(\\theta) = \\begin{bmatrix}\n",
    "\\cos \\theta & -\\sin \\theta \\\\\n",
    "\\sin \\theta & \\cos \\theta\n",
    "\\end{bmatrix}\n",
    "\\end{equation}\n",
    "\n",
    "Construir un programa en python que permita realizar la rotación de un vector un ángulo theta, Mostrar\n",
    "la representación vectorial en el plano indicando la rotacion a realizar. \n",
    "\n",
    "Pruebe su solución para el vector $\\vec{v}=(1,1)$ rotado 20grados en sentido antihorario. Muestre el vector antes de la rotación y después de la rotación  \n"
   ]
  },
  {
   "cell_type": "code",
   "execution_count": 36,
   "id": "fad9fa23",
   "metadata": {},
   "outputs": [],
   "source": [
    "A=np.array(([1,2],[1,1]))"
   ]
  },
  {
   "cell_type": "code",
   "execution_count": 38,
   "id": "c474d700",
   "metadata": {},
   "outputs": [
    {
     "ename": "AttributeError",
     "evalue": "'numpy.ndarray' object has no attribute 'I'",
     "output_type": "error",
     "traceback": [
      "\u001b[0;31m---------------------------------------------------------------------------\u001b[0m",
      "\u001b[0;31mAttributeError\u001b[0m                            Traceback (most recent call last)",
      "Cell \u001b[0;32mIn[38], line 1\u001b[0m\n\u001b[0;32m----> 1\u001b[0m \u001b[43mA\u001b[49m\u001b[38;5;241;43m.\u001b[39;49m\u001b[43mI\u001b[49m\n",
      "\u001b[0;31mAttributeError\u001b[0m: 'numpy.ndarray' object has no attribute 'I'"
     ]
    }
   ],
   "source": [
    "np.linalg."
   ]
  },
  {
   "cell_type": "code",
   "execution_count": 39,
   "id": "bb7ecdaf",
   "metadata": {},
   "outputs": [],
   "source": [
    "from scipy import linalg"
   ]
  },
  {
   "cell_type": "code",
   "execution_count": 41,
   "id": "650a6173",
   "metadata": {},
   "outputs": [
    {
     "ename": "AttributeError",
     "evalue": "module 'scipy.linalg' has no attribute 'inverse'",
     "output_type": "error",
     "traceback": [
      "\u001b[0;31m---------------------------------------------------------------------------\u001b[0m",
      "\u001b[0;31mAttributeError\u001b[0m                            Traceback (most recent call last)",
      "Cell \u001b[0;32mIn[41], line 1\u001b[0m\n\u001b[0;32m----> 1\u001b[0m \u001b[43mlinalg\u001b[49m\u001b[38;5;241;43m.\u001b[39;49m\u001b[43minverse\u001b[49m(A)\n",
      "\u001b[0;31mAttributeError\u001b[0m: module 'scipy.linalg' has no attribute 'inverse'"
     ]
    }
   ],
   "source": [
    "np"
   ]
  },
  {
   "cell_type": "code",
   "execution_count": null,
   "id": "1465558f",
   "metadata": {},
   "outputs": [],
   "source": []
  }
 ],
 "metadata": {
  "kernelspec": {
   "display_name": "Python 3 (ipykernel)",
   "language": "python",
   "name": "python3"
  },
  "language_info": {
   "codemirror_mode": {
    "name": "ipython",
    "version": 3
   },
   "file_extension": ".py",
   "mimetype": "text/x-python",
   "name": "python",
   "nbconvert_exporter": "python",
   "pygments_lexer": "ipython3",
   "version": "3.10.9"
  }
 },
 "nbformat": 4,
 "nbformat_minor": 5
}
