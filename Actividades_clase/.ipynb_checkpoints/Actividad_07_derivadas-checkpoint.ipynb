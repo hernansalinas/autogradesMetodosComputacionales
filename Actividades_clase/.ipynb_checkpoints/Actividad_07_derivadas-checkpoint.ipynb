{
 "cells": [
  {
   "cell_type": "markdown",
   "id": "90baaaf7",
   "metadata": {},
   "source": [
    "<a href=\"https://colab.research.google.com/github/hernansalinas/autogrades/blob/main/Actividades_clase/Actividad_06_interpolacion.pynb\" target=\"_parent\"><img src=\"https://colab.research.google.com/assets/colab-badge.svg\" alt=\"Open In Colab\"/></a>\n",
    "\n",
    "\n",
    "\n",
    "# Actividad 6\n",
    "### Métodos computacionales para físicos  y astrónomos\n",
    "### Universidad de Antioquia\n",
    "### Prof: Hernan D. Salinas Jiménez\n",
    "Ref: https://github.com/restrepo/ComputationalMethods"
   ]
  },
  {
   "cell_type": "markdown",
   "id": "494edb2b",
   "metadata": {},
   "source": [
    "1. Construir una funcion que calcule la derivada de la siguiente función:\n",
    "\n",
    "\n",
    "\n",
    "2. Empleando "
   ]
  },
  {
   "cell_type": "code",
   "execution_count": null,
   "id": "d9dfaf0f",
   "metadata": {},
   "outputs": [],
   "source": []
  }
 ],
 "metadata": {
  "kernelspec": {
   "display_name": "Python 3 (ipykernel)",
   "language": "python",
   "name": "python3"
  },
  "language_info": {
   "codemirror_mode": {
    "name": "ipython",
    "version": 3
   },
   "file_extension": ".py",
   "mimetype": "text/x-python",
   "name": "python",
   "nbconvert_exporter": "python",
   "pygments_lexer": "ipython3",
   "version": "3.8.12"
  }
 },
 "nbformat": 4,
 "nbformat_minor": 5
}
