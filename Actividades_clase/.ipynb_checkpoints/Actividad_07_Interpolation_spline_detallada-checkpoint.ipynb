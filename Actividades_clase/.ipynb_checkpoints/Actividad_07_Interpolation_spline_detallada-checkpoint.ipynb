{
 "cells": [
  {
   "cell_type": "markdown",
   "metadata": {},
   "source": [
    "<a href=\"https://colab.research.google.com/github/hernansalinas/autogrades/blob/main/Actividades_clase/Actividad_07_Interpolation_spline_detallada.pynb\" target=\"_parent\"><img src=\"https://colab.research.google.com/assets/colab-badge.svg\" alt=\"Open In Colab\"/></a>\n"
   ]
  },
  {
   "cell_type": "markdown",
   "metadata": {},
   "source": [
    "Actividad :\n",
    "\n",
    "Entender el siguiente código para realizar la interpolación de splinbe de forma detallada. Agregar un punto adicional y realizar un proceso analogo al detallado a continuación."
   ]
  },
  {
   "cell_type": "markdown",
   "metadata": {
    "id": "LAi7gwybR1zQ"
   },
   "source": [
    "# Spline interpolacion\n",
    "  "
   ]
  },
  {
   "cell_type": "code",
   "execution_count": 1,
   "metadata": {
    "id": "KCviXwLQR1zV"
   },
   "outputs": [],
   "source": [
    "import numpy as np\n",
    "import matplotlib.pylab as plt\n",
    "from numpy.linalg import solve\n",
    "%matplotlib inline\n",
    "#REF: Adaptado de  https://github.com/rrgalvan"
   ]
  },
  {
   "cell_type": "markdown",
   "metadata": {
    "id": "rfMQrtUZR1zf"
   },
   "source": [
    "Calcular el spline cúbico que interpola los puntos $(-1,5)$, $(0,3)$, $(0,3)$."
   ]
  },
  {
   "cell_type": "code",
   "execution_count": 2,
   "metadata": {
    "id": "dWntiVEoR1zh"
   },
   "outputs": [],
   "source": [
    "x0, x1, x2 = -1, 0, 1\n",
    "_x = np.array([x0, x1, x2])\n",
    "y0, y1, y2 =  5, 3, 3\n",
    "_y = np.array([y0, y1, y2])"
   ]
  },
  {
   "cell_type": "markdown",
   "metadata": {
    "id": "l-GSuaVdR1zo"
   },
   "source": [
    "Para calcular los splines cúbicos debemos resolver el sistema de ecuaciones que define los coeficientes de los polinomios cúbicos en los subintervalos $[-1,0]$ y $[0,1]$. Empleando las condiciones del metodo de spline, y defiendo los polinomios para garantizar la continuidad en cada unos de los puntos, tenemos que:\n",
    "\n",
    "Sean:\n",
    "  * $s_0(x) = a_0 + b_0 (x-x_0) + c_0 (x-x_0)^2 + d_0 (x-x_0)^3$,\n",
    "  * $s_1(x) = a_1 + b_1 (x-x_1) + c_1 (x-x_1)^2 + d_1 (x-x_1)^3$,\n",
    "\n",
    "es decir:\n",
    "  * $s_0(x) = a_0 + b_0 (x+1) + c_0 (x+1)^2 + d_0 (x+1)^3$,\n",
    "  * $s_1(x) = a_1 + b_1 x + c_1 x^2 + d_1 x^3$.\n",
    "\n",
    "Entonces\n",
    "  * $s_0'(x) =  b_0 + 2 c_0 (x+1) + 3 d_0 (x+1)^2$,\n",
    "  * $s_0''(x) = 2 c_0 + 6 d_0 (x+1)$,\n",
    "  * $s_1'(x) =  b_1 + 2 c_1 x + 3 d_1 x^2$,\n",
    "  * $s_1''(x) = 2 c_1 + 6 d_1 x$.\n",
    "\n",
    "Tenemos 8 incógnitas, $a_i$, $b_i$, $c_i$, $d_i$ con $i=0,1$. Las ecuaciones son:\n",
    "\n",
    "  * Interpolación (y continuidad en 0):\n",
    "\n",
    "    * $s_0(-1) = 5$, es decir, $a_0=5$.\n",
    "    * $s_0(0)  = 3$, es decir, $a_0+b_0+c_0+d_0=3$.\n",
    "    * $s_1(0) = 3$, es decir, $a_1=3$.\n",
    "    * $s_1(1)  = 3$, es decir, $a_1+b_1+c_1+d_1=3$.\n",
    "    \n",
    "  * Derivabilidad:\n",
    "\n",
    "    * $s_0'(0) = s_1'(-1)$, es decir, $b_0+2c_0+3d_0 = b_1$.\n",
    "    * $s_0''(0) = s_1''(-1)$, es decir, $2c_0+6d_0 = 2c_1$.\n",
    "\n",
    "  * Condiciones naturales en los extremos, $-1$ y $1$:\n",
    "\n",
    "    * $s_0''(-1) = 0$, es decir, $2c_0=0$.\n",
    "    * $s_1''(1) = 0$, o sea $2c_1+6d_1=0$.\n",
    "\n",
    "\n",
    "De estas ecuaciones tenemos directamente $a_0$, $a_1$, y $c_1$. Le damos valores a las variables en python:"
   ]
  },
  {
   "cell_type": "code",
   "execution_count": null,
   "metadata": {
    "id": "5sxEuNwNR1zp"
   },
   "outputs": [],
   "source": [
    "a0 = 5\n",
    "a1 = 3\n",
    "c0 = 0"
   ]
  },
  {
   "cell_type": "markdown",
   "metadata": {
    "id": "eZScj4sDR1zu"
   },
   "source": [
    "Así, podemos eliminar la primera, tercera y séptima ecuación, llegando a un sistema de cinco ecuaciones con cinco incógnitas ($b_0$, $d_0$, $b_1$, $c_1$, $d_1$):\n",
    "\n",
    " * $b_0+d_0=3-a_0-c_0=-2$,\n",
    " * $b_1+c_1+d_1=3-a_1=0$,\n",
    " * $b_0+3d_0 - b_1 = -2c_0 = 0$,\n",
    " * $6d_0 - 2c_1 = -2c_0=0$\n",
    " * $2c_1+6d_1=0$\n",
    "\n",
    "\n",
    "La matriz y el segundo miembro asociados son:"
   ]
  },
  {
   "cell_type": "code",
   "execution_count": null,
   "metadata": {
    "id": "psxIbmXlR1zw"
   },
   "outputs": [],
   "source": [
    "A = np.array([\n",
    "\t[ 1, 1,   0,  0, 0],\n",
    "\t[ 0, 0,   1,  1, 1],\n",
    "\t[ 1, 3,  -1,  0, 0],\n",
    "\t[ 0, 6,   0, -2, 0],\n",
    "\t[ 0, 0,   0,  2, 6]])\n",
    "b = np.array([-2, 0, 0, 0, 0])"
   ]
  },
  {
   "cell_type": "code",
   "execution_count": null,
   "metadata": {
    "colab": {
     "base_uri": "https://localhost:8080/",
     "height": 34
    },
    "id": "WwMP5DSdVCuD",
    "outputId": "a3806283-4f1d-422d-d3e3-da19aeda0517"
   },
   "outputs": [
    {
     "name": "stdout",
     "output_type": "stream",
     "text": [
      "[-2.5  0.5 -1.   1.5 -0.5]\n"
     ]
    }
   ],
   "source": [
    "sol = solve(A,b)\n",
    "print(sol)"
   ]
  },
  {
   "cell_type": "markdown",
   "metadata": {
    "id": "1bjXd0wHR1z1"
   },
   "source": [
    "Ahora podemos resolver este sistema usando la función `solve()` (incluida en el modulo \"linalg\" del paquete *numpy*):"
   ]
  },
  {
   "cell_type": "code",
   "execution_count": null,
   "metadata": {
    "colab": {
     "base_uri": "https://localhost:8080/",
     "height": 51
    },
    "id": "NWQhfHd_R1z3",
    "outputId": "068c6ba6-fab8-4b92-d5f2-66377a31f507"
   },
   "outputs": [
    {
     "name": "stdout",
     "output_type": "stream",
     "text": [
      "a0, b0, c0, d0 = 5.000000, -2.500000, 0.000000, 0.500000\n",
      "a1, b1, c1, d1 = 3.000000, -1.000000, 1.500000, -0.500000\n"
     ]
    }
   ],
   "source": [
    "sol = solve(A,b)\n",
    "\n",
    "# Definimos la solución como variables b0, d0, b1, c1 y d1\n",
    "b0, d0, b1, c1, d1 = sol\n",
    "\n",
    "# Y mostramos los resultados\n",
    "print (\"a0, b0, c0, d0 = %f, %f, %f, %f\" % (a0, b0, c0, d0))\n",
    "print (\"a1, b1, c1, d1 = %f, %f, %f, %f\" % (a1, b1, c1, d1))"
   ]
  },
  {
   "cell_type": "markdown",
   "metadata": {
    "id": "SP51eFLgR1z_"
   },
   "source": [
    "Para dibujar la gráfica, lo más fácil es definir los polinomios $s_0$ y $s_1$ y representarlos gráficamente."
   ]
  },
  {
   "cell_type": "code",
   "execution_count": null,
   "metadata": {
    "colab": {
     "base_uri": "https://localhost:8080/",
     "height": 518
    },
    "id": "iZCSh6rkR10A",
    "outputId": "a7f26a77-41d2-489a-cbce-637c0a4155e8"
   },
   "outputs": [
    {
     "data": {
      "image/png": "[encoded data removed]",
      "text/plain": [
       "<Figure size 720x576 with 1 Axes>"
      ]
     },
     "metadata": {
      "tags": []
     },
     "output_type": "display_data"
    }
   ],
   "source": [
    "def s0(x):\n",
    "    return a0 + b0*(x+1) + c0*(x+1)**2 + d0*(x+1)**3\n",
    "def s1(x):\n",
    "    return a1 + b1*x + c1*x**2 + d1*x**3\n",
    "\n",
    "xx0 = np.linspace(-1,0)\n",
    "xx1 = np.linspace(0,1)\n",
    "\n",
    "plt.figure(figsize=(10, 8))\n",
    "plt.plot(xx0, s0(xx0), lw=3, label = \"S0\")\n",
    "plt.plot(xx1, s1(xx1), lw=3, label = \"S1\")\n",
    "plt.plot(_x, _y, 'o')\n",
    "plt.axvline(color = \"k\", ls=\"-.\")\n",
    "plt.ylabel(\"f(x)\", fontsize=20)\n",
    "plt.xlabel(\"x\", fontsize=20)\n",
    "plt.xticks(fontsize=20)\n",
    "plt.yticks(fontsize=20)\n",
    "plt.legend(loc = \"upper right\", fontsize= 20)\n",
    "plt.grid()\n",
    "plt.show()"
   ]
  }
 ],
 "metadata": {
  "colab": {
   "provenance": []
  },
  "kernelspec": {
   "display_name": "Python 3 (ipykernel)",
   "language": "python",
   "name": "python3"
  },
  "language_info": {
   "codemirror_mode": {
    "name": "ipython",
    "version": 3
   },
   "file_extension": ".py",
   "mimetype": "text/x-python",
   "name": "python",
   "nbconvert_exporter": "python",
   "pygments_lexer": "ipython3",
   "version": "3.10.9"
  }
 },
 "nbformat": 4,
 "nbformat_minor": 1
}
