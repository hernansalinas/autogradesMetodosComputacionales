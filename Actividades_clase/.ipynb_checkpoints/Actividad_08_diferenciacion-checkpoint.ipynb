{
 "cells": [
  {
   "cell_type": "markdown",
   "metadata": {
    "id": "NCx8KEwrIRxy"
   },
   "source": [
    "<a href=\"https://colab.research.google.com/github/hernansalinas/autogrades/blob/main/Actividades_clase/Actividad_08_diferenciacion.ipynb\" target=\"_parent\"><img src=\"https://colab.research.google.com/assets/colab-badge.svg\" alt=\"Open In Colab\"/></a>"
   ]
  },
  {
   "cell_type": "markdown",
   "metadata": {
    "id": "OmQK_OJm5k08"
   },
   "source": [
    "# Calculo de derivadas\n",
    "\n",
    "\n",
    "## Diferencias finitas de primer orden\n",
    "El método de diferencias finitas aproxima derivadas numéricamente.\n",
    "\n",
    "\n",
    "- Aproximación de primer orden hacia adelante:\n",
    "\n",
    "\\begin{equation}\n",
    "      f'(x_k) \\approx \\frac{f(x_{k+1}) - f(x_k)}{h}\n",
    "\\end{equation}\n",
    "\n",
    "- Aproximación de primer orden hacia atrás:\n",
    "\n",
    "\\begin{equation}\n",
    "      f'(x_k) \\approx \\frac{f(x_k) - f(x_{k-1})}{h}\n",
    "\\end{equation}\n",
    "\n",
    "\n",
    "\n",
    "\\begin{equation}\n",
    "\\text{Error} = \\frac{h}{2} f''(\\xi)\n",
    "\\end{equation}\n",
    "\n",
    "donde $x$ está entre $x_k$ y $x_{k+1}$.\n",
    "## Diferencias finitas de segundo orden, diferencia central\n",
    "\n",
    "\n",
    "Utilizando la fórmula de Taylor de segundo grado:\n",
    "\\begin{equation}\n",
    "f(x) = f(x_k) + f'(x_k)(x - x_k) + \\frac{f''(x_k)}{2}(x - x_k)^2 + R_2\n",
    "\\end{equation}\n",
    "\n",
    "Evaluando en $x = x_{k+1} y x = x_{k-1}$:\n",
    "\\begin{equation}\n",
    "f(x_{k+1}) = f(x_k) + f'(x_k)h + \\frac{f''(x_k)}{2}h^2 + O(h^3)\n",
    "\\end{equation}\n",
    "\n",
    "\\begin{equation}\n",
    "f(x_{k-1}) = f(x_k) - f'(x_k)h + \\frac{f''(x_k)}{2}h^2 + O(h^3)\n",
    "\\end{equation}\n",
    "\n",
    "Restando estas ecuaciones y despejando $f'(x_k)$:\n",
    "\n",
    "\\begin{equation}\n",
    "f'(x_k) \\approx \\frac{f(x_{k+1}) - f(x_{k-1})}{2h}\n",
    "\\end{equation}\n",
    "\n",
    "\n",
    "\n",
    "\n",
    "El error en la la aproximación de segundo orden es:\n",
    "\\begin{equation}\n",
    "f'(x_k) \\approx \\frac{f(x_{k+1}) - f(x_{k-1})}{2h}\n",
    "\\end{equation}\n",
    "\n",
    "El error de truncamiento es:\n",
    "\\begin{equation}\n",
    "\\text{Error} = \\frac{h^2}{6} f'''(\\xi)\n",
    "\\end{equation}\n",
    "\n",
    "donde $\\xi$ está entre $x_{k-1}$ y $x_{k+1}$."
   ]
  },
  {
   "cell_type": "markdown",
   "metadata": {
    "id": "Whc2Zv4IEKRL"
   },
   "source": [
    "\n",
    "# Actividad\n",
    "\n",
    "1. Construya una función que permita calcular la derivada de una funcion empleando el metodo de diferencias centrales para aproximar el cálculo de la derivada con la función:\n",
    "\n",
    "$y=e^{x^2}\\sin x $\n",
    "\n",
    "Compruebe  su solución empleando la derivada de sympy.\n",
    "\n",
    "Analice que  pasa con la derivada cuando varia el valor de h.\n",
    "\n",
    "\n",
    "2. Construya una función que permita calcular el metodo de diferencias centrales derivada para los siguientes puntos experimentales, emplee una pandas.\n",
    "\n"
   ]
  },
  {
   "cell_type": "markdown",
   "metadata": {
    "id": "dzs4T6lzD2OZ"
   },
   "source": [
    "3. El potencial eléctrico de un anillo de radio R, en la parte superior z del anillo viene dado por:\n",
    "\n",
    "\n",
    "\\begin{equation}\n",
    "V = \\frac{kq_{tot}z}{\\sqrt{z^2+R^2}}\n",
    "\\end{equation}\n",
    "\n",
    "Calcule el campo eléctrico para z>0 y R=0.1mm. Reescale el problema en unidades de $kq_{top}$ empleando:\n",
    "\n",
    "1. La librearia sympy.\n",
    "\n",
    "2. Calcular el campo en el punto  $z = 0.1mm$ empleando el metodo np.grad\n",
    "\n",
    "3. Calcular el campo para diferentes valores de z con z>0,,  empleando np.grad Construya un gráfico de E vs z.\n"
   ]
  },
  {
   "cell_type": "code",
   "execution_count": null,
   "metadata": {
    "id": "FXwafGtSDx7i"
   },
   "outputs": [],
   "source": []
  },
  {
   "cell_type": "code",
   "execution_count": null,
   "metadata": {
    "id": "dPGmqGCIDK2n"
   },
   "outputs": [],
   "source": []
  }
 ],
 "metadata": {
  "colab": {
   "provenance": []
  },
  "kernelspec": {
   "display_name": "Python 3 (ipykernel)",
   "language": "python",
   "name": "python3"
  },
  "language_info": {
   "codemirror_mode": {
    "name": "ipython",
    "version": 3
   },
   "file_extension": ".py",
   "mimetype": "text/x-python",
   "name": "python",
   "nbconvert_exporter": "python",
   "pygments_lexer": "ipython3",
   "version": "3.10.9"
  }
 },
 "nbformat": 4,
 "nbformat_minor": 1
}
