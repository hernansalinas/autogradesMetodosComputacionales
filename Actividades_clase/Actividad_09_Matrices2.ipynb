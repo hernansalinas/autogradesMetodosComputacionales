{
  "cells": [
    {
      "cell_type": "markdown",
      "metadata": {},
      "source": [
        "<a href=\"https://colab.research.google.com/github/hernansalinas/autogrades/blob/main/Actividades_clase/Actividad_09_Matrices2.ipynb\" target=\"_parent\"><img src=\"https://colab.research.google.com/assets/colab-badge.svg\" alt=\"Open In Colab\"/></a>"
      ]
    },
    {
      "cell_type": "code",
      "execution_count": 2,
      "metadata": {
        "id": "LGEtqLJlw2eb"
      },
      "outputs": [],
      "source": [
        "import numpy as np\n",
        "import pandas as pd\n",
        "import sympy as sy"
      ]
    },
    {
      "cell_type": "markdown",
      "metadata": {
        "id": "wtJNu-2mLSsV"
      },
      "source": [
        "# Arreglos de numpy"
      ]
    },
    {
      "cell_type": "code",
      "execution_count": 58,
      "metadata": {
        "colab": {
          "base_uri": "https://localhost:8080/"
        },
        "id": "97ecIcqMhbru",
        "outputId": "afb79b9a-31db-47ad-e81a-0c6a6fb50d69"
      },
      "outputs": [
        {
          "data": {
            "text/plain": [
              "array([[ 3,  2, 24, 25, 37, 30],\n",
              "       [30, 30, 41, 34, 33, 30],\n",
              "       [31, 11, 51,  7, 44, 27],\n",
              "       [45, 33, 47, 42, 39, 16],\n",
              "       [10, 22, 20, 48, 28,  3],\n",
              "       [12, 13, 13, 14, 41, 14]])"
            ]
          },
          "execution_count": 58,
          "metadata": {},
          "output_type": "execute_result"
        }
      ],
      "source": [
        "# Generemos una arreglos ndimensaionales, ¿como podemos acceder a los elementos?\n",
        "X = np.random.randint(0, 55, (6,6))\n",
        "X"
      ]
    },
    {
      "cell_type": "code",
      "execution_count": 59,
      "metadata": {
        "colab": {
          "base_uri": "https://localhost:8080/"
        },
        "id": "UPZ4HVeSiAa_",
        "outputId": "5e1a08c7-734d-40ad-8208-eea2b923d2d8"
      },
      "outputs": [
        {
          "data": {
            "text/plain": [
              "array([ 3,  2, 24, 25, 37, 30])"
            ]
          },
          "execution_count": 59,
          "metadata": {},
          "output_type": "execute_result"
        }
      ],
      "source": [
        "X[0]"
      ]
    },
    {
      "cell_type": "code",
      "execution_count": 60,
      "metadata": {
        "colab": {
          "base_uri": "https://localhost:8080/"
        },
        "id": "FfnQsOUDibOE",
        "outputId": "b8e65e9c-8f1f-4621-a4c9-03cd112d0201"
      },
      "outputs": [
        {
          "data": {
            "text/plain": [
              "array([ 2, 24, 25])"
            ]
          },
          "execution_count": 60,
          "metadata": {},
          "output_type": "execute_result"
        }
      ],
      "source": [
        "X[0][1:4]"
      ]
    },
    {
      "cell_type": "code",
      "execution_count": 61,
      "metadata": {
        "colab": {
          "base_uri": "https://localhost:8080/"
        },
        "id": "vkNXHb5rizs5",
        "outputId": "4bce2cd3-2e81-4cc3-b9be-e60afc22de02"
      },
      "outputs": [
        {
          "data": {
            "text/plain": [
              "array([ 2, 25])"
            ]
          },
          "execution_count": 61,
          "metadata": {},
          "output_type": "execute_result"
        }
      ],
      "source": [
        "X[0, 1:4:2]"
      ]
    },
    {
      "cell_type": "code",
      "execution_count": 62,
      "metadata": {
        "colab": {
          "base_uri": "https://localhost:8080/"
        },
        "id": "KMe75hMwletS",
        "outputId": "04cb89d5-fa60-476b-ac32-75549c5902a7"
      },
      "outputs": [
        {
          "data": {
            "text/plain": [
              "array([[31, 51, 44],\n",
              "       [10, 20, 28]])"
            ]
          },
          "execution_count": 62,
          "metadata": {},
          "output_type": "execute_result"
        }
      ],
      "source": [
        "X[2::2,::2 ]"
      ]
    },
    {
      "cell_type": "code",
      "execution_count": 63,
      "metadata": {
        "id": "hC_QTDyyM0T3"
      },
      "outputs": [],
      "source": [
        "# Permutaciones:"
      ]
    },
    {
      "cell_type": "code",
      "execution_count": 64,
      "metadata": {
        "colab": {
          "base_uri": "https://localhost:8080/"
        },
        "id": "JYhVm8_TM2Tf",
        "outputId": "6567810f-8346-4fc2-8d2b-e28b96f0953b"
      },
      "outputs": [
        {
          "data": {
            "text/plain": [
              "array([[ 3,  2, 24, 25, 37, 30],\n",
              "       [30, 30, 41, 34, 33, 30],\n",
              "       [31, 11, 51,  7, 44, 27],\n",
              "       [45, 33, 47, 42, 39, 16],\n",
              "       [10, 22, 20, 48, 28,  3],\n",
              "       [12, 13, 13, 14, 41, 14]])"
            ]
          },
          "execution_count": 64,
          "metadata": {},
          "output_type": "execute_result"
        }
      ],
      "source": [
        "X"
      ]
    },
    {
      "cell_type": "code",
      "execution_count": 65,
      "metadata": {
        "id": "m-oTG0W7M4Ku"
      },
      "outputs": [],
      "source": [
        "X[[2,1]] =X[[1,2]]"
      ]
    },
    {
      "cell_type": "code",
      "execution_count": 66,
      "metadata": {
        "colab": {
          "base_uri": "https://localhost:8080/"
        },
        "id": "cc_qEzAeNdmX",
        "outputId": "cc85d54b-e99d-418e-bd4b-bc3c6fe2fa8f"
      },
      "outputs": [
        {
          "data": {
            "text/plain": [
              "array([[ 3,  2, 24, 25, 37, 30],\n",
              "       [31, 11, 51,  7, 44, 27],\n",
              "       [30, 30, 41, 34, 33, 30],\n",
              "       [45, 33, 47, 42, 39, 16],\n",
              "       [10, 22, 20, 48, 28,  3],\n",
              "       [12, 13, 13, 14, 41, 14]])"
            ]
          },
          "execution_count": 66,
          "metadata": {},
          "output_type": "execute_result"
        }
      ],
      "source": [
        "X"
      ]
    },
    {
      "cell_type": "code",
      "execution_count": 67,
      "metadata": {
        "id": "tpPPxUiULgge"
      },
      "outputs": [],
      "source": [
        "# Operaciones matriciales"
      ]
    },
    {
      "cell_type": "code",
      "execution_count": 68,
      "metadata": {
        "colab": {
          "base_uri": "https://localhost:8080/"
        },
        "id": "U8snX3DpLXtp",
        "outputId": "6391f78d-5dca-425f-f8da-2cca6e106e0d"
      },
      "outputs": [
        {
          "data": {
            "text/plain": [
              "array([[-2. ,  1. ],\n",
              "       [ 1.5, -0.5]])"
            ]
          },
          "execution_count": 68,
          "metadata": {},
          "output_type": "execute_result"
        }
      ],
      "source": [
        "X=np.array([[1,2],[3,4]])\n",
        "B=np.array([[5,2],[1,4]])\n",
        "np.linalg.inv(X)"
      ]
    },
    {
      "cell_type": "code",
      "execution_count": 69,
      "metadata": {
        "colab": {
          "base_uri": "https://localhost:8080/"
        },
        "id": "XwCim3VlLfKU",
        "outputId": "8c1604b6-4e32-4817-9699-87ade07efc00"
      },
      "outputs": [
        {
          "data": {
            "text/plain": [
              "-2.0000000000000004"
            ]
          },
          "execution_count": 69,
          "metadata": {},
          "output_type": "execute_result"
        }
      ],
      "source": [
        "np.linalg.det(X)"
      ]
    },
    {
      "cell_type": "code",
      "execution_count": 70,
      "metadata": {
        "colab": {
          "base_uri": "https://localhost:8080/"
        },
        "id": "JyXfDy4TL46a",
        "outputId": "8a4849b7-e0ae-49eb-d171-12ce6f0076b4"
      },
      "outputs": [
        {
          "data": {
            "text/plain": [
              "(-13+0j)"
            ]
          },
          "execution_count": 70,
          "metadata": {},
          "output_type": "execute_result"
        }
      ],
      "source": [
        "np.dot([2j, 3j], [2j, 3j])"
      ]
    },
    {
      "cell_type": "code",
      "execution_count": 71,
      "metadata": {
        "colab": {
          "base_uri": "https://localhost:8080/"
        },
        "id": "WPC3XJLjMTvU",
        "outputId": "c26f1f88-c0e6-4642-f689-2e924570b418"
      },
      "outputs": [
        {
          "data": {
            "text/plain": [
              "array([[ 5,  4],\n",
              "       [ 3, 16]])"
            ]
          },
          "execution_count": 71,
          "metadata": {},
          "output_type": "execute_result"
        }
      ],
      "source": [
        "X*B"
      ]
    },
    {
      "cell_type": "code",
      "execution_count": 72,
      "metadata": {
        "colab": {
          "base_uri": "https://localhost:8080/"
        },
        "id": "SXr0_TeBMf2m",
        "outputId": "d45745c6-29ab-4fcd-960a-7103c76ae764"
      },
      "outputs": [
        {
          "data": {
            "text/plain": [
              "array([[ 7, 10],\n",
              "       [19, 22]])"
            ]
          },
          "execution_count": 72,
          "metadata": {},
          "output_type": "execute_result"
        }
      ],
      "source": [
        "X@B"
      ]
    },
    {
      "cell_type": "code",
      "execution_count": 73,
      "metadata": {
        "colab": {
          "base_uri": "https://localhost:8080/"
        },
        "id": "Ht4V1OxIMg40",
        "outputId": "959516fe-c3d7-4f46-e478-b5d406ecfdc6"
      },
      "outputs": [
        {
          "data": {
            "text/plain": [
              "array([[ 7, 10],\n",
              "       [19, 22]])"
            ]
          },
          "execution_count": 73,
          "metadata": {},
          "output_type": "execute_result"
        }
      ],
      "source": [
        "np.matmul(X,B)"
      ]
    },
    {
      "cell_type": "markdown",
      "metadata": {
        "id": "wOgkVu4yL-mp"
      },
      "source": [
        "# Algunos ejemplo\n",
        "\n",
        "```python\n",
        "import numpy as np\n",
        "\n",
        "# Producto de matrices\n",
        "A = np.array([[1, 2], [3, 4]])\n",
        "B = np.array([[5, 6], [7, 8]])\n",
        "producto = np.dot(A, B)\n",
        "\n",
        "# Determinante de una matriz\n",
        "C = np.array([[9, 2], [3, 4]])\n",
        "determinante = np.linalg.det(C)\n",
        "\n",
        "# Inversa de una matriz\n",
        "D = np.array([[2, 5], [1, 3]])\n",
        "inversa = np.linalg.inv(D)\n",
        "\n",
        "# Autovalores y autovectores\n",
        "E = np.array([[2, 0], [0, 3]])\n",
        "autovalores, autovectores = np.linalg.eig(E)\n",
        "\n",
        "# Resolución de sistemas de ecuaciones lineales\n",
        "F = np.array([[1, 1], [1, -1]])\n",
        "b = np.array([5, 1])\n",
        "solucion = np.linalg.solve(F, b)\n",
        "\n",
        "\n",
        "# Norma de un vector o matriz\n",
        "H = np.array([1, 2, 3])\n",
        "norma = np.linalg.norm(H)\n",
        "\n",
        "# Rango de una matriz\n",
        "I = np.array([[1, 2], [2, 4]])\n",
        "rango = np.linalg.matrix_rank(I)\n",
        "\n",
        "# Potencia de una matriz\n",
        "J = np.array([[1, 2], [3, 4]])\n",
        "potencia = np.linalg.matrix_power(J, 3)\n",
        "\n",
        "# Descomposición SVD\n",
        "G = np.array([[1, 2], [3, 4]])\n",
        "U, S, V = np.linalg.svd(G)\n",
        "\n",
        "\n",
        "```\n"
      ]
    },
    {
      "cell_type": "markdown",
      "metadata": {
        "id": "iV1bdIUxLOwM"
      },
      "source": [
        "# Matrices de numpy"
      ]
    },
    {
      "cell_type": "code",
      "execution_count": 74,
      "metadata": {
        "colab": {
          "base_uri": "https://localhost:8080/"
        },
        "id": "ZoTW7RE1mDjk",
        "outputId": "14a05fb9-1984-4c11-b147-b7bcd121b13c"
      },
      "outputs": [
        {
          "data": {
            "text/plain": [
              "numpy.matrix"
            ]
          },
          "execution_count": 74,
          "metadata": {},
          "output_type": "execute_result"
        }
      ],
      "source": [
        "M = np.matrix(X)\n",
        "type(M)"
      ]
    },
    {
      "cell_type": "code",
      "execution_count": 75,
      "metadata": {
        "colab": {
          "base_uri": "https://localhost:8080/"
        },
        "id": "smYYFQDnmSHx",
        "outputId": "13769bec-363a-48b7-82a3-bf103683b389"
      },
      "outputs": [
        {
          "data": {
            "text/plain": [
              "matrix([[ 7, 10],\n",
              "        [15, 22]])"
            ]
          },
          "execution_count": 75,
          "metadata": {},
          "output_type": "execute_result"
        }
      ],
      "source": [
        "M@M"
      ]
    },
    {
      "cell_type": "code",
      "execution_count": 76,
      "metadata": {
        "colab": {
          "base_uri": "https://localhost:8080/"
        },
        "id": "v0j1xF0Xnu3A",
        "outputId": "85564342-6758-47fd-af50-673c46f73374"
      },
      "outputs": [
        {
          "data": {
            "text/plain": [
              "matrix([[1, 3],\n",
              "        [2, 4]])"
            ]
          },
          "execution_count": 76,
          "metadata": {},
          "output_type": "execute_result"
        }
      ],
      "source": [
        "M.T"
      ]
    },
    {
      "cell_type": "code",
      "execution_count": 77,
      "metadata": {
        "colab": {
          "base_uri": "https://localhost:8080/"
        },
        "id": "jsRxH4R9mJFs",
        "outputId": "27d1d956-b4c8-496b-901c-d3042981e811"
      },
      "outputs": [
        {
          "data": {
            "text/plain": [
              "numpy.ndarray"
            ]
          },
          "execution_count": 77,
          "metadata": {},
          "output_type": "execute_result"
        }
      ],
      "source": [
        "type(X)"
      ]
    },
    {
      "cell_type": "code",
      "execution_count": 78,
      "metadata": {
        "colab": {
          "base_uri": "https://localhost:8080/"
        },
        "id": "I6yi4tSzmXkx",
        "outputId": "9a305dad-b071-4fff-da5a-80ff7b9e49cc"
      },
      "outputs": [
        {
          "data": {
            "text/plain": [
              "array([[1, 3],\n",
              "       [2, 4]])"
            ]
          },
          "execution_count": 78,
          "metadata": {},
          "output_type": "execute_result"
        }
      ],
      "source": [
        "np.transpose(X)"
      ]
    },
    {
      "cell_type": "code",
      "execution_count": 79,
      "metadata": {
        "colab": {
          "base_uri": "https://localhost:8080/",
          "height": 137
        },
        "id": "XQviMu9KmhP5",
        "outputId": "99d0c853-952d-4f0f-9c40-f032b5e55b68"
      },
      "outputs": [
        {
          "ename": "NameError",
          "evalue": "name 'symbols' is not defined",
          "output_type": "error",
          "traceback": [
            "\u001b[0;31m---------------------------------------------------------------------------\u001b[0m",
            "\u001b[0;31mNameError\u001b[0m                                 Traceback (most recent call last)",
            "\u001b[0;32m<ipython-input-79-0d3ce2562d18>\u001b[0m in \u001b[0;36m<cell line: 1>\u001b[0;34m()\u001b[0m\n\u001b[0;32m----> 1\u001b[0;31m \u001b[0mx\u001b[0m \u001b[0;34m=\u001b[0m \u001b[0msymbols\u001b[0m\u001b[0;34m(\u001b[0m\u001b[0;34m\"x\"\u001b[0m\u001b[0;34m)\u001b[0m\u001b[0;34m\u001b[0m\u001b[0;34m\u001b[0m\u001b[0m\n\u001b[0m",
            "\u001b[0;31mNameError\u001b[0m: name 'symbols' is not defined"
          ]
        }
      ],
      "source": [
        "x = symbols(\"x\")"
      ]
    },
    {
      "cell_type": "code",
      "execution_count": 80,
      "metadata": {
        "colab": {
          "base_uri": "https://localhost:8080/",
          "height": 170
        },
        "id": "6NQ5_urmm8P5",
        "outputId": "1ba948fd-45f4-4923-bef5-d3631bb289d3"
      },
      "outputs": [
        {
          "ename": "NameError",
          "evalue": "name 'x' is not defined",
          "output_type": "error",
          "traceback": [
            "\u001b[0;31m---------------------------------------------------------------------------\u001b[0m",
            "\u001b[0;31mNameError\u001b[0m                                 Traceback (most recent call last)",
            "\u001b[0;32m<ipython-input-80-20772fa0cd2b>\u001b[0m in \u001b[0;36m<cell line: 1>\u001b[0;34m()\u001b[0m\n\u001b[0;32m----> 1\u001b[0;31m \u001b[0mY\u001b[0m \u001b[0;34m=\u001b[0m \u001b[0mnp\u001b[0m\u001b[0;34m.\u001b[0m\u001b[0marray\u001b[0m\u001b[0;34m(\u001b[0m\u001b[0;34m[\u001b[0m\u001b[0;34m[\u001b[0m\u001b[0mx\u001b[0m\u001b[0;34m**\u001b[0m\u001b[0;36m2\u001b[0m\u001b[0;34m,\u001b[0m\u001b[0msy\u001b[0m\u001b[0;34m.\u001b[0m\u001b[0msin\u001b[0m\u001b[0;34m(\u001b[0m\u001b[0mx\u001b[0m\u001b[0;34m)\u001b[0m\u001b[0;34m]\u001b[0m\u001b[0;34m,\u001b[0m\u001b[0;34m[\u001b[0m\u001b[0mx\u001b[0m\u001b[0;34m,\u001b[0m\u001b[0mx\u001b[0m\u001b[0;34m]\u001b[0m\u001b[0;34m]\u001b[0m\u001b[0;34m)\u001b[0m\u001b[0;34m\u001b[0m\u001b[0;34m\u001b[0m\u001b[0m\n\u001b[0m\u001b[1;32m      2\u001b[0m \u001b[0mq\u001b[0m \u001b[0;34m=\u001b[0m \u001b[0mMatrix\u001b[0m\u001b[0;34m(\u001b[0m\u001b[0mY\u001b[0m\u001b[0;34m)\u001b[0m\u001b[0;34m\u001b[0m\u001b[0;34m\u001b[0m\u001b[0m\n\u001b[1;32m      3\u001b[0m \u001b[0mq\u001b[0m\u001b[0;34m\u001b[0m\u001b[0;34m\u001b[0m\u001b[0m\n",
            "\u001b[0;31mNameError\u001b[0m: name 'x' is not defined"
          ]
        }
      ],
      "source": [
        "Y = np.array([[x**2,sy.sin(x)],[x,x]])\n",
        "q = Matrix(Y)\n",
        "q"
      ]
    },
    {
      "cell_type": "code",
      "execution_count": null,
      "metadata": {
        "colab": {
          "base_uri": "https://localhost:8080/",
          "height": 58
        },
        "id": "1H5elz7jnEKY",
        "outputId": "ad15f636-4042-4522-87bb-e094fd3146db"
      },
      "outputs": [
        {
          "data": {
            "text/latex": [
              "$\\displaystyle \\left[\\begin{matrix}x^{4} + x \\sin{\\left(x \\right)} & x^{2} \\sin{\\left(x \\right)} + x \\sin{\\left(x \\right)}\\\\x^{3} + x^{2} & x^{2} + x \\sin{\\left(x \\right)}\\end{matrix}\\right]$"
            ],
            "text/plain": [
              "Matrix([\n",
              "[x**4 + x*sin(x), x**2*sin(x) + x*sin(x)],\n",
              "[    x**3 + x**2,        x**2 + x*sin(x)]])"
            ]
          },
          "execution_count": 39,
          "metadata": {},
          "output_type": "execute_result"
        }
      ],
      "source": [
        "q@q"
      ]
    },
    {
      "cell_type": "code",
      "execution_count": null,
      "metadata": {
        "id": "owwyiJ0yN3oN"
      },
      "outputs": [],
      "source": []
    },
    {
      "cell_type": "markdown",
      "metadata": {
        "id": "k9jPDzNSjgnZ"
      },
      "source": [
        "# Actividad:\n",
        "\n",
        "1. Construir un programa que permita multiplicar dos matrices\n",
        "\n",
        "2. Cosntruir un programa que permita construir una regresion lineal simple empleando lo que sigue:\n",
        "\n",
        "3. Construir un programa que permita calcular una regresion bidimensional y hacer su representación .\n",
        "\n",
        "\n",
        "Operaciones matricial con regresión lineal.\n",
        "\n",
        "Cuando se desea hacer una regresion lineal multivariada, existen diferentes formas de realizar la regresión, una de ellas es encontrar el error cuadrático medio y miniminzar el conjunto de parámetros de la regresión emplando algún metodo de minimización, otra forma es encontrar la expresión analítica en forma matricial para enoncontrar el conjunto de parametros de la regresión. En este último caso, la regresion lineal viene dada por la siguiente expresion generalizada:\n",
        "\n",
        "\n",
        "- $\\Theta = (X^T X)^{-1} X^T y$\n",
        "\n",
        "donte $\\Theta$ es la matriz de parametros asociados a la regresión lineal, X la matriz de características y y los valos esperados, así, si tenemos una conjunto de datos en N dimensiones la recta, plano o hyperplano puede ser calculado como:\n",
        "\n",
        "$Y=\\Theta^T X$\n",
        "\n",
        "\n",
        "En el caso de dos dimensiones, tenemos lo siguiente, Supongamos que X, y Y presentan un comportamiento lineal, y vienen dados por:\n",
        "\n",
        "\n",
        "- Sea $\\vec{X}=x^1, x^2, x^3, x^4, ..., x^m$\n",
        "- Sea $\\vec{Y}=y^1, y^2, y^3, y^4, ..., y^m$\n",
        "\n",
        "Para determinar la ecuacion de la recta, hay que conocer los párametros $\\theta_0 $, $\\theta_1$, que cumplen que :   $y^{i} = \\theta_1 x^{i} + \\theta_0$ la anterior expresion puede ser escrita como:\n",
        "\n",
        "\\begin{equation}\n",
        "\\begin{bmatrix}\n",
        "y^{1}\\\\\n",
        "y^{2}\\\\\n",
        "\\vdots\\\\\n",
        "y^{m}\\\\\n",
        "\\end{bmatrix}=\n",
        "\\begin{bmatrix}\n",
        "\\theta_0 & \\theta_1 \\\\\n",
        "\\end{bmatrix}\n",
        "\\begin{bmatrix}\n",
        "1 & 1 & \\cdots & 1 \\\\\n",
        "x_1^{1} & x_1^{2} & \\cdots & x_1^{m} \\\\\n",
        "\\end{bmatrix}\n",
        "\\end{equation}\n",
        "\n",
        "\n",
        "Para determinar la matriz de theta entonces se puede aplicar la ecuación:\n",
        "\n",
        "- $\\Theta = (X^T X)^{-1} X^T y$\n",
        "\n",
        "donde:\n",
        "\\begin{equation}\n",
        "X=\n",
        "\\begin{bmatrix}\n",
        "1 & x_1^{1} \\\\\n",
        "1 & x_1^{2} \\\\\n",
        "\\vdots & \\vdots \\\\\n",
        "1 & x_1^{m}\n",
        "\\end{bmatrix}\n",
        "\\end{equation}\n",
        "\n",
        "y\n",
        "\n",
        "\n",
        "\\begin{equation}\n",
        "y=\n",
        "\\begin{bmatrix}\n",
        "y^1 \\\\\n",
        "y^2 \\\\\n",
        "\\vdots\\\\\n",
        "y^m\n",
        "\\end{bmatrix}\n",
        "\\end{equation}\n",
        "\n",
        "Su tarea será construir un programa que realice la regresión lineal para los siguientes puntos:\n",
        "```python\n",
        "N = 10\n",
        "x1 = np.linspace(0, 10, N)\n",
        "noise=2*np.random.random(N)-1\n",
        "y = 0.9*x1 + noise\n",
        "```\n",
        "\n",
        "\n",
        "\n",
        "Generalice para el siguiente problema bidimensional:\n",
        "\n",
        "\n",
        "```python\n",
        "N = 10\n",
        "x1 = np.linspace(-1, 1, N)\n",
        "x2 = np.linspace(-2, 2, N)\n",
        "noise1=2*np.random.random(N)-1\n",
        "noise2=2*np.random.random(N)-1\n",
        "y = 2*(x1+noise1) - 3*(x2+noise2) + 0.0 #+ 4*np.random.random(100)\n",
        "\n",
        "N = 10\n",
        "X1, X2 = np.meshgrid(x1,x2)\n",
        "Y = 2*X1 - 3*X2 + 0.0\n",
        "fig, ax = plt.subplots(subplot_kw={\"projection\": \"3d\"})\n",
        "surf = ax.plot_surface(X1, X2, Y)\n",
        "#scatter = ax.scatter(x1, x2, y,\"-\")\n",
        "```\n",
        "\n",
        "\n",
        "\n",
        "4. Construir un programa que permita realizar eliminacion de Gauss- Jordan de una matriz\n",
        "\n"
      ]
    }
  ],
  "metadata": {
    "colab": {
      "provenance": []
    },
    "kernelspec": {
      "display_name": "Python 3",
      "name": "python3"
    },
    "language_info": {
      "name": "python"
    }
  },
  "nbformat": 4,
  "nbformat_minor": 0
}
