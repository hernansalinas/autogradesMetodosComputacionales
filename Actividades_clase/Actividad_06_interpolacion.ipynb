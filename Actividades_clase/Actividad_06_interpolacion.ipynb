{
 "cells": [
  {
   "cell_type": "markdown",
   "id": "90baaaf7",
   "metadata": {},
   "source": [
    "<a href=\"https://colab.research.google.com/github/hernansalinas/autogrades/blob/main/Actividades_clase/Actividad_06_interpolacion.pynb\" target=\"_parent\"><img src=\"https://colab.research.google.com/assets/colab-badge.svg\" alt=\"Open In Colab\"/></a>\n",
    "\n",
    "\n",
    "\n",
    "# Actividad 6\n",
    "### Métodos computacionales para físicos  y astrónomos\n",
    "### Universidad de Antioquia\n",
    "### Prof: Hernan D. Salinas Jiménez\n",
    "Ref: https://github.com/restrepo/ComputationalMethods"
   ]
  },
  {
   "cell_type": "markdown",
   "id": "494edb2b",
   "metadata": {},
   "source": [
    "__Activity__:  Movement with uniform acceleration\n",
    "1. Define a polynomial for the movement with uniform acceleration:\n",
    "\\begin{align}\n",
    "x(t)=x_0+v_0 (t-t_0)+\\tfrac{1}{2} a (t-t_0)^2 \\,,\n",
    "\\end{align}\n",
    "2. Use the previous formula expressed as polynomial of degree 2, to solve the following problem with `np.poly1d`: \n",
    "    * A car departs from rest with a constant acceleration of $6\\text{m}\\cdot\\text{s}^{-2}$ and travels through a flat and straight road. 10 seconds later a second pass for the same starting point and in the same direction with an initial speed of $10\\text{m}\\cdot\\text{s}^{-1}$ and a constant acelleration of $10\\text{m}\\cdot\\text{s}^{-2}$. Find the time and distance at which the two cars meet. *\n",
    "    \n",
    "_Hint_. \n",
    "\\begin{align}\n",
    "x(t)=x_0-v_0t_0+\\frac{1}{2}at_0^2 +(v_0-at_0)t+\\tfrac{1}{2} a t^2 \n",
    "\\end{align}\n",
    "\n"
   ]
  },
  {
   "cell_type": "markdown",
   "id": "49ccc036",
   "metadata": {},
   "source": [
    "__Activity__: For  the function $f(x) = \\tan (x)$ between $-\\frac{\\pi}{4}$ and $\\frac{\\pi}{4}$ using $N=10$ points (9 intervals). Plot both, the interpolation and the original function.\n",
    "\n",
    "Explore the behaviour of the Linear Interpolation algorithm when varying the number of data used.\n",
    "\n",
    "\n",
    "__Activity__: Apply lagrange interpolations with the following points, work with pandas data frame\n",
    "\n",
    "\n",
    "x =  np.array([1, 1.3, 1.6, 1.9, 2.2])\n",
    "\n",
    "fx =  np.array([0.7651977,0.6200860, 0.4554022, 0.2818186, 0.1103623])"
   ]
  },
  {
   "cell_type": "markdown",
   "id": "940edc99",
   "metadata": {},
   "source": [
    "\n",
    "\n",
    "__Activity__: Consideremos la imagen del planetario de medellin u otra imagen sobre la cual podamos realizar un ajuste, descargue la imagen de google.\n",
    "\n",
    "\n",
    "![img](https://github.com/hernansalinas/autogrades/blob/main/Actividades_clase/imagenes/planetario.png?raw=true)\n",
    "1. Representar gráficamente la imagen, usando las órdenes `imread` e `imshow` de python (estas órdenes están contenidas en el paquete `matplotlib`) \n",
    "\n",
    "2. Definir una lista de puntos, $x_i$, equiespaciados en $[a,b]$,  definidos adecuadamente para que los puntos esten (aproximadamente) situados en la superficie del domo,  del edificio que representa la imagen.\n",
    "\n",
    "3. Representar el polinomio de interpolación de Lagrange en estos puntos, para aproximar el dibujo.\n",
    "\n",
    "4. Repetir el proceso de interpolación mediante *splines* cúbicos. Para ello, utilizar la función `CubicSpline` (contenida en `scipy.interpolate`), \n",
    "\n",
    "\n",
    "\n",
    "5. Comparar los resultados. ¿Alguna de las interpolaciones presenta oscilaciones? ¿A qué se debe este fenómeno?"
   ]
  },
  {
   "cell_type": "code",
   "execution_count": null,
   "id": "d9dfaf0f",
   "metadata": {},
   "outputs": [],
   "source": []
  }
 ],
 "metadata": {
  "kernelspec": {
   "display_name": "Python 3 (ipykernel)",
   "language": "python",
   "name": "python3"
  },
  "language_info": {
   "codemirror_mode": {
    "name": "ipython",
    "version": 3
   },
   "file_extension": ".py",
   "mimetype": "text/x-python",
   "name": "python",
   "nbconvert_exporter": "python",
   "pygments_lexer": "ipython3",
   "version": "3.8.12"
  }
 },
 "nbformat": 4,
 "nbformat_minor": 5
}
