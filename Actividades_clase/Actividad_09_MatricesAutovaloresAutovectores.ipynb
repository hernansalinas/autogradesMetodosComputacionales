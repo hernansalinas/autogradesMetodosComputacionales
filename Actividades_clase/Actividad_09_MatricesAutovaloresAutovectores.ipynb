{
  "nbformat": 4,
  "nbformat_minor": 0,
  "metadata": {
    "colab": {
      "provenance": []
    },
    "kernelspec": {
      "name": "python3",
      "display_name": "Python 3"
    },
    "language_info": {
      "name": "python"
    }
  },
  "cells": [
    {
      "cell_type": "code",
      "source": [],
      "metadata": {
        "id": "F1dJEcSOCUAL"
      },
      "execution_count": null,
      "outputs": []
    },
    {
      "cell_type": "code",
      "source": [
        "import numpy as np\n",
        "import torch as pt\n",
        "import sympy as sp"
      ],
      "metadata": {
        "id": "iJsmScMdtgYe"
      },
      "execution_count": 2,
      "outputs": []
    },
    {
      "cell_type": "markdown",
      "source": [
        "# Autovalores, autovectores, diagonalización\n",
        "\n",
        "Una matriz es diagonalizable cuando es semejante a una matriz diagonal. Esto significa que mediante un cambio de base, podemos reducir la matriz original a una forma diagonal. Para que una matriz sea diagonalizable, debe cumplir las siguientes condiciones:\n",
        "\n",
        "**Autovectores linealmente independientes**: Una matriz $(A \\in \\mathbb{R}^{n \\times n})$ es diagonalizable si y solo si tiene (n) autovectores linealmente independientes. Esto significa que los autovectores asociados a los autovalores deben ser linealmente independientes.\n",
        "\n",
        "**Semejanza**: Existe una matriz invertible (P) tal que ($P^{-1}AP = D$), donde (D) es una matriz diagonal formada por los autovalores de (A).\n",
        "\n",
        "La diagonalización es un proceso que transforma una matriz cuadrada ( A ) en una matriz diagonal ( D ) mediante una matriz invertible ( P ), tal que:\n",
        "\n",
        "$P^{-1}AP = D$\n",
        "\n",
        "La matriz diagonal ( D ) contiene los autovalores de ( A ) en la diagonal principal, y las columnas de ( P ) son los autovectores correspondientes a esos autovalores."
      ],
      "metadata": {
        "id": "F2BmxAU22k-G"
      }
    },
    {
      "cell_type": "markdown",
      "source": [
        "## Numpy"
      ],
      "metadata": {
        "id": "ZEt4N4lT2taJ"
      }
    },
    {
      "cell_type": "code",
      "source": [
        "# Definir una matriz 3x3\n",
        "A = np.array([[4, 2, 0],\n",
        "              [2, 4, 1],\n",
        "              [0, 1, 3]])\n",
        "\n",
        "# Calcular autovalores y autovectores\n",
        "autovalores, autovectores = np.linalg.eig(A)\n",
        "U = autovectores.copy()\n",
        "print(\"Autovalores:\", autovalores)\n",
        "print(\"Autovectores:\\n\", autovectores)\n"
      ],
      "metadata": {
        "colab": {
          "base_uri": "https://localhost:8080/"
        },
        "id": "hcGonjho2Xi0",
        "outputId": "bbca9fe8-1eee-4a45-c274-440e81295c88"
      },
      "execution_count": 3,
      "outputs": [
        {
          "output_type": "stream",
          "name": "stdout",
          "text": [
            "Autovalores: [6.16424794 1.60861762 3.22713444]\n",
            "Autovectores:\n",
            " [[-0.6611152   0.56181831 -0.49727948]\n",
            " [-0.7154086  -0.6717612   0.19216509]\n",
            " [-0.2260912   0.48280128  0.84604119]]\n"
          ]
        }
      ]
    },
    {
      "cell_type": "markdown",
      "source": [
        "### Matriz Diagonal"
      ],
      "metadata": {
        "id": "ioIEzfR52jVo"
      }
    },
    {
      "cell_type": "code",
      "source": [
        "D = np.linalg.inv(U)@A@U\n",
        "np.set_printoptions(suppress=True, precision=6)\n",
        "D"
      ],
      "metadata": {
        "colab": {
          "base_uri": "https://localhost:8080/"
        },
        "id": "qDM4idFV3R-e",
        "outputId": "4b4e032d-ab5a-413d-92c7-73215351dbf4"
      },
      "execution_count": 4,
      "outputs": [
        {
          "output_type": "execute_result",
          "data": {
            "text/plain": [
              "array([[ 6.164248,  0.      , -0.      ],\n",
              "       [-0.      ,  1.608618, -0.      ],\n",
              "       [ 0.      , -0.      ,  3.227134]])"
            ]
          },
          "metadata": {},
          "execution_count": 4
        }
      ]
    },
    {
      "cell_type": "code",
      "source": [
        "np.set_printoptions(suppress=True, precision=6)\n"
      ],
      "metadata": {
        "id": "rU-w2AWm3r_H"
      },
      "execution_count": 5,
      "outputs": []
    },
    {
      "cell_type": "markdown",
      "source": [
        "## Actividad:\n",
        "\n",
        "Construir un programa que permita elevar una matriz a una potencia.\n",
        "\n",
        "\n",
        "La exponencial de una matriz ( $e^A$) se define como la serie de Taylor de la función exponencial evaluada en la matriz ( A ):\n",
        "\n",
        "\n",
        "\\begin{equation}\n",
        "e^A = I + A + \\frac{1}{2!}A^2 + \\frac{1}{3!}A^3 + \\cdots = \\sum_{n=0}^{\\infty} \\frac{1}{n!}A^n\n",
        "\\end{equation}\n",
        "\n",
        "\n",
        "Donde ( $e^D$ ) es simplemente la matriz exponencial de la matriz diagonal ( D ), que es fácil de calcular porque solo implica elevar los autovalores de (A) a la potencia de (e):\n",
        "\n",
        "\n",
        "\n",
        "\\begin{equation}\n",
        "e^A = Pe^DP^{-1}\n",
        "\\end{equation}\n",
        "\n",
        "\n",
        "Exponencial de una matriz diagonal\n",
        "\n",
        "\\begin{equation}\n",
        "e^D = \\begin{bmatrix}\n",
        "e^{\\lambda_1} & 0 & \\cdots & 0 \\\\\n",
        "0 & e^{\\lambda_2} & \\cdots & 0 \\\\\n",
        "\\vdots & \\vdots & \\ddots & \\vdots \\\\\n",
        "0 & 0 & \\cdots & e^{\\lambda_n}\n",
        "\\end{bmatrix}\n",
        "\\end{equation}\n",
        "\n",
        "\n"
      ],
      "metadata": {
        "id": "N-oGaJUS4p10"
      }
    },
    {
      "cell_type": "markdown",
      "source": [
        "# Autovalores y autovectores complejos"
      ],
      "metadata": {
        "id": "JmmxMqieABY-"
      }
    },
    {
      "cell_type": "code",
      "source": [
        "theta=-np.pi/4\n",
        "A = np.array([[np.cos(theta),-np.sin(theta)],[np.sin(theta), np.cos(theta)]])\n",
        "\n",
        "# Calcular autovalores y autovectores\n",
        "autovalores, autovectores = np.linalg.eig(A)\n",
        "U = autovectores.copy()\n",
        "print(\"Autovalores:\", autovalores)\n",
        "print(\"Autovectores:\\n\", autovectores)\n",
        "\n",
        "D = np.linalg.inv(U)@A@U\n",
        "np.set_printoptions(suppress=True, precision=6)\n",
        "D"
      ],
      "metadata": {
        "colab": {
          "base_uri": "https://localhost:8080/"
        },
        "id": "3-NKfajD9kwp",
        "outputId": "7492a5ce-af44-4154-fa6f-8de033f85a4d"
      },
      "execution_count": 31,
      "outputs": [
        {
          "output_type": "stream",
          "name": "stdout",
          "text": [
            "Autovalores: [0.707107+0.707107j 0.707107-0.707107j]\n",
            "Autovectores:\n",
            " [[0.707107+0.j       0.707107-0.j      ]\n",
            " [0.      +0.707107j 0.      -0.707107j]]\n"
          ]
        },
        {
          "output_type": "execute_result",
          "data": {
            "text/plain": [
              "array([[0.707107+0.707107j, 0.      +0.j      ],\n",
              "       [0.      +0.j      , 0.707107-0.707107j]])"
            ]
          },
          "metadata": {},
          "execution_count": 31
        }
      ]
    },
    {
      "cell_type": "code",
      "source": [
        "np.exp(D)"
      ],
      "metadata": {
        "colab": {
          "base_uri": "https://localhost:8080/"
        },
        "id": "pUIRWAJv9oVb",
        "outputId": "e5830539-4def-4bf5-dd82-3ae8ff4ea038"
      },
      "execution_count": 22,
      "outputs": [
        {
          "output_type": "execute_result",
          "data": {
            "text/plain": [
              "array([[1.068139+1.25593j, 1.      +0.j     ],\n",
              "       [1.      +0.j     , 1.068139-1.25593j]])"
            ]
          },
          "metadata": {},
          "execution_count": 22
        }
      ]
    },
    {
      "cell_type": "markdown",
      "source": [
        "### Sympy"
      ],
      "metadata": {
        "id": "bVBR8mx02xzR"
      }
    },
    {
      "cell_type": "code",
      "source": [
        "from sympy import Matrix, simplify\n",
        "\n",
        "# Definir una matriz 3x3\n",
        "A = Matrix([[4, 2, 0],\n",
        "            [2, 4, 1],\n",
        "            [0, 1, 3]])\n",
        "\n",
        "# Calcular autovalores y autovectores\n",
        "autovalores = A.eigenvals()\n",
        "autovectores = A.eigenvects()\n",
        "\n",
        "# Simplificar autovalores y autovectores\n",
        "autovalores_simplificados = {simplify(l): m for l, m in autovalores.items()}\n",
        "autovectores_simplificados = [(simplify(l), m, [simplify(v) for v in vs]) for l, m, vs in autovectores]\n",
        "\n",
        "print(\"Autovalores simplificados:\", autovalores_simplificados)\n",
        "print(\"Autovectores simplificados:\\n\", autovectores_simplificados)\n"
      ],
      "metadata": {
        "colab": {
          "base_uri": "https://localhost:8080/"
        },
        "id": "5ZtjshtC2iBC",
        "outputId": "b2eddb03-7ef4-4d6a-db38-bcf1e857b08d"
      },
      "execution_count": 26,
      "outputs": [
        {
          "output_type": "stream",
          "name": "stdout",
          "text": [
            "Autovalores simplificados: {11/3 + 16*2**(1/3)/(3*(61 + 3*sqrt(1407)*I)**(1/3)) + 2**(2/3)*(61 + 3*sqrt(1407)*I)**(1/3)/6: 1, (-128*2**(1/3) + (1 - sqrt(3)*I)*(44 + 2**(2/3)*(-1 + sqrt(3)*I)*(61 + 3*sqrt(1407)*I)**(1/3))*(61 + 3*sqrt(1407)*I)**(1/3))/(12*(1 - sqrt(3)*I)*(61 + 3*sqrt(1407)*I)**(1/3)): 1, (-128*2**(1/3) + (1 + sqrt(3)*I)*(44 - 2**(2/3)*(1 + sqrt(3)*I)*(61 + 3*sqrt(1407)*I)**(1/3))*(61 + 3*sqrt(1407)*I)**(1/3))/(12*(1 + sqrt(3)*I)*(61 + 3*sqrt(1407)*I)**(1/3)): 1}\n",
            "Autovectores simplificados:\n",
            " [((-128*2**(1/3) + (1 + sqrt(3)*I)*(44 - 2**(2/3)*(1 + sqrt(3)*I)*(61 + 3*sqrt(1407)*I)**(1/3))*(61 + 3*sqrt(1407)*I)**(1/3))/(12*(1 + sqrt(3)*I)*(61 + 3*sqrt(1407)*I)**(1/3)), 1, [Matrix([\n",
            "[(12*(-176 + 7*2**(2/3)*(1 + sqrt(3)*I)*(61 + 3*sqrt(1407)*I)**(1/3))*(1 + sqrt(3)*I)**2*(61 + 3*sqrt(1407)*I) + (61 + 3*sqrt(1407)*I)**(1/3)*(128*2**(1/3) + (-44 + 2**(2/3)*(1 + sqrt(3)*I)*(61 + 3*sqrt(1407)*I)**(1/3))*(1 + sqrt(3)*I)*(61 + 3*sqrt(1407)*I)**(1/3))**2 + 10752*2**(1/3)*(1 + sqrt(3)*I)*(61 + 3*sqrt(1407)*I)**(2/3))/(288*(1 + sqrt(3)*I)**2*(61 + 3*sqrt(1407)*I))],\n",
            "[                                                                                                                                                                                                             (-128*2**(1/3) + (1 + sqrt(3)*I)*(8 - 2**(2/3)*(1 + sqrt(3)*I)*(61 + 3*sqrt(1407)*I)**(1/3))*(61 + 3*sqrt(1407)*I)**(1/3))/(12*(1 + sqrt(3)*I)*(61 + 3*sqrt(1407)*I)**(1/3))],\n",
            "[                                                                                                                                                                                                                                                                                                                                                                                        1]])]), ((-128*2**(1/3) + (1 - sqrt(3)*I)*(44 + 2**(2/3)*(-1 + sqrt(3)*I)*(61 + 3*sqrt(1407)*I)**(1/3))*(61 + 3*sqrt(1407)*I)**(1/3))/(12*(1 - sqrt(3)*I)*(61 + 3*sqrt(1407)*I)**(1/3)), 1, [Matrix([\n",
            "[(10752*2**(1/3)*(1 - sqrt(3)*I)*(61 + 3*sqrt(1407)*I)**(2/3) + (61 + 3*sqrt(1407)*I)**(1/3)*(128*2**(1/3) + (-44 + 2**(2/3)*(1 - sqrt(3)*I)*(61 + 3*sqrt(1407)*I)**(1/3))*(1 - sqrt(3)*I)*(61 + 3*sqrt(1407)*I)**(1/3))**2 + 12*(-176 + 7*2**(2/3)*(1 - sqrt(3)*I)*(61 + 3*sqrt(1407)*I)**(1/3))*(1 - sqrt(3)*I)**2*(61 + 3*sqrt(1407)*I))/(288*(1 - sqrt(3)*I)**2*(61 + 3*sqrt(1407)*I))],\n",
            "[                                                                                                                                                                                                            (-128*2**(1/3) + (1 - sqrt(3)*I)*(8 + 2**(2/3)*(-1 + sqrt(3)*I)*(61 + 3*sqrt(1407)*I)**(1/3))*(61 + 3*sqrt(1407)*I)**(1/3))/(12*(1 - sqrt(3)*I)*(61 + 3*sqrt(1407)*I)**(1/3))],\n",
            "[                                                                                                                                                                                                                                                                                                                                                                                        1]])]), (11/3 + 16*2**(1/3)/(3*(61 + 3*sqrt(1407)*I)**(1/3)) + 2**(2/3)*(61 + 3*sqrt(1407)*I)**(1/3)/6, 1, [Matrix([\n",
            "[(42*sqrt(1407) - 191*2**(2/3)*I*(61 + 3*sqrt(1407)*I)**(1/3) - 854*I - 31*2**(1/3)*I*(61 + 3*sqrt(1407)*I)**(2/3) + sqrt(1407)*2**(2/3)*(61 + 3*sqrt(1407)*I)**(1/3) + sqrt(1407)*2**(1/3)*(61 + 3*sqrt(1407)*I)**(2/3))/(12*(3*sqrt(1407) - 61*I))],\n",
            "[                                                                                                                                                       2/3 + 16*2**(1/3)/(3*(61 + 3*sqrt(1407)*I)**(1/3)) + 2**(2/3)*(61 + 3*sqrt(1407)*I)**(1/3)/6],\n",
            "[                                                                                                                                                                                                                                                  1]])])]\n"
          ]
        }
      ]
    },
    {
      "cell_type": "code",
      "source": [
        "autovalores_simplificados"
      ],
      "metadata": {
        "colab": {
          "base_uri": "https://localhost:8080/"
        },
        "id": "zGEs4pr2A5JR",
        "outputId": "47bf8fcb-8ad8-4b82-88c1-20ef9be35158"
      },
      "execution_count": 30,
      "outputs": [
        {
          "output_type": "execute_result",
          "data": {
            "text/plain": [
              "dict_keys([11/3 + 16*2**(1/3)/(3*(61 + 3*sqrt(1407)*I)**(1/3)) + 2**(2/3)*(61 + 3*sqrt(1407)*I)**(1/3)/6, (-128*2**(1/3) + (1 - sqrt(3)*I)*(44 + 2**(2/3)*(-1 + sqrt(3)*I)*(61 + 3*sqrt(1407)*I)**(1/3))*(61 + 3*sqrt(1407)*I)**(1/3))/(12*(1 - sqrt(3)*I)*(61 + 3*sqrt(1407)*I)**(1/3)), (-128*2**(1/3) + (1 + sqrt(3)*I)*(44 - 2**(2/3)*(1 + sqrt(3)*I)*(61 + 3*sqrt(1407)*I)**(1/3))*(61 + 3*sqrt(1407)*I)**(1/3))/(12*(1 + sqrt(3)*I)*(61 + 3*sqrt(1407)*I)**(1/3))])"
            ]
          },
          "metadata": {},
          "execution_count": 30
        }
      ]
    },
    {
      "cell_type": "markdown",
      "source": [
        "# Pytorch\n",
        "\n",
        "Definción de una matrix de tres formas:\n",
        "Hasta ahora sabemos definir matrices como objetos de numpy y objetos de sympy, en la actualidad, el rápido crecimiento de las unidades de procesamiento gráfico GPU,  permite definir otro tipo de objetos que pueden acelerar el computo computacional.\n",
        "\n",
        "\n",
        "- Como objeto de numpy\n",
        "- Como objeto de sympy\n",
        "- Como objeto de pytorch\n",
        "\n",
        "\n",
        "La velocidad de ejecución entre PyTorch y Numpy puede variar dependiendo del tamaño de los datos y si se está utilizando o no la aceleración por GPU. Para operaciones con matrices pequeñas y cálculos que no requieren de la paralelización de una GPU, Numpy puede ser más rápido porque opera directamente en la CPU y la memoria principal. Sin embargo, para matrices grandes y operaciones que pueden ser paralelizadas, PyTorch con soporte de GPU puede ser significativamente más rápido.\n",
        "\n",
        "Comparativa de comandos de ejecución entre pytorch, numpy  y sympy\n",
        "\n",
        "\n",
        "| Operación | PyTorch | Numpy | SymPy |\n",
        "|-----------|---------|-------|-------|\n",
        "| Creación de una matriz | `torch.tensor([[1, 2], [3, 4]])` | `np.array([[1, 2], [3, 4]])` | `Matrix([[1, 2], [3, 4]])` |\n",
        "| Transposición de una matriz | `torch.transpose(A, 0, 1)` | `A.T` o `np.transpose(A)` | `A.T` |\n",
        "| Multiplicación de matrices | `torch.matmul(A, B)` | `np.dot(A, B)` o `A @ B` | `A * B` |\n",
        "| Inversa de una matriz | `torch.inverse(A)` | `np.linalg.inv(A)` | `A**-1` |\n",
        "| Determinante de una matriz | `torch.det(A)` | `np.linalg.det(A)` | `A.det()` |\n",
        "| Autovalores y autovectores | `torch.eig(A, eigenvectors=True)` | `np.linalg.eig(A)` | `A.eigenvals()`, `A.eigenvects()` |\n",
        "\n"
      ],
      "metadata": {
        "id": "kZWZu8BRwG2h"
      }
    },
    {
      "cell_type": "markdown",
      "source": [
        "Ejemplo básico del comparativo de un problema de algebra lineal, rotación de un vector:"
      ],
      "metadata": {
        "id": "0IZOos3VztQS"
      }
    },
    {
      "cell_type": "code",
      "execution_count": 4,
      "metadata": {
        "id": "Ve2Qic9ttIkE"
      },
      "outputs": [],
      "source": [
        "\n",
        "def matrixA(theta, tipo=\"numpy\"):\n",
        "  if(tipo==\"np\"):\n",
        "    return np.array([[np.cos(theta),-np.sin(theta)],[np.sin(theta), np.cos(theta)]])\n",
        "  elif(tipo==\"sp\"):\n",
        "    return np.array([[sp.cos(theta),-sp.sin(theta)],[sp.sin(theta), sp.cos(theta)]])\n",
        "\n",
        "  elif(tipo==\"pt\"):\n",
        "    return pt.tensor([[np.cos(theta),-np.sin(theta)],[np.sin(theta), np.cos(theta)]])\n",
        "\n",
        "  else:\n",
        "\n",
        "    print(\"Define el tipo de variable que desea\")\n"
      ]
    },
    {
      "cell_type": "code",
      "source": [
        "x = sp.Symbol(\"x\")\n",
        "M = sp.Matrix(matrixA(np.pi/4, tipo=\"sp\"))\n",
        "M"
      ],
      "metadata": {
        "colab": {
          "base_uri": "https://localhost:8080/",
          "height": 80
        },
        "id": "6pvCFzl7uDm3",
        "outputId": "cc6ee326-1d22-4ed8-a5f2-8e6da420e62e"
      },
      "execution_count": 16,
      "outputs": [
        {
          "output_type": "execute_result",
          "data": {
            "text/plain": [
              "Matrix([\n",
              "[0.707106781186548, -0.707106781186547],\n",
              "[0.707106781186547,  0.707106781186548]])"
            ],
            "text/latex": "$\\displaystyle \\left[\\begin{matrix}0.707106781186548 & -0.707106781186547\\\\0.707106781186547 & 0.707106781186548\\end{matrix}\\right]$"
          },
          "metadata": {},
          "execution_count": 16
        }
      ]
    },
    {
      "cell_type": "code",
      "source": [
        "x=np.pi/4\n",
        "M = matrixA(x, tipo=\"np\")\n",
        "M"
      ],
      "metadata": {
        "colab": {
          "base_uri": "https://localhost:8080/"
        },
        "id": "brk8Daew2EmP",
        "outputId": "892116c1-d682-46af-a833-cdc197bf8b9a"
      },
      "execution_count": 14,
      "outputs": [
        {
          "output_type": "execute_result",
          "data": {
            "text/plain": [
              "array([[ 0.70710678, -0.70710678],\n",
              "       [ 0.70710678,  0.70710678]])"
            ]
          },
          "metadata": {},
          "execution_count": 14
        }
      ]
    },
    {
      "cell_type": "code",
      "source": [
        "matrixA(x, tipo=\"pt\")\n",
        "M"
      ],
      "metadata": {
        "colab": {
          "base_uri": "https://localhost:8080/"
        },
        "id": "Z-6fzFXrvbgL",
        "outputId": "edfe7842-690e-48c4-bfca-5057aad32c83"
      },
      "execution_count": 15,
      "outputs": [
        {
          "output_type": "execute_result",
          "data": {
            "text/plain": [
              "array([[ 0.70710678, -0.70710678],\n",
              "       [ 0.70710678,  0.70710678]])"
            ]
          },
          "metadata": {},
          "execution_count": 15
        }
      ]
    },
    {
      "cell_type": "markdown",
      "source": [
        "Actividad: Resolver el problema de la potencia de una matriz empleando pytorch, construir."
      ],
      "metadata": {
        "id": "b-IQVSe3CAp6"
      }
    },
    {
      "cell_type": "code",
      "source": [],
      "metadata": {
        "id": "jiAATXj8CFsk"
      },
      "execution_count": null,
      "outputs": []
    }
  ]
}