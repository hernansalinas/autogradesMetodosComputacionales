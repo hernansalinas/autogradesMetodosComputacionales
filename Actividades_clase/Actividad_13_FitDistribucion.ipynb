{
  "nbformat": 4,
  "nbformat_minor": 0,
  "metadata": {
    "colab": {
      "provenance": []
    },
    "kernelspec": {
      "name": "python3",
      "display_name": "Python 3"
    },
    "language_info": {
      "name": "python"
    }
  },
  "cells": [
    {
      "cell_type": "markdown",
      "source": [
        "<a href=\"https://colab.research.google.com/github/hernansalinas/autogrades/blob/main/Actividades_clase/Actividad_13_FitDistribucion.ipynb\" target=\"_parent\"><img src=\"https://colab.research.google.com/assets/colab-badge.svg\" alt=\"Open In Colab\"/></a>\n",
        "\n"
      ],
      "metadata": {
        "id": "wY4R6kK3dwvB"
      }
    },
    {
      "cell_type": "code",
      "execution_count": null,
      "metadata": {
        "id": "mRy0D2iOSOg1"
      },
      "outputs": [],
      "source": [
        "import pandas as pd\n",
        "import matplotlib.pylab as plt\n",
        "import numpy as np"
      ]
    },
    {
      "cell_type": "markdown",
      "source": [
        "# Introducción a la estadística, Ajuste de distribuciones \n",
        "\n",
        "1. Generar N datos asociados a una distribución normal empleando la libreria random de numpy.\n",
        "\n",
        "2. Construya un histograma con los datos de la distribución \n",
        "\n",
        "3. Con la libreria stat de scipy realizar un fit a la distribucion normal que se generó con los números aleatorios, utilizar el metodo fit dentro de la libreria de stat.\n",
        "\n",
        "4. Cuando no conocemos la distribución de datos, es recomendable buscar la mejor distribucion estadistica posible, supogamos que queremos analizar el mejor fit de multiples  distribuciones estadisticas, asi que podemos emplear la libreria Fitter para buscar la mejor distribución cuando determinados el error cuadratico medio, como sigue: \n",
        "\n",
        "\n",
        "```\n",
        "from fitter import Fitter, get_common_distributions, get_distributions\n",
        "\n",
        "f = Fitter(data,\n",
        "           distributions=['gamma',\n",
        "                          'lognorm',\n",
        "                          \"beta\",\n",
        "                          \"burr\",\n",
        "                          \"norm\"])\n",
        "f.fit()\n",
        "f.summary()\n",
        "#Indentificamos la mejor distribucion con el error cuadratico medio\n",
        "f.get_best(method = 'sumsquare_error')\n",
        "#Indentificamos parametros de la distrubicion beta\n",
        "f.fitted_param[\"beta\"]\n",
        "\n",
        "```\n",
        "\n",
        "Con el metodo get_distributions(), podemos ver todas las distribuciones estadisticas de la libreria que podemos emplear para realizar ajustes mas generalizados.\n",
        "\n",
        "Realizar un fit con la distribucion gamma, lognorm, beta, norm para la distribución de datos estadísticos. Ahora que ya sabes cual es la mejor, emplea la libreria stat para realizar nuevamente el fit, de esta manera puedes usar todos los metodos de la libreria stat.\n",
        "\n",
        "\n",
        "\n",
        "5. Ahora que ya sambemos realizar un fit de distribuciones estadístiscas con datos sinténticos, vamos a la práctica de un problema real.\n",
        "\n",
        "Los archivos pdf, puede ser binarizados, un ejemplo de archivo binario es dado en el siguiente [link](https://raw.githubusercontent.com/hernansalinas/autogrades/main/Actividades_clase/binary.txt).  Analicemos la distribucion estadistica de los datos, de la siguiente manera:\n",
        "\n",
        "a. Realizar la lectura del archivo binario \n",
        "b. Agrupar los datos del pdf en grupos de 2, 3, 4, 5, 6, 7, 8 bit. Asociar un entero a cada uno de los bit, agrupando de la siguiente forma:\n",
        "\n",
        "Supongamos que x es el archibo pdf representado de la siguiente forma \n",
        "\n",
        "x = \"0111001011111101010101010101\"\n",
        "\n",
        "Para la agrupacion de 2, 3, 4, 5, 6, n bit, podemos agrupar los datos de a dos, de forma consecutiva, o en grupos de a 2 sin repetición. \n",
        "  1. Ejemplo de  agrupacion sin repeticion de 2 bit  \n",
        "    - Una posible agrupacion de 2 bit es : {\"01\",\"11\",\"10\"...}\n",
        "    - Una posible agrupacion de 3 bit es : {\"011\",\"100\",\"10\"...}\n",
        "  \n",
        "  2. Agrupacion con repetecion de a 2 bit:\n",
        "    - Una posible agrupacion de 2 bit es : {\"01\",\"11\",\"11\"...}\n",
        "    - Una posible agrupacion de 3 bit es : {\"011\",\"111\",\"110\"...}\n",
        "\n",
        "\n",
        "Agrupando de cualquiera de las dos formas, podemos generar una lista de números enteros, asociado a cada número binario, y con ello construir un histogramas. \n",
        "\n",
        "\n",
        "c. Constriur histogramas para la forma 1 de agrupación, para 2, 3, 4, 5, 6, 7, 8 bit.\n",
        "\n",
        "\n",
        "d. realizar un fit para cada unas de las distribuciones estadisticas.\n",
        "\n",
        "\n",
        "\n",
        "Ayuda:\n",
        "\n",
        "- De la siguiente forma se puede agrupar los datos y asociar el valor entero agrupando de la forma 1. \n",
        "\n",
        "```python \n",
        "import textwrap\n",
        "\n",
        "a = \"10110101010101\"\n",
        "\n",
        "bin_string = a\n",
        "bin_string = bin(int(bin_string, 2))[2:]\n",
        "split = 2\n",
        "s = textwrap.wrap(bin_string,2)\n",
        "\n",
        "#Entero ascoiado \n",
        "b = int(s[0], 2)\n",
        "\n",
        "\n",
        "```\n",
        "\n",
        "\n",
        "- Una forma más avanzada de agrupar los datos con la funcion map, de programacion funcional, puede  es dada a continuación:\n",
        "\n",
        "```python \n",
        "state=\"111111111\"\n",
        "List_binario = \"\".join(list(map(lambda x: str(x), state)))\n",
        "split = 2\n",
        "s = [list(state[i:i+split]) for i in range(0, len(state)-split+1)]\n",
        "binario_grupos = [\"\".join (map (str, i)) for i in s]\n",
        "```\n",
        "\n",
        "\n"
      ],
      "metadata": {
        "id": "aOmVTpukShJc"
      }
    },
    {
      "cell_type": "code",
      "source": [],
      "metadata": {
        "id": "Dqp9ecUDb8nU"
      },
      "execution_count": null,
      "outputs": []
    },
    {
      "cell_type": "markdown",
      "source": [],
      "metadata": {
        "id": "D3DYky6rdtZ8"
      }
    }
  ]
}