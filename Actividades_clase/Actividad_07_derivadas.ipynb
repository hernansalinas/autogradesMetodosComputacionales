{
 "cells": [
  {
   "cell_type": "markdown",
   "id": "90baaaf7",
   "metadata": {},
   "source": [
    "<a href=\"https://colab.research.google.com/github/hernansalinas/autogrades/blob/main/Actividades_clase/Actividad_07_derivadas.pynb\" target=\"_parent\"><img src=\"https://colab.research.google.com/assets/colab-badge.svg\" alt=\"Open In Colab\"/></a>\n",
    "\n",
    "\n",
    "\n",
    "# Actividad 7\n",
    "### Métodos computacionales para físicos  y astrónomos\n",
    "### Universidad de Antioquia\n",
    "### Prof: Hernan D. Salinas Jiménez\n",
    "Ref: https://github.com/restrepo/ComputationalMethods"
   ]
  },
  {
   "cell_type": "markdown",
   "id": "494edb2b",
   "metadata": {},
   "source": [
    "El potencial eléctrico de un anillo de radio R, en la parte superior z del anillo viene dado por: \n",
    "\n",
    "\n",
    "\\begin{equation}\n",
    "V = \\frac{kq_{tot}z}{\\sqrt{z^2+R^2}}\n",
    "\\end{equation}\n",
    "\n",
    "Calcule el campo eléctrico para z>0 y R=0.1mm. Reescale el problema en unidades de $kq_{top}$ empleando:\n",
    "\n",
    "1. La librearia sympy.\n",
    "\n",
    "2. Calcular el campo en el punto  $z = 0.1mm$ empleando el metodo [misc.derivative](https://docs.scipy.org/doc/scipy/reference/generated/scipy.misc.derivative.html)\n",
    "\n",
    "3. Calcular el campo para diferentes valores de z con z>0,,  empleando misc derivative. Construya un grafico de E vs z.\n",
    "\n",
    "4. Entender la generalizacion de la siguiente función, y aplicarla para calcular la derivada.\n",
    "\n",
    "\n",
    "```python\n",
    "import numpy as np\n",
    "from scipy import misc\n",
    "def derivative(func,x0,**kwargs):\n",
    "    '''\n",
    "    Vectorized replacement of scipy.misc derivative:\n",
    "        from scipy.misc import derivative\n",
    "    For usage check the derivative help, e.g, in jupyter: \n",
    "        from scipy.misc import derivative\n",
    "        derivative?\n",
    "    '''\n",
    "    try:\n",
    "        #x0: can be an array or a list  \n",
    "        nn=np.asarray(x0).shape[0] ## force error if float is used \n",
    "        fp=np.vectorize(misc.derivative)\n",
    "    except IndexError:\n",
    "        fp=misc.derivative\n",
    "        \n",
    "    return fp(func,x0,**kwargs)\n",
    "\n",
    "assert isinstance(derivative(np.sin,1,dx=1E-6),float)\n",
    "\n",
    "```"
   ]
  },
  {
   "cell_type": "code",
   "execution_count": null,
   "id": "d9dfaf0f",
   "metadata": {},
   "outputs": [],
   "source": []
  }
 ],
 "metadata": {
  "kernelspec": {
   "display_name": "Python 3 (ipykernel)",
   "language": "python",
   "name": "python3"
  },
  "language_info": {
   "codemirror_mode": {
    "name": "ipython",
    "version": 3
   },
   "file_extension": ".py",
   "mimetype": "text/x-python",
   "name": "python",
   "nbconvert_exporter": "python",
   "pygments_lexer": "ipython3",
   "version": "3.10.9"
  }
 },
 "nbformat": 4,
 "nbformat_minor": 5
}
