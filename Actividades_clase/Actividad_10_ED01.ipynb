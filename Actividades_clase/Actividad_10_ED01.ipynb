{
  "cells": [
    {
      "cell_type": "markdown",
      "metadata": {},
      "source": [
        "<a href=\"https://colab.research.google.com/github/hernansalinas/autogrades/blob/main/Actividades_clase/Actividad_10_ED01.ipynb\" target=\"_parent\"><img src=\"https://colab.research.google.com/assets/colab-badge.svg\" alt=\"Open In Colab\"/></a>\n"
      ]
    },
    {
      "cell_type": "markdown",
      "metadata": {
        "id": "9dl_DzfuQsTI"
      },
      "source": [
        "# Actividad 01, Decamiento radioactivo\n",
        "1. Resolver la siguiente ecuacion diferencial, empleando el metodo de Euler. Deberá generar el código en markdown con la explicación del método y las deducciones. \n",
        "\n",
        "\\begin{equation}\n",
        "\\frac{\\mathrm{d}N}{\\mathrm{d}t}=-λ N\n",
        "\\end{equation}\n",
        "\n",
        "\n",
        "# Actividad 02, Oscilador armónico \n",
        "2. Resolver la siguiente ecuación difirencial, empleando el metodo de Euler. interprete su resultado.\n",
        "\n",
        "\\begin{equation}   \n",
        "m \\frac{d^2x}{dt^2}+kx + bv=0 \n",
        "\\end{equation}\n",
        "\n",
        " \n",
        "Para el oscilador aromónico anterior, escribir un programa con extension py que permita dar escribir la velocidad y la posicion \n",
        "como funcion del tiempo. \n",
        "\n",
        "La ejecucion del programa deberá ser de la siguiente forma: \n",
        "\n",
        "python oscilador_armonico.py\n",
        "\n",
        "al ejecutarse, el programa almacenará en memoría en el directorio data, la velocidad y la posición.\n",
        "\n",
        "    data/velocidad.txt\n",
        "    data/posicion.txt\n",
        "\n",
        "Puede utlizar el siguiente código como guía:\n",
        "\n",
        "```python\n",
        "#!/usr/bin/env python3\n",
        "def euler(x):\n",
        "    \n",
        "    return y, v\n",
        "\n",
        "def save_file(path):\n",
        "    return \n",
        "\n",
        "\n",
        "if __name__=='__main__':\n",
        "    y, v = euler(x)\n",
        "    save_file(path)\n",
        "\n",
        "```\n"
      ]
    }
  ],
  "metadata": {
    "colab": {
      "provenance": []
    },
    "kernelspec": {
      "display_name": "Python 3",
      "name": "python3"
    },
    "language_info": {
      "name": "python"
    }
  },
  "nbformat": 4,
  "nbformat_minor": 0
}
