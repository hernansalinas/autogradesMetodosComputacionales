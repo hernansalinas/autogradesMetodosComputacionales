{
 "cells": [
  {
   "cell_type": "markdown",
   "metadata": {},
   "source": [
    "<a href=\"https://colab.research.google.com/github/hernansalinas/autogrades/blob/main/Actividades_clase/Actividad_10_Euler.ipynb\" target=\"_parent\"><img src=\"https://colab.research.google.com/assets/colab-badge.svg\" alt=\"Open In Colab\"/></a>"
   ]
  },
  {
   "cell_type": "markdown",
   "metadata": {},
   "source": [
    "# Ejercicio: Simulación de un Péndulo Simple con el Método de Euler\n",
    "\n",
    "## Objetivo\n",
    "Simular el movimiento de un péndulo simple utilizando el método de Euler para resolver las ecuaciones diferenciales que describen su movimiento.\n",
    "\n",
    "## Descripción del Péndulo Simple\n",
    "Un péndulo simple consiste en una masa puntual suspendida de un hilo inextensible y sin masa. La masa oscila bajo la influencia de la gravedad, describiendo un movimiento armónico para pequeñas amplitudes.\n",
    "\n",
    "## Ecuaciones del Movimiento\n",
    "Las ecuaciones de movimiento de un péndulo simple, considerando un ángulo pequeño \\(\\theta\\), son:\n",
    "\n",
    "1. Ecuación diferencial de la posición angular:\n",
    "   \\[\n",
    "   \\frac{d^2\\theta}{dt^2} + \\frac{g}{L}\\sin(\\theta) = 0\n",
    "   \\]\n",
    "\n",
    "   Para ángulos pequeños, \\(\\sin(\\theta) \\approx \\theta\\), simplificando la ecuación a:\n",
    "   \\[\n",
    "   \\frac{d^2\\theta}{dt^2} + \\frac{g}{L}\\theta = 0\n",
    "   \\]\n",
    "\n",
    "2. La ecuación diferencial se puede separar en dos ecuaciones de primer orden:\n",
    "   \\[\n",
    "   \\frac{d\\theta}{dt} = \\omega\n",
    "   \\]\n",
    "   \\[\n",
    "   \\frac{d\\omega}{dt} = -\\frac{g}{L}\\theta\n",
    "   \\]\n",
    "\n",
    "   donde \\(\\theta\\) es el ángulo de desplazamiento y \\(\\omega\\) es la velocidad angular.\n",
    "\n",
    "## Parámetros\n",
    "- \\(g\\): Aceleración debido a la gravedad (9.81 m/s²)\n",
    "- \\(L\\): Longitud del hilo del péndulo (en metros)\n",
    "- \\(\\theta_0\\): Ángulo inicial de desplazamiento (en radianes)\n",
    "- \\(\\omega_0\\): Velocidad angular inicial (en radianes/segundo)\n",
    "- \\(\\Delta t\\): Paso de tiempo para la simulación (en segundos)\n",
    "- \\(t_{max}\\): Tiempo máximo de simulación (en segundos)\n",
    "\n",
    "## Instrucciones\n",
    "1. **Inicialización**:\n",
    "   - Establezca los valores iniciales: \\(\\theta = \\theta_0\\) y \\(\\omega = \\omega_0\\).\n",
    "   - Defina el intervalo de tiempo \\(\\Delta t\\) y el tiempo total de simulación \\(t_{max}\\).\n",
    "\n",
    "2. **Aplicación del Método de Euler**:\n",
    "   - Para cada paso de tiempo, actualice los valores de \\(\\theta\\) y \\(\\omega\\) usando:\n",
    "     \\[\n",
    "     \\theta_{n+1} = \\theta_n + \\omega_n \\Delta t\n",
    "     \\]\n",
    "     \\[\n",
    "     \\omega_{n+1} = \\omega_n - \\frac{g}{L} \\theta_n \\Delta t\n",
    "     \\]\n",
    "\n",
    "3. **Resultados**:\n",
    "   - Registre los valores de \\(\\theta\\) y \\(\\omega\\) para cada instante de tiempo.\n",
    "   - Grafique \\(\\theta\\) y \\(\\omega\\) en función del tiempo para visualizar el movimiento del péndulo.\n",
    "\n",
    "## Preguntas\n",
    "1. ¿Cómo varía el movimiento del péndulo con respecto a los parámetros \\(L\\) y \\(\\theta_0\\)?\n",
    "2. ¿Qué observas en la energía del sistema a lo largo del tiempo? ¿Se conserva?\n",
    "3. ¿Qué diferencias encuentras si comparas los resultados obtenidos con el método de Euler con los obtenidos utilizando métodos más precisos como el método de Euler-Cromer o el de Runge-Kutta?\n"
   ]
  },
  {
   "cell_type": "markdown",
   "metadata": {},
   "source": []
  }
 ],
 "metadata": {
  "language_info": {
   "name": "python"
  }
 },
 "nbformat": 4,
 "nbformat_minor": 2
}
