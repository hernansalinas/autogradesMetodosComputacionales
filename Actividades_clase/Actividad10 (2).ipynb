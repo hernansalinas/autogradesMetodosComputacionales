{
  "nbformat": 4,
  "nbformat_minor": 0,
  "metadata": {
    "colab": {
      "provenance": []
    },
    "kernelspec": {
      "name": "python3",
      "display_name": "Python 3"
    },
    "language_info": {
      "name": "python"
    }
  },
  "cells": [
    {
      "cell_type": "markdown",
      "source": [
        "# Actividad 01, Decamiento radioactivo\n",
        "1. Resolver la siguiente ecuacion difirencial, empleando el metodo de Euler, para ello debera consultar en una inteligencia artificial el metodo de Euler, también deberá generar el código en markdown con la explicación del método y las deducciones. \n",
        "\n",
        "\\begin{equation}\n",
        "\\frac{\\mathrm{d}N}{\\mathrm{d}t}=-λ N\n",
        "\\end{equation}\n",
        "\n",
        "\n",
        "# Actividad 02, Oscilador armónico \n",
        "1. Resolver la siguiente ecuacion difirencial, empleando el metodo de Euler.\n",
        "\n",
        "\\begin{equation}   \n",
        "m \\frac{d^2x}{dt^2}+kx + bv=0 \n",
        "\\end{equation}\n",
        "\n",
        "\n",
        "3. Construir un codigo en python a traves de la IA, realizando preguntas adeacuadoas para para  dar la solución la ecuación diferencial, compare los  resultados.\n",
        "\n",
        "\n",
        "\n"
      ],
      "metadata": {
        "id": "9dl_DzfuQsTI"
      }
    },
    {
      "cell_type": "code",
      "execution_count": 8,
      "metadata": {
        "id": "RK8PHn8GPX1I"
      },
      "outputs": [],
      "source": []
    },
    {
      "cell_type": "code",
      "source": [],
      "metadata": {
        "id": "elpi49ezPkZm"
      },
      "execution_count": null,
      "outputs": []
    }
  ]
}