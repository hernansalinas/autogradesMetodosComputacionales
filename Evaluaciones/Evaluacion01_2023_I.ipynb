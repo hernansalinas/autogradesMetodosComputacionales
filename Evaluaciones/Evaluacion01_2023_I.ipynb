{
  "nbformat": 4,
  "nbformat_minor": 0,
  "metadata": {
    "colab": {
      "provenance": []
    },
    "kernelspec": {
      "name": "python3",
      "display_name": "Python 3"
    },
    "language_info": {
      "name": "python"
    }
  },
  "cells": [
    {
      "cell_type": "markdown",
      "source": [
        "<a href=\"https://github.com/hernansalinas/autogrades/tree/main/Evaluaciones/Evaluacion01_2023_I.ipynb\" target=\"_parent\"><img src=\"https://colab.research.google.com/assets/colab-badge.svg\" alt=\"Open In Colab\"/></a>\n"
      ],
      "metadata": {
        "id": "8ip-OkFt90Vf"
      }
    },
    {
      "cell_type": "markdown",
      "source": [
        "\n",
        "# Parcial 01: Metodos computacionales para fisicos \n",
        "### Fecha 3/30/23\n",
        "\n",
        "La entrega del examen es a través del github en la página del curso, en el directorio asociado a cada uno. \n",
        "\n",
        "## 1. (50%). Movimiento de una esfera de radio r en un fluido.\n",
        "\n",
        " Una esfera de radio $R$ que asciende o desciende por un fluido puede ser modelada a través de un modelo de partícula, sometida a tres fuerzas: el peso, el empuje y la fuerza rozamiento. Las  ecuaciones de posición (x) y velocidad (v) para un sistema de refencia úbicado en la base del fluido, pueden ser escritas como:\n",
        "\n",
        "\\begin{equation}\n",
        "x = \\frac{G}{\\alpha} \\left( 1+\\frac{\\alpha v_0}{G} \\right)(1-e^{-\\alpha t}) - \\frac{G}{\\alpha}t\n",
        "\\end{equation}\n",
        "\n",
        "\\begin{equation}\n",
        "v= \\left ( v_0 +\\frac{G}{\\alpha} \\right )e^{-\\alpha t} - \\frac{G}{\\alpha}\n",
        "\\end{equation}\n",
        "\n",
        "\n",
        "\n",
        "donde $G=\\left( 1-\\frac{\\rho_f}{\\rho} \\right)g$, con $\\rho_f$, $\\rho$ la densidad del fluido y la esfera respectivamente y $g=9.8$ la aceleración de la gravedad y $\\alpha$  una constante que depende del radio de la esfera, la viscosidad y la densidad.\n",
        "$\\alpha=\\frac{9\\eta}{2R^2\\rho}$.\n",
        "\n",
        "Suponga que una esferita de radio $R=2\\times10^{-5}m$ es lanzada verticalmente hacia arriba en el agua, con una rapidez de $v_0=0.01$m/s.\n",
        "Tomando la densidad del agua en  $\\rho_f =10000 kg/m^3$,  la densidad de la esfera en $\\rho=2670 kg/m^3$ y la viscosidad en $\\eta=0.001 kg/ms$.  Determine: \n",
        "\n",
        "1. El tiempo total en que la esfera asciende  y desciende. \n",
        "\n",
        "2. Determine la rapidez final, con la que llega nuevamente de donde fue lanzada. \n",
        "\n",
        "\n",
        "\n",
        "Para ello construya un programa en python que:\n",
        "- Permita calcular la posición como función del tiempo\n",
        "- Permita calcular la rapidez como función del tiempo\n",
        "- Cálcule  el tiempo total de subida y bajada empleando el método de la secante.\n",
        "\n",
        " \n",
        "\n",
        "\n",
        "\n",
        "## 2. (50%). Interpolación\n",
        "Para los siguientes datos de temperatura media como función del tiempo de los últimos años de  Bogotá y Barcelona ([Temperature_Bogota_Barcelona](https://raw.githubusercontent.com/hernansalinas/autogrades/main/Evaluaciones/dataset/Temperature_Bogota_Barcelona.csv)). Aplique el método de  hermite y spline cúbicos. Para ello realice lo siguiente:\n",
        "\n",
        "1. Leer el dataset desde la url, con el comando pd.read_csv.\n",
        "2. Adicionar una nueva columna AvgTempCelcius con la temperatura en grados celcius. $ C=(F-32)/1.8$\n",
        "3. Realizar un gráfico de AvgTempCelcius como función del año para la ciudad de Bogotá.\n",
        "4. Realizar un gráfico de AvgTempCelcius como función del año para la ciudad de Barcelona.\n",
        "4. Aplique el  metodos de interpolación de hermite para Bogotá y el metodo de interpolación de splines cubicos para Barcelona. \n",
        "\n",
        "\n",
        "Ayuda :\n",
        "\n",
        "| Comando | Descripción |\n",
        "| --- | --- |\n",
        "| pd.read_csv() | Lee un archivo CSV y lo convierte en un DataFrame de Pandas |\n",
        "| pd.read_excel() | Lee un archivo de Excel y lo convierte en un DataFrame de Pandas |\n",
        "| pd.read_json() | Lee un archivo JSON y lo convierte en un DataFrame de Pandas |\n",
        "| df.head() | Muestra las primeras filas del DataFrame |\n",
        "| df.tail() | Muestra las últimas filas del DataFrame |\n",
        "| df.info() | Muestra información sobre el DataFrame |\n",
        "| df.describe() | Muestra estadísticas descriptivas del DataFrame |\n",
        "| df.dropna() | Elimina filas con valores faltantes |\n",
        "| df.drop_duplicates() | Elimina filas duplicadas |\n",
        "| df.groupby() | Agrupa el DataFrame por una o más columnas |\n",
        "| df.sort_values() | Ordena el DataFrame por una o más columnas |\n",
        "| df.to_csv() | Guarda el DataFrame como un archivo CSV |\n",
        "| df.loc[condicion] | Crea una máscara booleana para seleccionar filas que cumplan con ciertas condiciones |\n",
        "| df[df[\"columna\"]== x] | Crea una máscara booleana y a la aplica al dataframe en caso de el valor de la columna coincida con la variable |\n",
        "\n",
        "\n",
        "Referencias: \n",
        "\n",
        "- Dataset tomado y modificado de : https://www.kaggle.com/sudalairajkumar/daily-temperature-of-major-cities\n",
        "\n",
        "- http://www.sc.ehu.es/sbweb/fisica3/fluidos/stokes_1/stokes_1.html\n",
        "- Lindemuth J. The effect of air resistance on falling balls. Am. J. Phys. 39, July 1971, pp. 757-759\n"
      ],
      "metadata": {
        "id": "Z0hjB-L8iuVi"
      }
    },
    {
      "cell_type": "code",
      "source": [],
      "metadata": {
        "id": "k3VfGk_vJKAS"
      },
      "execution_count": null,
      "outputs": []
    }
  ]
}