{
 "cells": [
  {
   "cell_type": "markdown",
   "metadata": {},
   "source": [
    "<a href=\"https://colab.research.google.com/github/hernansalinas/autogrades/blob/main/Laboratorios_Taller/Lab05_errores.ipynb\" target=\"_parent\"><img src=\"https://colab.research.google.com/assets/colab-badge.svg\" alt=\"Open In Colab\"/></a>"
   ]
  },
  {
   "cell_type": "markdown",
   "metadata": {
    "id": "z_gkZBk6K8TH"
   },
   "source": [
    "# Tipos de errores.\n",
    "\n",
    "Errores en la computación, ver libro [Computational Physics. ](https://www.dropbox.com/s/n06ul2r4l65khl6/Computational%20Physics%20-%20Problem%20Solving%20with%20Computers%2C%203527406263.pdf?dl=0)\n",
    ":\n",
    "\n",
    "\n",
    ">- ### Blunder or bad theory\n",
    "Errores tipográficos de entrada, errores en los datos, razonamientos teoricos malos, entre otros.\n",
    ">- ### Errores aleatorios.\n",
    "Impresiones causadas por eventos tales como fluctuaciones electronicas, rayos cósmicos. Se presentan rara vez, y y tiene una mayor probabilidad de ocurrir cuando los calculos se demoran del orden de semanas.\n",
    ">- ### Errores de aproximación:\n",
    "Se presentan por truncamiento de los modelos numéricos, por ejemplol si consideramos la serie asociada a la función\n",
    "$\\sin x$:\n",
    "\n",
    "\\begin{equation}\n",
    "\\sin x = \\sum_{n=1}^{\\infty} \\frac{(-1)^{n-1}x^{2n-1}}{(2n-1)!}\n",
    "\\end{equation}\n",
    "\n",
    "\n",
    "\\begin{equation}\n",
    "\\sin x = \\sum_{n=1}^{N} \\frac{(-1)^{n-1}x^{2n-1}}{(2n-1)!} + \\varepsilon(x, N)\n",
    "\\end{equation}\n",
    "\n",
    "\n",
    "> El error numérico  en el calculo computacional es del orden de  $\\varepsilon(x, N)$, dado que el computador debe truncar la serie en un N determinado.\n",
    "\n",
    "\n",
    ">- ### Errores de redondeo:\n",
    "Análogos a los errores  de  cantidad experimentales.\n"
   ]
  },
  {
   "cell_type": "markdown",
   "metadata": {
    "id": "OFqJhhVmLhdX"
   },
   "source": []
  },
  {
   "cell_type": "markdown",
   "metadata": {
    "id": "VVDQ_eH5Jjxw"
   },
   "source": [
    "# Errores de redondeo:\n",
    "## Cancelacion substractiva\n",
    "\n",
    "Sea $b_c = b (1+ \\epsilon)$ y Sea $c_c = c (1+ \\epsilon)$ La representacion de dos números en el computador.  Calculemos la diferencia entre estos dos números:\n",
    "\n",
    "\n",
    "$a_c = (b-c) + b\\epsilon_b -c\\epsilon_c = a+ b\\epsilon_b -c\\epsilon_c$\n",
    "\n",
    "$\\frac{a_c}{a} = 1 + \\frac{b}{a}\\epsilon_b -\\frac{c}{a}\\epsilon_c $\n",
    "\n",
    "$\\frac{a_c}{a} = 1 + \\frac{b}{a} \\max(\\epsilon_b,\\epsilon_c) $\n",
    "\n",
    "Si $b\\approx c$, el valor de a es un valor muy grande.\n",
    "\n",
    "\n",
    "\n"
   ]
  },
  {
   "cell_type": "code",
   "execution_count": null,
   "metadata": {
    "id": "O-SP8rPyDQ34"
   },
   "outputs": [],
   "source": [
    "import numpy as np"
   ]
  },
  {
   "cell_type": "code",
   "execution_count": 25,
   "metadata": {
    "colab": {
     "base_uri": "https://localhost:8080/"
    },
    "id": "wqrGTlWw1OUR",
    "outputId": "772ed965-ee2d-41a5-e61a-1b1d877b3851"
   },
   "outputs": [
    {
     "name": "stdout",
     "output_type": "stream",
     "text": [
      "1.9073486e-06\n"
     ]
    },
    {
     "data": {
      "text/plain": [
       "0.002822711132466793"
      ]
     },
     "execution_count": 25,
     "metadata": {},
     "output_type": "execute_result"
    }
   ],
   "source": [
    "print(np.float32(12.123452) - np.float32(12.123450))\n",
    "valor_real = 0.000002\n",
    "\n",
    "(12.123452/valor_real)*1/(2**31)"
   ]
  },
  {
   "cell_type": "code",
   "execution_count": 26,
   "metadata": {
    "colab": {
     "base_uri": "https://localhost:8080/"
    },
    "id": "AeDXTAN7OTcn",
    "outputId": "3991a0b8-e946-4f19-a28b-bb608ad0267e"
   },
   "outputs": [
    {
     "name": "stdout",
     "output_type": "stream",
     "text": [
      "0.0\n",
      "5.0\n",
      "¿Cual es la diferencia entre estas dos restas?\n"
     ]
    }
   ],
   "source": [
    "print(np.float32(1234567895) - np.float32(1234567890))\n",
    "print(np.float64(1234567895) - np.float64(1234567890))\n",
    "print(\"¿Cual es la diferencia entre estas dos restas?\")"
   ]
  },
  {
   "cell_type": "code",
   "execution_count": 27,
   "metadata": {
    "colab": {
     "base_uri": "https://localhost:8080/"
    },
    "id": "O5uQVd-TZmPQ",
    "outputId": "006fcd80-03c9-436f-ad5e-6809765e62c6"
   },
   "outputs": [
    {
     "name": "stdout",
     "output_type": "stream",
     "text": [
      "4.0\n",
      "5.0\n",
      "¿Cual es la diferencia entre estas dos restas?\n"
     ]
    }
   ],
   "source": [
    "print(np.float32(12345675) - np.float32(12345671))\n",
    "print(np.float64(1234567895) - np.float64(1234567890))\n",
    "print(\"¿Cual es la diferencia entre estas dos restas?\")"
   ]
  },
  {
   "cell_type": "code",
   "execution_count": 28,
   "metadata": {
    "colab": {
     "base_uri": "https://localhost:8080/"
    },
    "id": "gSutoSLxR7A1",
    "outputId": "aa3a2b60-8cc1-4425-870a-675d869921d3"
   },
   "outputs": [
    {
     "data": {
      "text/plain": [
       "1.9073486328125e-06"
      ]
     },
     "execution_count": 28,
     "metadata": {},
     "output_type": "execute_result"
    }
   ],
   "source": [
    "xt = 12345678912.345678\n",
    "yt = 12345678912.345677\n",
    "xt-yt"
   ]
  },
  {
   "cell_type": "code",
   "execution_count": 29,
   "metadata": {
    "colab": {
     "base_uri": "https://localhost:8080/"
    },
    "id": "7I__xYI7Sq98",
    "outputId": "67bd8bb6-fd86-4eaf-f958-1e36bf6ceaec"
   },
   "outputs": [
    {
     "data": {
      "text/plain": [
       "-9.999999999999995e-17"
      ]
     },
     "execution_count": 29,
     "metadata": {},
     "output_type": "execute_result"
    }
   ],
   "source": [
    "xt = 0.0000000000000005\n",
    "yt = 0.0000000000000006\n",
    "xt-yt"
   ]
  },
  {
   "cell_type": "code",
   "execution_count": 30,
   "metadata": {
    "colab": {
     "base_uri": "https://localhost:8080/"
    },
    "id": "vqwW1XbkYiOS",
    "outputId": "55a31f4b-f49f-4a3a-d2b6-be1ef1222402"
   },
   "outputs": [
    {
     "name": "stdout",
     "output_type": "stream",
     "text": [
      "1.2345678912e-09\n"
     ]
    }
   ],
   "source": [
    "a = np.float16(1.2345678912345678912)-np.float16(1.2345678900000000000)\n",
    "r = 0.0000000012345678912\n",
    "print(r)"
   ]
  },
  {
   "cell_type": "markdown",
   "metadata": {
    "id": "D7wS4CRCMdcJ"
   },
   "source": [
    "## Errores de acumulación\n",
    "$\\epsilon_{ro}=\\sqrt{N}\\epsilon_m$\n"
   ]
  },
  {
   "cell_type": "code",
   "execution_count": 31,
   "metadata": {
    "colab": {
     "base_uri": "https://localhost:8080/"
    },
    "id": "KJA7qyMPOkRH",
    "outputId": "535a0646-ff6c-41ae-c2e3-5d4514051ba9"
   },
   "outputs": [
    {
     "name": "stdout",
     "output_type": "stream",
     "text": [
      "Valor a través de la suma:  100000.00149011612\n",
      "Valor exacto:  100000.0\n",
      "Error  1.4901161193847656e-06\n"
     ]
    }
   ],
   "source": [
    "#Con numeros de 32 bit.\n",
    "eps = np. float64(0)\n",
    "N = 1000000\n",
    "for i in range(0, N):\n",
    " eps = np.float32(0.1) + eps\n",
    "\n",
    "exac = N*0.1\n",
    "error = np.abs(exac-eps) / exac\n",
    "print(\"Valor a través de la suma: \", eps)\n",
    "print(\"Valor exacto: \",  exac)\n",
    "print(\"Error \", error*100 )\n"
   ]
  },
  {
   "cell_type": "markdown",
   "metadata": {
    "id": "rjPq2MFFObTp"
   },
   "source": [
    "\n",
    "## Errores de aproximación.\n",
    " $\\epsilon_{aprox}=\\frac{\\alpha}{N^{\\beta}}$\n"
   ]
  },
  {
   "cell_type": "markdown",
   "metadata": {
    "id": "uisq8TnEOftp"
   },
   "source": [
    "## Error total:\n",
    " $\\epsilon_{aprox} = \\epsilon_{ro}+\\epsilon_{aprox}$\n",
    "\n"
   ]
  },
  {
   "cell_type": "markdown",
   "metadata": {
    "id": "4XGEWL7NN1H-"
   },
   "source": [
    "# Errores de una serie\n",
    "\n",
    "- ¿Converge la serie?\n",
    "- ¿Qué tan preciso es la convergencia?\n",
    "- Costo computacional\n",
    "\n",
    "\n",
    "## Error de una serie\n",
    "Sea $x$ el valor verdadero y $x^*$ el valor aproximado\n",
    "\n",
    "- Error absoluto : se define como\n",
    "\\begin{equation*}\n",
    "\\epsilon_{abs}= |x-x^*|\n",
    "\\end{equation*}\n",
    "- Error relativo : es dado por\n",
    "\\begin{equation*}\n",
    "\\epsilon_{rel}= \\frac{|x-x^*|}{|x|}\n",
    "\\end{equation*}\n",
    "- Error en series : El error para truncar una serie se toma como\n",
    "\\begin{equation*}\n",
    "\\epsilon_{aprox}= \\left|\\frac{nth\\hbox{-term}}{\\hbox{suma}}\\right|< \\hbox{eps}\n",
    "\\end{equation*}\n",
    "La tolerancia normalmente se toma como un número pequeño, por ejemplo `eps` $=10^{-10}$. Note que no se trunca la serie usando $|{nth}\\hbox{-term}|<$ eps,   usar esta forma puede conducir a errores debido a que no se compara con el valor de la suma (un millon compardo a uno es grande, pero comparado a diez mil millones es pequeño).\n",
    "\n",
    "Tomemos como ejemplo otra vez el cálculo de la serie del seno,\n"
   ]
  },
  {
   "cell_type": "markdown",
   "metadata": {
    "id": "reiKGKshRPay"
   },
   "source": [
    "# Laboratorio\n",
    "\n",
    "## 1. Exponencial, serie alternante (serieEn)\n",
    "Objetivo: Analizar el uso de la cancelación substractiva\n",
    "\n",
    "\n",
    "Copia textual del libro  [Computational Physics. ](https://www.dropbox.com/s/n06ul2r4l65khl6/Computational%20Physics%20-%20Problem%20Solving%20with%20Computers%2C%203527406263.pdf?dl=0)\n",
    "\n",
    "- Write a program that calculates $e^{-x}$\n",
    "\n",
    "\\begin{equation}\n",
    "e^{-x}=\\sum_{n=0}^{N}  (-1)^n \\frac{x^{n}}{n!}\n",
    "\\end{equation}\n",
    "\n",
    "\n",
    "- Calculate your series for $x \\le 1$ and compare it to the built-in function\n",
    "exp(x) (you may assume that the built-in exponential function is exact).\n",
    "You should pick an N for which the next term in the series is no more\n",
    "than $10^{-7}$ of the sum up to that point\n",
    "\n",
    "\\begin{equation}\n",
    "\\left| \\frac{(-x)^{N+1}}{(N+1)!} \\right | \\le \\left| 10^{-7} \\sum_{N=0}^{N} \\frac{(-x)^{n}}{n!} \\right|\n",
    "\\end{equation}\n",
    "\n",
    "- Examine the terms in the series for $x\\approx 10$ and observe the significant subtractive cancellations that occur when large terms add together to give small answers. In particular, print out the near-perfect cancellation\n",
    "at $n \\approx x − 1$.\n",
    "\n",
    "- See if better precision is obtained by being clever and using exp(−x) = 1/ exp(x) for large x values. This eliminates subtractive cancellation, but does not eliminate all roundoff errors\n",
    "\n",
    "- By progressively increasing x from 1 to 10, and then from 10 to 100, use your program to determine experimentally when the series starts to lose accuracy, and when the series no longer converges\n",
    "\n",
    "- Make a series of graphs of the error versus N for different values of x."
   ]
  },
  {
   "cell_type": "markdown",
   "metadata": {},
   "source": [
    "## 2. Cancelación sustractiva\n",
    "\n",
    "\n",
    "\n",
    "**serieSn**. Un ejemplo de la cancelacion substractiva es en la suma de series alternantes. Considere la serie $\\mathrm{S}_N$,  escrita  matematicamente de tres formas diferentes:\n",
    "\n",
    "-\n",
    "\\begin{equation}\n",
    "\\mathrm{S}_N^{(1)} = \\sum_{n = 1}^{2N} (-1)^n \\frac{n}{n+1}\n",
    "\\end{equation}\n",
    "\n",
    "- Sumando números pares e impares.\n",
    "\n",
    "\\begin{equation}\n",
    "\\mathrm{S}_N^{(2)} = -\\sum_{n = 1}^{N}\\frac{2n-1}{2n} + \\sum_{n=1}^{N} \\frac{2n}{2n+1}\n",
    "\\end{equation}\n",
    "\n",
    "- Combinando las series de una forma analítica\n",
    "\n",
    "\\begin{equation}\n",
    "\\mathrm{S}_N^{(3)} = \\sum_{n = 1}^{N}\\frac{1}{2n(2n+1)}\n",
    "\\end{equation}\n",
    "\n",
    "\n",
    "\n",
    "Las tres sumas $\\mathrm{S}_N^{(1)}$, $\\mathrm{S}_N^{(2)}$ y $\\mathrm{S}_N^{(3)}$ son matemáticamente iguales, pero los resultados  pueden tener resultados numéricos diferentes.\n",
    "\n",
    "\n",
    "- Escribir un programa que realice el cálculo de $\\mathrm{S}_N^{(1)}$, $\\mathrm{S}_N^{(2)}$ y $\\mathrm{S}_N^{(3)}$\n",
    "- Estudiar la convergencia de la serie para los tres casos.\n",
    "- Considere  que $S_N^{(3)}$ es la solución exacta, realizar dos graficos log-log, del error relativo en función\n",
    "del número de términos ($\\mathrm{Log_{10}} E$ VS $\\mathrm{Log_{10}} N$), para $S_N^{(1)}$ y $S_N^{(2)}$. Donde,  $E = |(S_N^{(i)} - S_N^{(3)})/S_N^{(3)}|$, i = 1, 2. Considere valores de $N = 1\\times 10^{6}$.\n",
    "- Analizar y discutir los resultados. Tenga en cuenta la discusión realizada sobre teoría de errores en la página\n",
    "39 del libro del libro [Computational Physics. ](https://www.dropbox.com/s/n06ul2r4l65khl6/Computational%20Physics%20-%20Problem%20Solving%20with%20Computers%2C%203527406263.pdf?dl=0)\n",
    "\n",
    "\n"
   ]
  },
  {
   "cell_type": "code",
   "execution_count": null,
   "metadata": {},
   "outputs": [],
   "source": []
  }
 ],
 "metadata": {
  "colab": {
   "provenance": []
  },
  "kernelspec": {
   "display_name": "Python 3 (ipykernel)",
   "language": "python",
   "name": "python3"
  },
  "language_info": {
   "codemirror_mode": {
    "name": "ipython",
    "version": 3
   },
   "file_extension": ".py",
   "mimetype": "text/x-python",
   "name": "python",
   "nbconvert_exporter": "python",
   "pygments_lexer": "ipython3",
   "version": "3.10.9"
  }
 },
 "nbformat": 4,
 "nbformat_minor": 1
}
