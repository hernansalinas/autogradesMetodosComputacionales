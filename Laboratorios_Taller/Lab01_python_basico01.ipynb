{
  "cells": [
    {
      "cell_type": "markdown",
      "metadata": {
        "id": "GUTNoRgHTjfg"
      },
      "source": [
        "<a href=\"https://colab.research.google.com/github/hernansalinas/autogradesMetodosComputacionales/blob/main/Laboratorios_Taller/Lab01_python_basico01.ipynb\" target=\"_parent\"><img src=\"https://colab.research.google.com/assets/colab-badge.svg\" alt=\"Open In Colab\"/></a>\n",
        "\n",
        "\n",
        "\n",
        "\n",
        "# Laboratorio 01\n",
        "### Métodos computacionales para físicos  y astrónomos\n",
        "### Universidad de Antioquia\n",
        "### Profesores: \n",
        "### Hernan D. Salinas Jiménez\n",
        "### Juan Marcos Marin\n"
      ]
    },
    {
      "cell_type": "code",
      "execution_count": 2,
      "metadata": {
        "colab": {
          "base_uri": "https://localhost:8080/"
        },
        "id": "NmGdQYCBL7cs",
        "outputId": "939bfc77-2523-48a2-b548-f5f0b336bd48"
      },
      "outputs": [
        {
          "name": "stdout",
          "output_type": "stream",
          "text": [
            "Cloning into 'autogradesMetodosComputacionales'...\n",
            "remote: Enumerating objects: 860, done.\u001b[K\n",
            "remote: Counting objects: 100% (160/160), done.\u001b[K\n",
            "remote: Compressing objects: 100% (105/105), done.\u001b[K\n",
            "remote: Total 860 (delta 101), reused 105 (delta 52), pack-reused 700\u001b[K\n",
            "Receiving objects: 100% (860/860), 38.82 MiB | 10.01 MiB/s, done.\n",
            "Resolving deltas: 100% (501/501), done.\n"
          ]
        },
        {
          "name": "stderr",
          "output_type": "stream",
          "text": [
            "/Users/neuman/Documents/UdeA/Docencia/Cursos/MetodosComputacionales/autogradesMetodosComputacionales/Laboratorios_Taller/autogradesMetodosComputacionales/Laboratorios_Taller/libs/libUnitTest.py:3: DeprecationWarning: Importing display from IPython.core.display is deprecated since IPython 7.14, please import from IPython display\n",
            "  from IPython.core.display import display, HTML\n"
          ]
        }
      ],
      "source": [
        "# Ejecutar esta celda antes de cada laboratorio\n",
        "!git clone https://github.com/hernansalinas/autogradesMetodosComputacionales.git\n",
        "path1=f\"autogradesMetodosComputacionales/Laboratorios_Taller/libs/\"\n",
        "path2=f\"autogradesMetodosComputacionales/Laboratorios_Taller/libs/Lab_autotesting01/\"\n",
        "%run -i {path1}libUnitTest.py"
      ]
    },
    {
      "cell_type": "markdown",
      "metadata": {
        "id": "OkdTI9KQ8MLN"
      },
      "source": [
        "# Operaciones básicas en python.\n",
        "\n",
        "\n",
        "### Definicion de variables\n",
        "1. Definir una variable x tipo entero.\n",
        "2. Definir una variable y tipo float\n",
        "3. Definir una variable z tipo string."
      ]
    },
    {
      "cell_type": "code",
      "execution_count": 3,
      "metadata": {
        "id": "nOYa9UQquq4d"
      },
      "outputs": [
        {
          "ename": "SyntaxError",
          "evalue": "invalid syntax (1523327770.py, line 3)",
          "output_type": "error",
          "traceback": [
            "\u001b[0;36m  Cell \u001b[0;32mIn[3], line 3\u001b[0;36m\u001b[0m\n\u001b[0;31m    x =\u001b[0m\n\u001b[0m        ^\u001b[0m\n\u001b[0;31mSyntaxError\u001b[0m\u001b[0;31m:\u001b[0m invalid syntax\n"
          ]
        }
      ],
      "source": [
        "# Defina la variables en esta celda\n",
        "\n",
        "x = \n",
        "y = \n",
        "z = "
      ]
    },
    {
      "cell_type": "code",
      "execution_count": 4,
      "metadata": {
        "colab": {
          "base_uri": "https://localhost:8080/",
          "height": 209
        },
        "id": "aod54z2z-ZeY",
        "outputId": "a0aa1195-f942-40d8-db6e-f87ab9f2e9ec"
      },
      "outputs": [
        {
          "data": {
            "text/html": [
              "<style>\n",
              "  table { text-align: left; border-collapse: collapse; margin: 1em; caption-side: bottom; font-family: Sans-Serif; font-size: 12px}\n",
              "  caption { text-align: left; padding: 5px }\n",
              "  th, td { border: 2px solid #BFC9CA; padding: 5px }\n",
              "  th { background-color: #BFC9CA }\n",
              "  .passed { background-color: #76D7C4 }\n",
              "  .failed { background-color: #EC7063 }\n",
              "  .skipped { background-color: #EDBB99 }\n",
              "  .score { background-color: #7DCEA0 }\n",
              "  .results .points { display: none }\n",
              "  .results .message { display: block; font-size:smaller; color:#D35400 }\n",
              "  .results .note { display: block; font-size:smaller; font-decoration:italics }\n",
              "  .results .passed::before  { content: \"Passed\" } \n",
              "  .results .skipped::before  { content: \"Skipped\" } \n",
              "  .results .failed::before  { content: \"Failed\" } \n",
              "  .grade .passed  .message:empty::before { content:\"Passed\" }\n",
              "  .grade .failed  .message:empty::before { content:\"Failed\" }\n",
              "  .grade .skipped .message:empty::before { content:\"Skipped\" }   \n",
              "</style>\n",
              "<table class='results'>\n",
              "  <th class='test'>Test</th><th class='result'>Result</th></tr>\n",
              "<tr>\n",
              "  <td class='test'>\n",
              "    Definir x como un numero entero\n",
              "  <div class='note'>Hint: Recuerde definir el tipo adecuado empleando el metodo int</div>\n",
              "    <hr/>\n",
              "    <div class='message'>Error: ([], &#x27;#- x is not define&#x27;)\n",
              "</div>\n",
              "  </td>\n",
              "  <td class='result failed'></td>\n",
              "</tr>\n",
              "<tr>\n",
              "  <td class='test'>\n",
              "    Defiir y como una variable tipo float\n",
              "  <div class='note'>Hint: Recuerde definir el tipo adecuado empleando el metodo float</div>\n",
              "    <hr/>\n",
              "    <div class='message'>Error: ([], &#x27;#- y is not define&#x27;)\n",
              "</div>\n",
              "  </td>\n",
              "  <td class='result failed'></td>\n",
              "</tr>\n",
              "<tr>\n",
              "  <td class='test'>\n",
              "    Definir z como un string\n",
              "  <div class='note'>Hint: Recuerde definir el tipo adecuado emplando dobles o simples comillas</div>\n",
              "    <hr/>\n",
              "    <div class='message'>Error: ([], &#x27;#- z is not define&#x27;)\n",
              "</div>\n",
              "  </td>\n",
              "  <td class='result failed'></td>\n",
              "</tr>  <tr><th class='score'>Total Points</th><th class='score'>0</th></tr></table>\n"
            ],
            "text/plain": [
              "<IPython.core.display.HTML object>"
            ]
          },
          "metadata": {},
          "output_type": "display_data"
        }
      ],
      "source": [
        "# Ejecute la presente celda para probar su solucion\n",
        "%run -i {path2}/test01.py"
      ]
    },
    {
      "cell_type": "markdown",
      "metadata": {
        "id": "9JTEaQro_I8E"
      },
      "source": [
        "\n",
        "\n",
        "###  Creación de Funciones\n",
        "4. Crear una función con el nombre mul_lambda tipo lambda que multiple dos enteros, el resultado deberá ser un número entero.  \n",
        "\n",
        "Ejemplo de ejecución:\n",
        "\n",
        "```python\n",
        "\n",
        "mul_lambda(a,b)\n",
        "#donde a, y b son numeros enteros\n",
        "\n",
        "```\n",
        "\n",
        "\n",
        "5. Crear una función explicita con el nombre de sum_int, que realice la suma de dos números enteros\n",
        "\n",
        "Ejemplo de ejecución:\n",
        "\n",
        "```python\n",
        "\n",
        "sum_int(a,b):\n",
        "#donde a, y b son numeros enteros\n",
        "\n",
        "```\n",
        "\n"
      ]
    },
    {
      "cell_type": "code",
      "execution_count": 5,
      "metadata": {
        "id": "zuTTQ1gmvl3O"
      },
      "outputs": [],
      "source": [
        "# Escriba las funciones en esta celda\n"
      ]
    },
    {
      "cell_type": "code",
      "execution_count": 6,
      "metadata": {
        "colab": {
          "base_uri": "https://localhost:8080/",
          "height": 171
        },
        "id": "lSsnEjAx_Gay",
        "outputId": "ea215fe5-ac8a-47f3-c320-e32ab1ba2e03"
      },
      "outputs": [
        {
          "data": {
            "text/html": [
              "<style>\n",
              "  table { text-align: left; border-collapse: collapse; margin: 1em; caption-side: bottom; font-family: Sans-Serif; font-size: 12px}\n",
              "  caption { text-align: left; padding: 5px }\n",
              "  th, td { border: 2px solid #BFC9CA; padding: 5px }\n",
              "  th { background-color: #BFC9CA }\n",
              "  .passed { background-color: #76D7C4 }\n",
              "  .failed { background-color: #EC7063 }\n",
              "  .skipped { background-color: #EDBB99 }\n",
              "  .score { background-color: #7DCEA0 }\n",
              "  .results .points { display: none }\n",
              "  .results .message { display: block; font-size:smaller; color:#D35400 }\n",
              "  .results .note { display: block; font-size:smaller; font-decoration:italics }\n",
              "  .results .passed::before  { content: \"Passed\" } \n",
              "  .results .skipped::before  { content: \"Skipped\" } \n",
              "  .results .failed::before  { content: \"Failed\" } \n",
              "  .grade .passed  .message:empty::before { content:\"Passed\" }\n",
              "  .grade .failed  .message:empty::before { content:\"Failed\" }\n",
              "  .grade .skipped .message:empty::before { content:\"Skipped\" }   \n",
              "</style>\n",
              "<table class='results'>\n",
              "  <th class='test'>Test</th><th class='result'>Result</th></tr>\n",
              "<tr>\n",
              "  <td class='test'>\n",
              "    Crear una funcion que multiplique dos números\n",
              "    <div class='message'>Error: ([], &#x27;#- mul_lambda is not define&#x27;)\n",
              "</div>\n",
              "  </td>\n",
              "  <td class='result failed'></td>\n",
              "</tr>\n",
              "<tr>\n",
              "  <td class='test'>\n",
              "    Crear una funcion que sume dos números\n",
              "    <div class='message'>Error: ([], &#x27;#- sum_int is not define&#x27;)\n",
              "</div>\n",
              "  </td>\n",
              "  <td class='result failed'></td>\n",
              "</tr>  <tr><th class='score'>Total Points</th><th class='score'>0</th></tr></table>\n"
            ],
            "text/plain": [
              "<IPython.core.display.HTML object>"
            ]
          },
          "metadata": {},
          "output_type": "display_data"
        }
      ],
      "source": [
        "%run -i {path2}/test02.py"
      ]
    },
    {
      "cell_type": "markdown",
      "metadata": {
        "id": "uu42QkJsCQMb"
      },
      "source": [
        "\n",
        "###  Números complejos\n",
        "\n",
        "6. Defina un número complejo w.\n",
        "7. Retorne la parte imaginaria de w, almacenela en una variable w_img\n",
        "8. Retorne la parte real de w, almacenela en una variable w_real.\n",
        "9. Retorne el complejo conjugado de w, almacenla en una varible w_con.\n"
      ]
    },
    {
      "cell_type": "code",
      "execution_count": 10,
      "metadata": {
        "id": "1InwYykmwngw"
      },
      "outputs": [],
      "source": [
        "# Escriba acá su solución"
      ]
    },
    {
      "cell_type": "code",
      "execution_count": 11,
      "metadata": {
        "colab": {
          "base_uri": "https://localhost:8080/",
          "height": 247
        },
        "id": "jx3J6yE1Kwki",
        "outputId": "e9d06010-5d91-4a9d-8784-6ff4274363f3"
      },
      "outputs": [
        {
          "data": {
            "text/html": [
              "<style>\n",
              "  table { text-align: left; border-collapse: collapse; margin: 1em; caption-side: bottom; font-family: Sans-Serif; font-size: 12px}\n",
              "  caption { text-align: left; padding: 5px }\n",
              "  th, td { border: 2px solid #BFC9CA; padding: 5px }\n",
              "  th { background-color: #BFC9CA }\n",
              "  .passed { background-color: #76D7C4 }\n",
              "  .failed { background-color: #EC7063 }\n",
              "  .skipped { background-color: #EDBB99 }\n",
              "  .score { background-color: #7DCEA0 }\n",
              "  .results .points { display: none }\n",
              "  .results .message { display: block; font-size:smaller; color:#D35400 }\n",
              "  .results .note { display: block; font-size:smaller; font-decoration:italics }\n",
              "  .results .passed::before  { content: \"Passed\" } \n",
              "  .results .skipped::before  { content: \"Skipped\" } \n",
              "  .results .failed::before  { content: \"Failed\" } \n",
              "  .grade .passed  .message:empty::before { content:\"Passed\" }\n",
              "  .grade .failed  .message:empty::before { content:\"Failed\" }\n",
              "  .grade .skipped .message:empty::before { content:\"Skipped\" }   \n",
              "</style>\n",
              "<table class='results'>\n",
              "  <th class='test'>Test</th><th class='result'>Result</th></tr>\n",
              "<tr>\n",
              "  <td class='test'>\n",
              "    Definir w como un número complejo\n",
              "    <div class='message'>Done</div>\n",
              "  </td>\n",
              "  <td class='result passed'></td>\n",
              "</tr>\n",
              "<tr>\n",
              "  <td class='test'>\n",
              "    Determinar la parte real de w\n",
              "    <div class='message'>Done</div>\n",
              "  </td>\n",
              "  <td class='result passed'></td>\n",
              "</tr>\n",
              "<tr>\n",
              "  <td class='test'>\n",
              "    Determinar la parte imaginaria  de w\n",
              "    <div class='message'>Done</div>\n",
              "  </td>\n",
              "  <td class='result passed'></td>\n",
              "</tr>\n",
              "<tr>\n",
              "  <td class='test'>\n",
              "    Determinar el conjugado de w\n",
              "    <div class='message'>Done</div>\n",
              "  </td>\n",
              "  <td class='result passed'></td>\n",
              "</tr>  <tr><th class='score'>Total Points</th><th class='score'>4</th></tr></table>\n"
            ],
            "text/plain": [
              "<IPython.core.display.HTML object>"
            ]
          },
          "metadata": {},
          "output_type": "display_data"
        }
      ],
      "source": [
        "%run -i {path2}/test03.py"
      ]
    },
    {
      "cell_type": "markdown",
      "metadata": {
        "id": "P-2vd2FFV-R-"
      },
      "source": [
        "###  Listas\n",
        "\n",
        "10.0  Construir una lista L con las variables usadas hasta acá y los resultados de las funciones.\n",
        "\n",
        "L=[x,y,z,mul_lambda, sum_int,w, w_img, w_real, w_con ]\n",
        "\n",
        "11.0 Invierta la lista y almacene en una variable L_reverse\n",
        "\n",
        "12.0 Almacene los elementos impares de la lista, L_imp\n",
        "\n",
        "13.0 Almacene los elementos pares de la lista, L_par\n",
        "\n",
        "14.0 Modifique el elemento 5 de la lista L con la palabra \"hello world\"\n"
      ]
    },
    {
      "cell_type": "code",
      "execution_count": 48,
      "metadata": {
        "id": "5wcA7Bf8x6v4"
      },
      "outputs": [],
      "source": [
        "# Escriba en esta celda su solucion"
      ]
    },
    {
      "cell_type": "code",
      "execution_count": 12,
      "metadata": {
        "colab": {
          "base_uri": "https://localhost:8080/",
          "height": 653
        },
        "id": "rUAEpJDDdM2q",
        "outputId": "0bf5e73f-31d1-4e12-d1d2-815d1157cd8e"
      },
      "outputs": [
        {
          "name": "stdout",
          "output_type": "stream",
          "text": [
            "L no esta definida\n"
          ]
        }
      ],
      "source": [
        "%run -i {path2}/test04.py"
      ]
    },
    {
      "cell_type": "markdown",
      "metadata": {
        "id": "9vVIrQeytD30"
      },
      "source": [
        "###  Tuplas\n",
        "\n",
        "15.0 Definir una tupla con 5 elementos almacenda en la variable Tup, los primeros 3 tipo string y los ultimos dos, tipo float."
      ]
    },
    {
      "cell_type": "code",
      "execution_count": 51,
      "metadata": {
        "id": "xkrK3Wsgyqb1"
      },
      "outputs": [],
      "source": [
        "Tup = (\"hola\",\"mundo\", \"hola\",1.0,1.0)"
      ]
    },
    {
      "cell_type": "code",
      "execution_count": 52,
      "metadata": {
        "colab": {
          "base_uri": "https://localhost:8080/",
          "height": 247
        },
        "id": "UswyGx3xuou2",
        "outputId": "27e168b2-77f6-45d2-cd5e-fda84adff712"
      },
      "outputs": [
        {
          "data": {
            "text/html": [
              "<style>\n",
              "  table { text-align: left; border-collapse: collapse; margin: 1em; caption-side: bottom; font-family: Sans-Serif; font-size: 12px}\n",
              "  caption { text-align: left; padding: 5px }\n",
              "  th, td { border: 2px solid #BFC9CA; padding: 5px }\n",
              "  th { background-color: #BFC9CA }\n",
              "  .passed { background-color: #76D7C4 }\n",
              "  .failed { background-color: #EC7063 }\n",
              "  .skipped { background-color: #EDBB99 }\n",
              "  .score { background-color: #7DCEA0 }\n",
              "  .results .points { display: none }\n",
              "  .results .message { display: block; font-size:smaller; color:#D35400 }\n",
              "  .results .note { display: block; font-size:smaller; font-decoration:italics }\n",
              "  .results .passed::before  { content: \"Passed\" } \n",
              "  .results .skipped::before  { content: \"Skipped\" } \n",
              "  .results .failed::before  { content: \"Failed\" } \n",
              "  .grade .passed  .message:empty::before { content:\"Passed\" }\n",
              "  .grade .failed  .message:empty::before { content:\"Failed\" }\n",
              "  .grade .skipped .message:empty::before { content:\"Skipped\" }   \n",
              "</style>\n",
              "<table class='results'>\n",
              "  <th class='test'>Test</th><th class='result'>Result</th></tr>\n",
              "<tr>\n",
              "  <td class='test'>\n",
              "    Definir una tupla\n",
              "    <div class='message'>Done</div>\n",
              "  </td>\n",
              "  <td class='result passed'></td>\n",
              "</tr>\n",
              "<tr>\n",
              "  <td class='test'>\n",
              "    La longitud de la tupla debe ser 5 \n",
              "    <div class='message'>Done</div>\n",
              "  </td>\n",
              "  <td class='result passed'></td>\n",
              "</tr>\n",
              "<tr>\n",
              "  <td class='test'>\n",
              "    Los tres primeros elementos deben string \n",
              "    <div class='message'>Done</div>\n",
              "  </td>\n",
              "  <td class='result passed'></td>\n",
              "</tr>\n",
              "<tr>\n",
              "  <td class='test'>\n",
              "    Los dos ultimos elementos deben ser float \n",
              "    <div class='message'>Done</div>\n",
              "  </td>\n",
              "  <td class='result passed'></td>\n",
              "</tr>  <tr><th class='score'>Total Points</th><th class='score'>4</th></tr></table>\n"
            ],
            "text/plain": [
              "<IPython.core.display.HTML object>"
            ]
          },
          "metadata": {},
          "output_type": "display_data"
        }
      ],
      "source": [
        " %run -i {path2}/test05.py"
      ]
    },
    {
      "cell_type": "markdown",
      "metadata": {
        "id": "E1VlbpbEysKy"
      },
      "source": [
        "###  Set\n",
        "16.0 Defina una variable tipo set llamada  D con los primeros 11 numeros primos, consultalos en la red. Notese que pasa en este variables cuando alguno de los elementos se repite\n",
        "\n",
        "17.0 Defina una variable tipo set llamada E con los números naturales del 1 al 20.\n",
        "\n",
        "18.0 Calcule la unión  y almacenela en una variable U.\n",
        "\n",
        "19.0 Calcule la intersección y almacenela en una variable I\n"
      ]
    },
    {
      "cell_type": "code",
      "execution_count": 13,
      "metadata": {
        "id": "ua1aHdjPzfGp"
      },
      "outputs": [],
      "source": [
        "# Escriba acá su solución"
      ]
    },
    {
      "cell_type": "code",
      "execution_count": 14,
      "metadata": {
        "colab": {
          "base_uri": "https://localhost:8080/",
          "height": 449
        },
        "id": "YJiDfeEr2cSc",
        "outputId": "bccba802-859f-431d-b063-bacc45c1e580"
      },
      "outputs": [
        {
          "name": "stdout",
          "output_type": "stream",
          "text": [
            "Las variable no han sido definidas\n"
          ]
        },
        {
          "data": {
            "text/html": [
              "<style>\n",
              "  table { text-align: left; border-collapse: collapse; margin: 1em; caption-side: bottom; font-family: Sans-Serif; font-size: 12px}\n",
              "  caption { text-align: left; padding: 5px }\n",
              "  th, td { border: 2px solid #BFC9CA; padding: 5px }\n",
              "  th { background-color: #BFC9CA }\n",
              "  .passed { background-color: #76D7C4 }\n",
              "  .failed { background-color: #EC7063 }\n",
              "  .skipped { background-color: #EDBB99 }\n",
              "  .score { background-color: #7DCEA0 }\n",
              "  .results .points { display: none }\n",
              "  .results .message { display: block; font-size:smaller; color:#D35400 }\n",
              "  .results .note { display: block; font-size:smaller; font-decoration:italics }\n",
              "  .results .passed::before  { content: \"Passed\" } \n",
              "  .results .skipped::before  { content: \"Skipped\" } \n",
              "  .results .failed::before  { content: \"Failed\" } \n",
              "  .grade .passed  .message:empty::before { content:\"Passed\" }\n",
              "  .grade .failed  .message:empty::before { content:\"Failed\" }\n",
              "  .grade .skipped .message:empty::before { content:\"Skipped\" }   \n",
              "</style>\n",
              "<table class='results'>\n",
              "  <th class='test'>Test</th><th class='result'>Result</th></tr>\n",
              "<tr>\n",
              "  <td class='test'>\n",
              "    Definir una variable D tipo set\n",
              "  <div class='note'>Hint: Recuerde definir el tipo adecuado</div>\n",
              "    <hr/>\n",
              "    <div class='message'>Error: name &#x27;D&#x27; is not defined\n",
              "\n",
              "During handling of the above exception, another exception occurred:\n",
              "\n",
              "Traceback (most recent call last):\n",
              "  File &quot;/Users/neuman/Documents/UdeA/Docencia/Cursos/MetodosComputacionales/autogradesMetodosComputacionales/Laboratorios_Taller/autogradesMetodosComputacionales/Laboratorios_Taller/libs/libUnitTest.py&quot;, line 31, in test_existence_var\n",
              "    raise ValueError([],f&quot;#- {var_} is not define&quot;)\n",
              "ValueError: ([], &#x27;#- D is not define&#x27;)\n",
              "</div>\n",
              "  </td>\n",
              "  <td class='result failed'></td>\n",
              "</tr>\n",
              "<tr>\n",
              "  <td class='test'>\n",
              "    Definir una variable E tipo set\n",
              "  <div class='note'>Hint: Recuerde definir el tipo adecuado</div>\n",
              "    <hr/>\n",
              "    <div class='message'>Error: name &#x27;D&#x27; is not defined\n",
              "\n",
              "During handling of the above exception, another exception occurred:\n",
              "\n",
              "Traceback (most recent call last):\n",
              "  File &quot;/Users/neuman/Documents/UdeA/Docencia/Cursos/MetodosComputacionales/autogradesMetodosComputacionales/Laboratorios_Taller/autogradesMetodosComputacionales/Laboratorios_Taller/libs/libUnitTest.py&quot;, line 31, in test_existence_var\n",
              "    raise ValueError([],f&quot;#- {var_} is not define&quot;)\n",
              "ValueError: ([], &#x27;#- E is not define&#x27;)\n",
              "</div>\n",
              "  </td>\n",
              "  <td class='result failed'></td>\n",
              "</tr>\n",
              "<tr>\n",
              "  <td class='test'>\n",
              "    Definir una variable U tipo set\n",
              "  <div class='note'>Hint: Recuerde definir el tipo adecuado</div>\n",
              "    <hr/>\n",
              "    <div class='message'>Error: name &#x27;D&#x27; is not defined\n",
              "\n",
              "During handling of the above exception, another exception occurred:\n",
              "\n",
              "Traceback (most recent call last):\n",
              "  File &quot;/Users/neuman/Documents/UdeA/Docencia/Cursos/MetodosComputacionales/autogradesMetodosComputacionales/Laboratorios_Taller/autogradesMetodosComputacionales/Laboratorios_Taller/libs/libUnitTest.py&quot;, line 31, in test_existence_var\n",
              "    raise ValueError([],f&quot;#- {var_} is not define&quot;)\n",
              "ValueError: ([], &#x27;#- U is not define&#x27;)\n",
              "</div>\n",
              "  </td>\n",
              "  <td class='result failed'></td>\n",
              "</tr>\n",
              "<tr>\n",
              "  <td class='test'>\n",
              "    Definir una variable I tipo set\n",
              "  <div class='note'>Hint: Recuerde definir el tipo adecuado</div>\n",
              "    <hr/>\n",
              "    <div class='message'>Error: name &#x27;D&#x27; is not defined\n",
              "\n",
              "During handling of the above exception, another exception occurred:\n",
              "\n",
              "Traceback (most recent call last):\n",
              "  File &quot;/Users/neuman/Documents/UdeA/Docencia/Cursos/MetodosComputacionales/autogradesMetodosComputacionales/Laboratorios_Taller/autogradesMetodosComputacionales/Laboratorios_Taller/libs/libUnitTest.py&quot;, line 31, in test_existence_var\n",
              "    raise ValueError([],f&quot;#- {var_} is not define&quot;)\n",
              "ValueError: ([], &#x27;#- I is not define&#x27;)\n",
              "</div>\n",
              "  </td>\n",
              "  <td class='result failed'></td>\n",
              "</tr>  <tr><th class='score'>Total Points</th><th class='score'>0</th></tr></table>\n"
            ],
            "text/plain": [
              "<IPython.core.display.HTML object>"
            ]
          },
          "metadata": {},
          "output_type": "display_data"
        }
      ],
      "source": [
        " %run -i {path2}/test06.py"
      ]
    },
    {
      "cell_type": "markdown",
      "metadata": {
        "id": "HWfazmVWTq1T"
      },
      "source": [
        "\n",
        "\n",
        "\n",
        "\n",
        "\n",
        "\n",
        "\n",
        "\n",
        "\n",
        "\n",
        "\n",
        "\n",
        "\n",
        "\n",
        "###  Diccionarios\n",
        "20.0 Construir un diccionario con 5 elementos cuya clave es el nombre del autor y valor el nombre del libro. Almacenarlo en una variable dicc.\n",
        "\n",
        "\n",
        "\n"
      ]
    },
    {
      "cell_type": "code",
      "execution_count": 15,
      "metadata": {
        "colab": {
          "base_uri": "https://localhost:8080/"
        },
        "id": "07sFgZvj0MP7",
        "outputId": "25ea2d68-afc0-44d1-cc6c-c6e997485cb1"
      },
      "outputs": [],
      "source": [
        "# Escriba acá su solución"
      ]
    },
    {
      "cell_type": "code",
      "execution_count": 16,
      "metadata": {
        "colab": {
          "base_uri": "https://localhost:8080/",
          "height": 171
        },
        "id": "yfHkEyXV6DjL",
        "outputId": "6e6f0ea3-e0ab-4fff-ccaf-f9f958c6bf5f"
      },
      "outputs": [
        {
          "name": "stdout",
          "output_type": "stream",
          "text": [
            "Las variable no han sido definidas\n"
          ]
        },
        {
          "data": {
            "text/html": [
              "<style>\n",
              "  table { text-align: left; border-collapse: collapse; margin: 1em; caption-side: bottom; font-family: Sans-Serif; font-size: 12px}\n",
              "  caption { text-align: left; padding: 5px }\n",
              "  th, td { border: 2px solid #BFC9CA; padding: 5px }\n",
              "  th { background-color: #BFC9CA }\n",
              "  .passed { background-color: #76D7C4 }\n",
              "  .failed { background-color: #EC7063 }\n",
              "  .skipped { background-color: #EDBB99 }\n",
              "  .score { background-color: #7DCEA0 }\n",
              "  .results .points { display: none }\n",
              "  .results .message { display: block; font-size:smaller; color:#D35400 }\n",
              "  .results .note { display: block; font-size:smaller; font-decoration:italics }\n",
              "  .results .passed::before  { content: \"Passed\" } \n",
              "  .results .skipped::before  { content: \"Skipped\" } \n",
              "  .results .failed::before  { content: \"Failed\" } \n",
              "  .grade .passed  .message:empty::before { content:\"Passed\" }\n",
              "  .grade .failed  .message:empty::before { content:\"Failed\" }\n",
              "  .grade .skipped .message:empty::before { content:\"Skipped\" }   \n",
              "</style>\n",
              "<table class='results'>\n",
              "  <th class='test'>Test</th><th class='result'>Result</th></tr>\n",
              "<tr>\n",
              "  <td class='test'>\n",
              "    Definir una variable dicc tipo diccionario\n",
              "  <div class='note'>Hint: Recuerde definir el tipo adecuado</div>\n",
              "    <hr/>\n",
              "    <div class='message'>Error: name &#x27;dicc&#x27; is not defined\n",
              "\n",
              "During handling of the above exception, another exception occurred:\n",
              "\n",
              "Traceback (most recent call last):\n",
              "  File &quot;/Users/neuman/Documents/UdeA/Docencia/Cursos/MetodosComputacionales/autogradesMetodosComputacionales/Laboratorios_Taller/autogradesMetodosComputacionales/Laboratorios_Taller/libs/libUnitTest.py&quot;, line 31, in test_existence_var\n",
              "    raise ValueError([],f&quot;#- {var_} is not define&quot;)\n",
              "ValueError: ([], &#x27;#- dicc is not define&#x27;)\n",
              "</div>\n",
              "  </td>\n",
              "  <td class='result failed'></td>\n",
              "</tr>  <tr><th class='score'>Total Points</th><th class='score'>0</th></tr></table>\n"
            ],
            "text/plain": [
              "<IPython.core.display.HTML object>"
            ]
          },
          "metadata": {},
          "output_type": "display_data"
        }
      ],
      "source": [
        " %run -i {path2}/test07.py"
      ]
    },
    {
      "cell_type": "markdown",
      "metadata": {
        "id": "7g0xWN387wOo"
      },
      "source": [
        "\n",
        "####  Ciclos y condicionales\n",
        "\n",
        "21.0  Cálculo de $\\pi$. Empleando la siguiente seria :\n",
        "\n",
        "\\begin{equation}\n",
        "\\frac{\\pi}{4} = 1 -\\frac{1}{3}+\\frac{1}{5}-\\frac{1}{7}+\\frac{1}{9}-...\n",
        "\\end{equation}\n",
        "\n",
        "Construya una función llamada pi_number en el que entrado el valor de k,(número de términos de la serie ) calcule el valor de pi. Si k es negativo deberá retornar un error como una variable tipo string.\n",
        "\n",
        "Ejemplo de ecución:\n",
        "```python\n",
        "pi_number(10)\n",
        "```"
      ]
    },
    {
      "cell_type": "code",
      "execution_count": 17,
      "metadata": {
        "id": "h9cuWKkT0pqQ"
      },
      "outputs": [],
      "source": [
        "# Escriba acá su solución"
      ]
    },
    {
      "cell_type": "code",
      "execution_count": 18,
      "metadata": {
        "colab": {
          "base_uri": "https://localhost:8080/",
          "height": 171
        },
        "id": "OEACMhp6BS2k",
        "outputId": "4bda631f-b3c7-476a-93a2-33da3e83564e"
      },
      "outputs": [
        {
          "ename": "NameError",
          "evalue": "name 'pi_number' is not defined",
          "output_type": "error",
          "traceback": [
            "\u001b[0;31m---------------------------------------------------------------------------\u001b[0m",
            "\u001b[0;31mNameError\u001b[0m                                 Traceback (most recent call last)",
            "File \u001b[0;32m~/Documents/UdeA/Docencia/Cursos/MetodosComputacionales/autogradesMetodosComputacionales/Laboratorios_Taller/autogradesMetodosComputacionales/Laboratorios_Taller/libs/Lab_autotesting01/test08.py:25\u001b[0m\n\u001b[1;32m     14\u001b[0m   \u001b[38;5;28;01mreturn\u001b[39;00m \u001b[38;5;241m4\u001b[39m\u001b[38;5;241m*\u001b[39mval\n\u001b[1;32m     16\u001b[0m \u001b[38;5;66;03m# config_.append_function(\"testOneOneFunction.test_Equalfunctions\",\\\u001b[39;00m\n\u001b[1;32m     17\u001b[0m \u001b[38;5;66;03m#                       \"Crear una funcion que calcule el numero pi\", \\\u001b[39;00m\n\u001b[1;32m     18\u001b[0m \u001b[38;5;66;03m#                       (\"pi_number_expected\",[1000]),\\\u001b[39;00m\n\u001b[1;32m     19\u001b[0m \u001b[38;5;66;03m#                       (\"pi_number\",[1000]) ,\\\u001b[39;00m\n\u001b[1;32m     20\u001b[0m \u001b[38;5;66;03m#                       True, \"\")\u001b[39;00m\n\u001b[1;32m     22\u001b[0m config_\u001b[38;5;241m.\u001b[39mappend_variables_values(\u001b[38;5;124m\"\u001b[39m\u001b[38;5;124mtestOneValuesVariables.test_Expectedvaluevalue\u001b[39m\u001b[38;5;124m\"\u001b[39m,\\\n\u001b[1;32m     23\u001b[0m                           \u001b[38;5;124m\"\u001b[39m\u001b[38;5;124mPrueba para valores negativos \u001b[39m\u001b[38;5;124m\"\u001b[39m, \\\n\u001b[1;32m     24\u001b[0m                           pi_number_expected(\u001b[38;5;241m1000\u001b[39m),\\\n\u001b[0;32m---> 25\u001b[0m                           \u001b[43mpi_number\u001b[49m(\u001b[38;5;241m1000\u001b[39m),\\\n\u001b[1;32m     26\u001b[0m                           \u001b[38;5;124m\"\u001b[39m\u001b[38;5;124mpi_number\u001b[39m\u001b[38;5;124m\"\u001b[39m,\\\n\u001b[1;32m     27\u001b[0m                           \u001b[38;5;28;01mTrue\u001b[39;00m)\n\u001b[1;32m     30\u001b[0m config_\u001b[38;5;241m.\u001b[39mappend_variables_values(\u001b[38;5;124m\"\u001b[39m\u001b[38;5;124mtestOneValuesVariables.test_Expectedvaluevalue\u001b[39m\u001b[38;5;124m\"\u001b[39m,\\\n\u001b[1;32m     31\u001b[0m                           \u001b[38;5;124m\"\u001b[39m\u001b[38;5;124mPrueba para valores negativos \u001b[39m\u001b[38;5;124m\"\u001b[39m, \\\n\u001b[1;32m     32\u001b[0m                           \u001b[38;5;28mtype\u001b[39m(\u001b[38;5;124m\"\u001b[39m\u001b[38;5;124ma\u001b[39m\u001b[38;5;124m\"\u001b[39m),\\\n\u001b[1;32m     33\u001b[0m                           \u001b[38;5;28mtype\u001b[39m(pi_number(\u001b[38;5;241m-\u001b[39m\u001b[38;5;241m1\u001b[39m)),\\\n\u001b[1;32m     34\u001b[0m                           \u001b[38;5;124m\"\u001b[39m\u001b[38;5;124mpi_number\u001b[39m\u001b[38;5;124m\"\u001b[39m,\\\n\u001b[1;32m     35\u001b[0m                           \u001b[38;5;28;01mTrue\u001b[39;00m)\n\u001b[1;32m     37\u001b[0m \u001b[38;5;66;03m# Otra forma de hacer el test\u001b[39;00m\n\u001b[1;32m     38\u001b[0m \u001b[38;5;66;03m# try:\u001b[39;00m\n\u001b[1;32m     39\u001b[0m \u001b[38;5;66;03m#   config_.append_variables_values(\"testOneValuesVariables.test_AlmostEqual\",\\\u001b[39;00m\n\u001b[0;32m   (...)\u001b[0m\n\u001b[1;32m     43\u001b[0m \u001b[38;5;66;03m#                             \"pi_number\",\\\u001b[39;00m\n\u001b[1;32m     44\u001b[0m \u001b[38;5;66;03m#                             True,\"El valor para el 10000 termino no tiene la presicion esperada\")\u001b[39;00m\n",
            "\u001b[0;31mNameError\u001b[0m: name 'pi_number' is not defined"
          ]
        }
      ],
      "source": [
        " %run -i {path2}/test08.py"
      ]
    },
    {
      "cell_type": "code",
      "execution_count": null,
      "metadata": {},
      "outputs": [],
      "source": [
        "\"\""
      ]
    },
    {
      "cell_type": "code",
      "execution_count": null,
      "metadata": {},
      "outputs": [],
      "source": []
    }
  ],
  "metadata": {
    "colab": {
      "provenance": []
    },
    "kernelspec": {
      "display_name": "Python 3 (ipykernel)",
      "language": "python",
      "name": "python3"
    },
    "language_info": {
      "codemirror_mode": {
        "name": "ipython",
        "version": 3
      },
      "file_extension": ".py",
      "mimetype": "text/x-python",
      "name": "python",
      "nbconvert_exporter": "python",
      "pygments_lexer": "ipython3",
      "version": "3.9.6"
    }
  },
  "nbformat": 4,
  "nbformat_minor": 0
}
