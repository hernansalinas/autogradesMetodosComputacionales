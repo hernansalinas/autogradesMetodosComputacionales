{
 "cells": [
  {
   "cell_type": "markdown",
   "metadata": {
    "id": "o_ykKivpJaDc"
   },
   "source": [
    "# Laboratorio 07 Interpolación\n",
    "\n",
    "#### Métodos computacionales para físicos  y astrónomos\n",
    "#### Universidad de Antioquia\n",
    "#### Prof: Hernan D. Salinas Jiménez & Juan Marcos Marín Ramírez"
   ]
  },
  {
   "cell_type": "markdown",
   "metadata": {
    "id": "B19YQk8HJeQJ"
   },
   "source": [
    "##1. Interpolación Lagrange\n",
    "\n",
    "Consideremos la función:\n",
    "\\begin{equation*}\n",
    "     f(x) = \\frac{1}{1+25x^2}\n",
    "\\end{equation*}\n",
    "en el intervalo $[-1, 1]$, definamos un conjunto de puntos $n+1$  equiespaciados en $[-1,1]$.\n",
    "\n",
    " 1. Representar gráficamente la función junto al polinomio de interpolación de Lagrange, $p_n(x)$, para $n=\\{ 4, 8, 12, 16, 20 \\}$.\n",
    " 2. Comprobar gráficamente cómo el error aumenta con $n$. Emplee la libreria, simbolica de sympy y encuente el error en la interpolación.\n",
    "\n",
    " Para este numeral, emplee que:\n",
    "\n",
    "\n",
    "La cota del  error , viene dado por:\n",
    "\\begin{equation}\n",
    "f(x) - P(x) = \\epsilon = \\frac{1}{(n+1)!} f^{(n+1)}(\\xi)(x - x_0)(x - x_1) ... (x - x_n)\n",
    "\\end{equation},\n",
    "\n",
    "emplee la libreria simbolica para realizar la estimación de dicha cuota, sólo para n = 4, en el punto 0.5"
   ]
  },
  {
   "cell_type": "code",
   "execution_count": null,
   "metadata": {
    "id": "AeiVsbnwJVRd"
   },
   "outputs": [],
   "source": []
  },
  {
   "cell_type": "markdown",
   "metadata": {
    "id": "g8AAsZSuJ5oJ"
   },
   "source": [
    "##2. Tangente\n",
    "\n",
    "Para la función $f(x) = \\tan (x)$ definida entre $-\\frac{\\pi}{4}$ y $\\frac{\\pi}{4}$, usando $N=10$ (9 intervalos). Grafique la función original y aquella interpolada usando Lagrange.\n",
    "\n",
    "Explore el comportamiento del algoritmo de interpolación lineal al variar el número de datos utilizados."
   ]
  },
  {
   "cell_type": "code",
   "execution_count": null,
   "metadata": {
    "id": "hY1oSwUAKEkm"
   },
   "outputs": [],
   "source": []
  },
  {
   "cell_type": "markdown",
   "metadata": {
    "id": "OJB0oj1RLJni"
   },
   "source": [
    "##3. Datos\n",
    "\n",
    "Usando los siguientes datos:\n",
    "```\n",
    "x =  np.array([1, 1.3, 1.6, 1.9, 2.2])\n",
    "\n",
    "fx =  np.array([0.7651977,0.6200860, 0.4554022, 0.2818186, 0.1103623])\n",
    "```\n",
    "a)  Cree un dataframe y utilizando la interpolación de Lagrange encuentre\n",
    "\n",
    "\n",
    "\n",
    "valores intermedios, esto es,\n",
    "\n",
    "```\n",
    "new_x_range = np.arange(1.1, 2.1, 0.1)\n",
    "```\n",
    "b) Haga un gráfico donde muestre los valores originales y aquellos interpolados.\n",
    "\n",
    "c) Utilizando un método diferente a Lagrange repita el procedimiento y explique si hay alguna diferencia\n"
   ]
  },
  {
   "cell_type": "code",
   "execution_count": null,
   "metadata": {
    "id": "vP4krVQmMIeK"
   },
   "outputs": [],
   "source": []
  },
  {
   "cell_type": "markdown",
   "metadata": {
    "id": "QkKfWdr1PVxT"
   },
   "source": [
    "##4. Interpolación en imágenes\n",
    "\n",
    "\n",
    "# 4. Spline Cúbico\n",
    "\n",
    "Consideremos la imagen ![paloma](https://github.com/hernansalinas/autogrades/blob/main/Laboratorios_Taller/img/paloma.png?raw=true).\n",
    "\n",
    "\n",
    "\n",
    "\n",
    "Con los datos dados en la tabla:\n",
    "\n",
    "1. Representar gráficamente la imagen, usando las órdenes `imread` e `imshow` de python (estas órdenes están contenidas en el paquete `matplotlib`) \n",
    "\n",
    "2. Definir una lista de puntos, $x_i$,$y_i$ de la paloma.\n",
    "\n",
    "3. Representar el polinomio de interpolación de Lagrange en estos puntos, para aproximar el dibujo.\n",
    "\n",
    "4. Repetir el proceso de interpolación mediante *splines* cúbicos. Para ello, utilizar la función `CubicSpline` (contenida en `scipy.interpolate`), \n",
    "\n",
    "\n",
    "5. Comparar los resultados. ¿Alguna de las interpolaciones presenta oscilaciones? ¿A qué se debe este fenómeno?\n",
    "\n",
    "Ref: Metodos numericos, Burden."
   ]
  },
  {
   "cell_type": "code",
   "execution_count": null,
   "metadata": {},
   "outputs": [],
   "source": []
  }
 ],
 "metadata": {
  "colab": {
   "provenance": []
  },
  "kernelspec": {
   "display_name": "Python 3 (ipykernel)",
   "language": "python",
   "name": "python3"
  },
  "language_info": {
   "codemirror_mode": {
    "name": "ipython",
    "version": 3
   },
   "file_extension": ".py",
   "mimetype": "text/x-python",
   "name": "python",
   "nbconvert_exporter": "python",
   "pygments_lexer": "ipython3",
   "version": "3.10.9"
  }
 },
 "nbformat": 4,
 "nbformat_minor": 1
}
