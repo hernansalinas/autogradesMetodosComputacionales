{
 "cells": [
  {
   "cell_type": "markdown",
   "metadata": {
    "id": "WV6dMBzK_odZ"
   },
   "source": [
    "<a href=\"https://colab.research.google.com/github/hernansalinas/autogrades/blob/main/Laboratorios_Taller/Lab07_interpolacion.ipynb\" target=\"_parent\"><img src=\"https://colab.research.google.com/assets/colab-badge.svg\" alt=\"Open In Colab\"/></a>\n"
   ]
  },
  {
   "cell_type": "markdown",
   "metadata": {},
   "source": [
    "# Laboratorio metodos computacionales, \n",
    "# Interpolacion\n"
   ]
  },
  {
   "cell_type": "markdown",
   "metadata": {
    "id": "UYQFyalL4Kkl"
   },
   "source": [
    "\n",
    "\n",
    "\n",
    "# 1. Movimiento de proyectiles en presencia de viento.\n",
    "\n",
    "Supongamos que un proyectil es lanzado desde el origen con una rapidez $v=vo( \\cos \\theta , \\sin \\theta) $. Supongamos además que el efecto del viento sobre el proyectil es el de una fuerza proporcional a la velocidad relativa entre el viento y el proyectil. Teniendo presente que si $u$ es la velocidad del viento y $\\alpha$ el ángulo que hace dirección de esta velocidad con el eje x, se puede entrontrar las siguientes ecuaciones diferenciales, asociada al estado de movimiento del [proyectil](https://iopscience.iop.org/article/10.1088/0143-0807/36/2/025016/meta):\n",
    "\n",
    "\n",
    "\\begin{equation}\n",
    "m\\frac{dv_x}{dt} = -mb(v_x-u\\cos \\alpha )\n",
    "\\end{equation}\n",
    "\n",
    "\\begin{equation}\n",
    "m\\frac{dv_y}{dt} = -mg-mb(v_x-u\\sin \\alpha ),\n",
    "\\end{equation}\n",
    "\n",
    "donde b es el párametro de rozamiento. La soluciones a las ecuaciones anteriores vienen dadas por:\n",
    "\n",
    "Posición en x\n",
    "\\begin{equation}\n",
    "x=(u\\cos \\alpha) t + \\frac{1}{b} (v_0\\cos \\theta_0 -u \\cos\\alpha)(1-\\mathrm{exp}(-bt))\n",
    "\\end{equation}\n",
    "\n",
    "Posicion en y \n",
    "\\begin{equation}\n",
    "y= \\frac{1}{b}\\left(\\frac{g}{b}+v_0 \\sin \\theta_0 -u\\sin\\alpha \\right)(1-\\mathrm{exp}(-bt))-\\left( \\frac{g}{b}-u\\sin\\alpha\\right)t\n",
    "\\end{equation}\n",
    "\n",
    "Ver imagen:  http://www.sc.ehu.es/sbweb/fisica3/fluidos/viento/parabolico.html\n",
    "\n",
    "\n",
    "0. Establezca las siguietnes condiciones inciales.\n",
    "\n",
    "```\n",
    "#Parametros iniciales\n",
    "\n",
    "v0 = 60 #Velocidad en m/s\n",
    "alpha = np.pi #Angulo del viento\n",
    "theta = np.deg2rad(45) #Angulo de lanzamiento\n",
    "u = v0/2             #rapidez del viento\n",
    "b = 0.05             #Parametro de friccion \n",
    "g = 9.8                #Aceleracion de la gravedad m/s2\n",
    "\n",
    "Params = (alpha, v0, b, u,g)  #Parametros en tupla.\n",
    "\n",
    "```\n",
    "\n",
    "\n",
    "\n",
    "1. Defina dos funciones, una para x y otra para y. \n",
    "\n",
    "```\n",
    "\n",
    "#Posicion en x\n",
    "def pos_x(t, theta, alpha, v0, b, u,g):\n",
    "  x = #escriba aca la expresión\n",
    "  return x\n",
    "\n",
    "#Posicion en y\n",
    "def pos_y(t, theta, alpha, v0, b, u,g):\n",
    "\n",
    "\n",
    "  y = #escriba aca la expresión\n",
    "  return y \n",
    "\n",
    "```\n",
    "\n",
    "2. Construya un diccionario con las claves \"X\", \"Y\", \"Tiempo\"\n",
    "\n",
    "3. Con el diccionario construya un data frame de pandas llamado df con los nombres de columnas \"X\", \"Y\", \"Tiempo\"  https://pandas.pydata.org/docs/reference/api/pandas.DataFrame.from_dict.html. Defina 1000 registros para el intervalo de tiempo elegido.\n",
    "\n",
    "\n",
    "4. Realice un gráfico de x como función del tiempo, de y como función del tiempo y la trayectoria de la partícula (df[\"X\"], df[\"tiempo\"], df[\"Y\"]).\n",
    "\n",
    "\n",
    "5. Determine el alcance máximo de la partícula, para ello tome  la solucion teórica con $y=0$, solucione numéricamente la ecuación para t y remplace este valor en la ecuación para x. Resuelvalo para $\\theta=45^{o}$.  \n",
    "\n",
    "6. Construya una  grafica del alcance máximo R como función de $\\theta$, varie $\\theta$  entre 10 y 90 grados cada 5 grados.\n",
    "\n",
    "7. Realice una interpolacion de R como función de theta.\n",
    "\n",
    "\n",
    "\n",
    "\n",
    "\n",
    "\n",
    "\n"
   ]
  },
  {
   "cell_type": "markdown",
   "metadata": {
    "id": "U3RkCnSDdP0P"
   },
   "source": [
    "\n",
    "\n",
    "Posición en x\n",
    "\\begin{equation}\n",
    "x=(u\\cos \\alpha) t + \\frac{1}{b} (v_0\\cos \\theta_0 -u \\cos\\alpha)(1-\\mathrm{exp}(-bt))\n",
    "\\end{equation}\n",
    "\n",
    "Posicion en y \n",
    "\\begin{equation}\n",
    "y= \\frac{1}{b}\\left(\\frac{g}{b}+v_0 \\sin \\theta_0 -u\\sin\\alpha \\right)(1-\\mathrm{exp}(-bt))-\\left( \\frac{g}{b}-u\\sin\\alpha\\right)t\n",
    "\\end{equation}"
   ]
  },
  {
   "cell_type": "code",
   "execution_count": null,
   "metadata": {
    "id": "CXiIITCod3qU"
   },
   "outputs": [],
   "source": [
    "import numpy as np\n",
    "import matplotlib.pylab as plt\n",
    "import pandas as pd\n",
    "from scipy.optimize import newton\n",
    "from scipy.interpolate import lagrange"
   ]
  },
  {
   "cell_type": "code",
   "execution_count": null,
   "metadata": {
    "id": "VjeBnFapdMkZ"
   },
   "outputs": [],
   "source": [
    "vo = 60 #Velocidad en m/s\n",
    "alpha = np.pi #Angulo del viento\n",
    "theta = np.deg2rad(45) #Angulo de lanzamiento\n",
    "u = vo/2             #rapidez del viento\n",
    "b = 0.05             #Parametro de friccion \n",
    "g = 9.8                #Aceleracion de la gravedad m/s2\n",
    "\n",
    "def pos_x(t, vo, theta0, u, alpha, b, g  ):\n",
    "  t1 = u*np.cos(alpha)*t  \n",
    "  t2 = 1./b*(vo*np.cos(theta0)-u*np.cos(alpha))  \n",
    "  t3 = (1-np.exp(-b*t))\n",
    "  return t1 + t2 * t3\n",
    "\n",
    "\n",
    "def pos_y(t, vo, theta0, u, alpha, b, g  ):\n",
    "  t1 = (g/b + vo*np.sin(theta0) - u* np.sin(alpha) )\n",
    "  t2 = (1-np.exp(-b*t)) \n",
    "  t3 = (g/b - u*np.sin(alpha))*t \n",
    "  return 1./b * t1 * t2 - t3"
   ]
  },
  {
   "cell_type": "code",
   "execution_count": null,
   "metadata": {
    "id": "k-u13UDygH_2"
   },
   "outputs": [],
   "source": [
    "t = np.linspace(0, 8.5, 100)\n",
    "Params = (vo, theta, u, alpha, b , g)  #Parametros en tupla.\n",
    "x = pos_x(t, *Params)\n",
    "y = pos_y(t, *Params)"
   ]
  },
  {
   "cell_type": "code",
   "execution_count": null,
   "metadata": {
    "id": "hddVSqZpg4Oh"
   },
   "outputs": [],
   "source": [
    "dicc = {\"x\":x,\"y\":y ,\"t\":t}\n",
    "df = pd.DataFrame(dicc)"
   ]
  },
  {
   "cell_type": "code",
   "execution_count": null,
   "metadata": {
    "colab": {
     "base_uri": "https://localhost:8080/",
     "height": 279
    },
    "id": "Rb6aGaxog-oi",
    "outputId": "29c9acdb-d182-4acc-8fc1-eea4859f4c75"
   },
   "outputs": [
    {
     "data": {
      "image/png": "[encoded data removed]",
      "text/plain": [
       "<Figure size 432x288 with 1 Axes>"
      ]
     },
     "metadata": {
      "needs_background": "light"
     },
     "output_type": "display_data"
    }
   ],
   "source": [
    "plt.plot(df.x, df.y)\n",
    "plt.xlabel(\"x\")\n",
    "plt.ylabel(\"y\")\n",
    "plt.grid()"
   ]
  },
  {
   "cell_type": "code",
   "execution_count": null,
   "metadata": {
    "colab": {
     "base_uri": "https://localhost:8080/",
     "height": 279
    },
    "id": "VJWHoR_fj7Ii",
    "outputId": "c02dd8b5-30db-4493-9c85-dd1b500c84c0"
   },
   "outputs": [
    {
     "data": {
      "image/png": "[encoded data removed]",
      "text/plain": [
       "<Figure size 432x288 with 1 Axes>"
      ]
     },
     "metadata": {
      "needs_background": "light"
     },
     "output_type": "display_data"
    }
   ],
   "source": [
    "plt.plot(df.t, df.y)\n",
    "plt.xlabel(\"t\")\n",
    "plt.ylabel(\"y\")\n",
    "plt.grid()"
   ]
  },
  {
   "cell_type": "code",
   "execution_count": null,
   "metadata": {
    "colab": {
     "base_uri": "https://localhost:8080/"
    },
    "id": "pGsUlmg1j4E1",
    "outputId": "c9609c1b-27d4-4611-c869-3228bbfa0cf6"
   },
   "outputs": [
    {
     "data": {
      "text/plain": [
       "8.111627022095584"
      ]
     },
     "execution_count": 67,
     "metadata": {},
     "output_type": "execute_result"
    }
   ],
   "source": [
    "tv = newton(pos_y, 6.5, args=Params)\n",
    "tv"
   ]
  },
  {
   "cell_type": "code",
   "execution_count": null,
   "metadata": {
    "colab": {
     "base_uri": "https://localhost:8080/"
    },
    "id": "IjjJ_Mb2kQyx",
    "outputId": "c4b454cc-38f2-4421-f02e-26e8562228d5"
   },
   "outputs": [
    {
     "data": {
      "text/plain": [
       "239.60614945520726"
      ]
     },
     "execution_count": 68,
     "metadata": {},
     "output_type": "execute_result"
    }
   ],
   "source": [
    "pos_x(tv, *Params)"
   ]
  },
  {
   "cell_type": "markdown",
   "metadata": {
    "id": "STxIakWfku92"
   },
   "source": [
    "# Generalizacion"
   ]
  },
  {
   "cell_type": "code",
   "execution_count": null,
   "metadata": {
    "colab": {
     "base_uri": "https://localhost:8080/"
    },
    "id": "29vXgc-Sk3Tr",
    "outputId": "c574e2d3-1d84-403f-a146-9fe9997eaff7"
   },
   "outputs": [
    {
     "data": {
      "text/plain": [
       "array([ 5, 10, 15, 20, 25, 30, 35, 40, 45, 50, 55, 60, 65, 70, 75, 80])"
      ]
     },
     "execution_count": 69,
     "metadata": {},
     "output_type": "execute_result"
    }
   ],
   "source": [
    "np.arange(5, 85, 5)"
   ]
  },
  {
   "cell_type": "code",
   "execution_count": null,
   "metadata": {
    "colab": {
     "base_uri": "https://localhost:8080/"
    },
    "id": "c46zOlwRkwfK",
    "outputId": "05600335-f06a-437d-a604-cc45de52c8e5"
   },
   "outputs": [
    {
     "data": {
      "text/plain": [
       "array([0.08726646, 0.17453293, 0.26179939, 0.34906585, 0.43633231,\n",
       "       0.52359878, 0.61086524, 0.6981317 , 0.78539816, 0.87266463,\n",
       "       0.95993109, 1.04719755, 1.13446401, 1.22173048, 1.30899694])"
      ]
     },
     "execution_count": 70,
     "metadata": {},
     "output_type": "execute_result"
    }
   ],
   "source": [
    "theta = np.deg2rad(np.arange(5, 80, 5)) #Angulo de lanzamiento\n",
    "theta"
   ]
  },
  {
   "cell_type": "code",
   "execution_count": null,
   "metadata": {
    "id": "JiRQkB-5k6hG"
   },
   "outputs": [],
   "source": [
    "Rmax = np.zeros(len(theta))\n",
    "for i, te in enumerate(theta):\n",
    "  Params = (vo, te, u, alpha, b , g)  #Parametros en tupla.\n",
    "  tv = newton(pos_y, 6.5, args = Params)\n",
    "  Rmax[i] = pos_x(tv, *Params)\n",
    "  #print(tv,pos_x(tv, *Params))"
   ]
  },
  {
   "cell_type": "code",
   "execution_count": null,
   "metadata": {
    "colab": {
     "base_uri": "https://localhost:8080/",
     "height": 282
    },
    "id": "A8YScAc2lzqI",
    "outputId": "c17a110b-c7a1-4f92-a389-2bc9cd841cef"
   },
   "outputs": [
    {
     "data": {
      "text/plain": [
       "[<matplotlib.lines.Line2D at 0x7fd6c494b790>]"
      ]
     },
     "execution_count": 77,
     "metadata": {},
     "output_type": "execute_result"
    },
    {
     "data": {
      "image/png": "[encoded data removed]",
      "text/plain": [
       "<Figure size 432x288 with 1 Axes>"
      ]
     },
     "metadata": {
      "needs_background": "light"
     },
     "output_type": "display_data"
    }
   ],
   "source": [
    "# Alcance maximo como funcion de theta\n",
    "plt.plot(theta, Rmax,\"ro\" )"
   ]
  },
  {
   "cell_type": "markdown",
   "metadata": {
    "id": "AqZSU8CE46S9"
   },
   "source": [
    "\n",
    "\n",
    "\n",
    "# 2.0  Interpolación lagrange\n",
    "\n",
    "Consideremos la función: \n",
    "\\begin{equation*}\n",
    "     f(x) = \\frac{1}{1+25x^2}\n",
    "\\end{equation*}\n",
    "en el intervalo $[-1, 1]$, definamos un conjunto de puntos $n+1$  equiespaciados en $[-1,1]$.\n",
    "\n",
    " 1. Representar gráficamente la función junto al polinomio de interpolación de Lagrange, $p_n(x)$, para $n=\\{ 4, 8, 12, 16, 20 \\}$. \n",
    " 2. Comprobar gráficamente cómo el error aumenta con $n$. Emplee la libreria, simbolica de sympy y encuente el error en la interpolación.\n",
    " \n",
    " Para este numeral, emplee que: \n",
    " \n",
    " \n",
    "La cota del  error , viene dado por: \n",
    "\\begin{equation}\n",
    "f(x) - P(x) = \\epsilon = \\frac{1}{(n+1)!} f^{(n+1)}(\\xi)(x - x_0)(x - x_1) ... (x - x_n)\n",
    "\\end{equation}, emplee la libreria simbolica para realizar la estimación de dicha cuota, sólo para n = 4, en el punto 0.5"
   ]
  },
  {
   "cell_type": "code",
   "execution_count": null,
   "metadata": {
    "colab": {
     "base_uri": "https://localhost:8080/",
     "height": 371
    },
    "id": "dRe1gyns_tt2",
    "outputId": "baf8c2a4-ab5e-449d-c344-891263d7d169"
   },
   "outputs": [
    {
     "name": "stdout",
     "output_type": "stream",
     "text": [
      "-50*x/(25*x**2 + 1)**2\n",
      "-50*x/(25*x**2 + 1)**2\n",
      "50*(100*x**2/(25*x**2 + 1) - 1)/(25*x**2 + 1)**2\n",
      "15000*x*(-50*x**2/(25*x**2 + 1) + 1)/(25*x**2 + 1)**3\n",
      "15000*(10000*x**4/(25*x**2 + 1)**2 - 300*x**2/(25*x**2 + 1) + 1)/(25*x**2 + 1)**3\n",
      "3750000*x*(-10000*x**4/(25*x**2 + 1)**2 + 400*x**2/(25*x**2 + 1) - 3)/(25*x**2 + 1)**4\n"
     ]
    },
    {
     "data": {
      "image/png": "[encoded data removed]",
      "text/plain": [
       "<Figure size 432x288 with 1 Axes>"
      ]
     },
     "metadata": {
      "tags": []
     },
     "output_type": "display_data"
    }
   ],
   "source": [
    "#Ayuda: \n",
    "\n",
    "import sympy as sp # Cargamos sympy como sp\n",
    "import numpy as np\n",
    "import matplotlib.pylab as plt\n",
    "\n",
    "f_s = lambda x: 1/(1+25*x**2)\n",
    "sp.init_printing() # Usar LaTeX para dibujar ecuaciones\n",
    "\n",
    "x = sp.symbols(\"x\") # x será una variable simbólica\n",
    "f_s(x)\n",
    "print(sp.diff(f_s(x),x))\n",
    "print(sp.diff(f_s(x),x, 1))\n",
    "print(sp.diff(f_s(x),x, 2))\n",
    "print(sp.diff(f_s(x),x, 3))\n",
    "print(sp.diff(f_s(x),x, 4))\n",
    "print(sp.diff(f_s(x),x, 5))\n",
    "f5 = sp.diff(f_s(x),x, 5)\n",
    "fxn5 = sp.lambdify(x,f5,'numpy') #numpy funcion\n",
    "\n",
    "x_ = np.linspace(-1, 1, 100)\n",
    "\n",
    "plt.figure()\n",
    "plt.plot(x_, fxn5(x_) )\n",
    "plt.show()"
   ]
  },
  {
   "cell_type": "markdown",
   "metadata": {
    "id": "FtPTTb5SNo5d"
   },
   "source": [
    "\n",
    "#3.  Interpolación Hermite\n",
    "\n",
    "Consideremos la función: \n",
    "\\begin{equation*}\n",
    "     f(x) = \\frac{1}{1+25x^2}\n",
    "\\end{equation*}\n",
    "en el intervalo $[-1, 1]$, definamos un conjunto de puntos $n+1$  equiespaciados en $[-1,1]$.\n",
    "\n",
    " 1. Representar gráficamente la función junto al polinomio de interpolación de Lagrange, $p_n(x)$, para $n=\\{ 4, 8, 12, 16, 20 \\}$. \n",
    " 2. Comprobar gráficamente cómo el error aumenta con $n$. Emplee la libreria, simbolica de sympy y encuente el error en la interpolación.\n",
    " \n",
    " Para este numeral, emplee que: \n",
    " \n",
    " \n",
    "La cota del  error , viene dado por: \n",
    "\n",
    "$$\n",
    "  f(x)-p_{2n+1}(x)\n",
    "  = \\frac{f^{2n+2}(\\xi)}{(2n+2)!} (x-x_0)^2(x-x_1)^2(x-x_2)^2,\n",
    "$$\n",
    "\n",
    "\n",
    "\n",
    "\n",
    "\n",
    "emplee la libreria simbolica para realizar la estimación de dicha cuota, sólo para n = 4, en el punto 0.5\n"
   ]
  },
  {
   "cell_type": "markdown",
   "metadata": {
    "id": "ZOjIQYy3QEfG"
   },
   "source": [
    "# 4. Spline Cúbico\n",
    "\n",
    "Consideremos la imagen ![paloma](https://github.com/hernansalinas/autogrades/blob/main/Laboratorios_Taller/img/paloma.png?raw=true).\n",
    "\n",
    "\n",
    "\n",
    "\n",
    "Con los datos dados en la tabla:\n",
    "\n",
    "1. Representar gráficamente la imagen, usando las órdenes `imread` e `imshow` de python (estas órdenes están contenidas en el paquete `matplotlib`) \n",
    "\n",
    "2. Definir una lista de puntos, $x_i$,$y_i$ de la paloma.\n",
    "\n",
    "3. Representar el polinomio de interpolación de Lagrange en estos puntos, para aproximar el dibujo.\n",
    "\n",
    "4. Repetir el proceso de interpolación mediante *splines* cúbicos. Para ello, utilizar la función `CubicSpline` (contenida en `scipy.interpolate`), \n",
    "\n",
    "\n",
    "5. Comparar los resultados. ¿Alguna de las interpolaciones presenta oscilaciones? ¿A qué se debe este fenómeno?\n",
    "\n",
    "Ref: Metodos numericos, Burden."
   ]
  }
 ],
 "metadata": {
  "colab": {
   "provenance": []
  },
  "kernelspec": {
   "display_name": "Python 3 (ipykernel)",
   "language": "python",
   "name": "python3"
  },
  "language_info": {
   "codemirror_mode": {
    "name": "ipython",
    "version": 3
   },
   "file_extension": ".py",
   "mimetype": "text/x-python",
   "name": "python",
   "nbconvert_exporter": "python",
   "pygments_lexer": "ipython3",
   "version": "3.8.12"
  }
 },
 "nbformat": 4,
 "nbformat_minor": 1
}
