{
 "cells": [
  {
   "cell_type": "markdown",
   "metadata": {
    "id": "GrhlCVr1lS7o"
   },
   "source": [
    "<a href=\"https://colab.research.google.com/github/hernansalinas/autogrades/blob/main/Laboratorios_Taller/Lab03_Algoritmia_y_graficacion.ipynb\" target=\"_parent\"><img src=\"https://colab.research.google.com/assets/colab-badge.svg\" alt=\"Open In Colab\"/></a>"
   ]
  },
  {
   "cell_type": "markdown",
   "metadata": {
    "id": "SkZguDaDeyAZ"
   },
   "source": [
    "# Laboratorio 02\n",
    "\n",
    "\n",
    "1.0 Caos numérico en un mapa logístico y errores de punto flotante (Errores de redondeo)\n",
    "\n",
    "> Un ejemplo clásico de caos,  es el comportamiento no lineal en las interaciones de un mapa logístico \n",
    "\n",
    "\\begin{equation}\n",
    "x_{n+1}=f(x_n)=rx_n(1-x_n)\n",
    "\\end{equation}\n",
    "\n",
    "> con $x\\in (0,1)$ y $r\\in(0,4)$ se pueden producir varios comportamientos sorprendentes.\n",
    "\n",
    "Para este problema, será extremadamente útil  ver sus resultados gráficamente; construya listas de números y llame la libreria matplotlib. \n",
    "\n",
    "\n",
    "> ### Problema: \n",
    "a. Programar la ecuación para el mapa logístico, y  realizar una grafica del valor de xn como funcion de n.\n",
    "\n",
    "b. Realizar pruebas para un $x_0=0.5$, con valores de r\n",
    "\n",
    "```\n",
    "  r = np.array([1.9, 2.9, 3.1, 3.5, 3.9,4.0])\n",
    "  numpoints = 100, # Numero sugerido de iteraciones\n",
    "  x0 = 0.5\n",
    "```\n",
    "\n",
    "Organizar las gráficas [multiples plot](https://matplotlib.org/stable/gallery/subplots_axes_and_figures/subplots_demo.html)\n",
    "\n",
    "\n",
    "\n",
    "c. Construye una rutina llamada logist_map en que entrada el valor de r, la condiciones inicial xi y el número de puntos determine la evolución en el punto N.  Prueba implementado las siguientes lineas.\n",
    "\n",
    "```\n",
    "Np = 1000\n",
    "xf = np.zeros(Np)\n",
    "r  = np.linspace(2.5, 4, Np)\n",
    " \n",
    "for i in range(0, Np): \n",
    "  xini = np.random.random()\n",
    "  x_i = logist_map(r = r[i], xi = xini, N = 1000) \n",
    "  xf[i] = x_i\n",
    "```\n",
    "\n",
    "\n",
    "d. Realiza un gráfico de:\n",
    "```\n",
    "  plt.plot((r-1/r), xf,  \".\", markersize = 0.5)\n",
    "```\n",
    "\n",
    "\n",
    "e. Encontrar dos formas adicionales de expresar $f(x)$, para estos valores funcionales determinar las mismas gráficas del numeral 3 para cada uno de las formas de escribir la expresión. En este caso se espera que los resultados varien. ¿A que se debe esto?. Consulta algunas fuentes para responder a la pregunta.\n",
    "\n",
    "\n",
    "Ref: https://www.youtube.com/watch?v=EOvLhZPevm0&t=104s\n"
   ]
  },
  {
   "cell_type": "markdown",
   "metadata": {
    "id": "TfAf3lDVfD1d"
   },
   "source": [
    "# 2. (Mapa de henon)\n",
    "El mapa de Hénon es un sistema dinámico discreto en el tiempo que se define por las siguientes ecuaciones:\n",
    "\n",
    "$$x_{n+1} = 1 - ax_n^2 + y_n$$\n",
    "$$y_{n+1} = bx_n$$\n",
    "\n",
    "Donde $x_n$ y $y_n$ son las coordenadas de un punto en el plano, y $a$ y $b$ son dos parámetros que controlan el comportamiento del mapa. El mapa de Hénon es uno de los ejemplos más estudiados de sistemas dinámicos que muestran comportamiento caótico, es decir, una gran sensibilidad a las condiciones iniciales y una estructura fractal.\n",
    "\n",
    "El mapa de Hénon fue introducido por Michel Hénon como un modelo simplificado de la sección de Poincaré del modelo de Lorenz, que es otro sistema dinámico caótico que describe la convección atmosférica². Para los valores clásicos del mapa de Hénon, que son $a = 1.4$ y $b = 0.3$, un punto inicial del plano se acercará a un conjunto de puntos conocido como el atractor extraño de Hénon, o divergirá al infinito. El atractor de Hénon es una curva suave en una dirección y un conjunto de Cantor en otra.\n",
    "\n",
    "Su tarea será:\n",
    "1. Construir una gráfica de xn como función de N\n",
    "2. Construir una gráfica de yn como función de N\n",
    "3. Construir una gráfica de xn, yn. \n",
    "4. Para b=0.3, construir una curva de xn como función de a, con a entre 0, 1 \n",
    "\n",
    "\n",
    "Reto, con tu codigo, reproducir los fractales mostrados en esta página https://blbadger.github.io/henon-map.html"
   ]
  },
  {
   "cell_type": "markdown",
   "metadata": {
    "id": "3X1VWZyEhjaM"
   },
   "source": [
    "# 3.0 \n",
    "El algoritmo de gradiente descendente permite encontrar el mínimo de funciones en espacios multidimensionales proponiendo puntos en la dirección en la que el gradiente desciende. Para el caso de una dimensión, podemos encontrar el mínimo realizando iteraciones y multiplicando su derivada en cada nuevo punto por una constante $\\alpha$\n",
    "\n",
    "\\begin{equation}\n",
    "x_{i+1}=x_i - \\alpha \\frac{\\mathrm{d}f}{\\mathrm{d}x}(x_i)\n",
    "\\end{equation}\n",
    "\n",
    "\n",
    "Ejemplo:\n",
    "\n",
    "Sea $f(\\omega) = (\\omega-1)^2$ , con $\\omega \\in \\mathbb{R} $. El minimo de esta función esta determinado por\n",
    "\\begin{equation}\n",
    "\\frac{\\mathrm{d}f}{\\mathrm{d}\\omega} = 0\n",
    "\\end{equation}\n",
    "\n",
    "\\begin{equation}\n",
    "\\omega = 1\n",
    "\\end{equation}\n",
    "\n",
    "\n",
    "Para determinar el minimo,  a través del gradiente descendente puede ser aplicada el siguiente algoritmo:\n",
    "1. Proponer un número aleatorios inicial $\\omega_i$\n",
    "2. Para descender al mínimo de la función, encontremos un  valor para el cual \n",
    "la derivada de la función descenciende, asi:\n",
    "\\begin{equation}\n",
    "\\omega_{i+1} = \\omega_{i} - \\alpha \\frac{\\mathrm{d}f(\\omega_i)}{\\mathrm{d}\\omega}\n",
    "\\end{equation}\n",
    "\n",
    "donde, $\\alpha$ es conocido como la tasa de aprendizaje del algoritmo. \n",
    "\n",
    "3. Evaluar $f(\\omega_{i+1})$\n",
    "\n",
    "4. Iterar hasta encontrar el minimo de la función \n",
    "\n",
    "\n",
    "En el caso de la funcion propuesta, asumiendo un valor de $\\alpha=1$, tenemos que:\n",
    "\n",
    "1. Supongamos que $\\omega_{0} = 2$, luego :\n",
    "2. $\\omega_{0+1} = 2 - 1 f'(\\omega_{0}) =  = 0$\n",
    "3. $f(0) = 1$\n",
    "4. $\\omega_{1+1} = 0 - 1 f'(\\omega_{1}) = 0-1(2(0-1)) =  2$\n",
    "\n",
    "El valor del $\\omega$  despues de un par de iteraciones, no es el esperado, por que no minimiza la función, se debe proponer un tasa de aprendizaje  **$\\alpha$** de tal forma que permita descender suavemente para encontrar el minimo. \n",
    "\n",
    "\n",
    "\n",
    "**Su tarea será**:\n",
    "\n",
    "1. Disenar un programa, en el que entrada la función y su derivada, definidas como funciones lambda de python, se determine el valor mínimo de esa función. \n",
    "Prueba tu algoritmo para  la función $f(x) = x^2$\n",
    "\n",
    "2. Realiza el grafico de la funcion y la derivada, especifica la leyenda de cada curva empleando el metodo legend() de matplotlib.\n",
    "  \n",
    "\n",
    "3. Analiza como se minimiza la función, gráficando de la funcion en cada punto a iterar,  como funcion del numero de iteraciones. Para dos valores diferentes de la constante alpha (prueba con $\\alpha=0.1$, $\\alpha=0.01$)\n"
   ]
  },
  {
   "cell_type": "code",
   "execution_count": null,
   "metadata": {},
   "outputs": [],
   "source": []
  }
 ],
 "metadata": {
  "colab": {
   "provenance": []
  },
  "kernelspec": {
   "display_name": "Python 3 (ipykernel)",
   "language": "python",
   "name": "python3"
  },
  "language_info": {
   "codemirror_mode": {
    "name": "ipython",
    "version": 3
   },
   "file_extension": ".py",
   "mimetype": "text/x-python",
   "name": "python",
   "nbconvert_exporter": "python",
   "pygments_lexer": "ipython3",
   "version": "3.10.9"
  }
 },
 "nbformat": 4,
 "nbformat_minor": 1
}
