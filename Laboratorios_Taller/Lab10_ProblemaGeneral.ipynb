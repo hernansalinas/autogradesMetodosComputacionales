{
  "cells": [
    {
      "cell_type": "markdown",
      "metadata": {},
      "source": [
        "<a href=\"https://colab.research.google.com/github/hernansalinas/autogrades/blob/main/Laboratorios_Taller/Lab10_ProblemaGeneral.ipynb\" target=\"_parent\"><img src=\"https://colab.research.google.com/assets/colab-badge.svg\" alt=\"Open In Colab\"/></a>\n"
      ]
    },
    {
      "cell_type": "markdown",
      "metadata": {
        "id": "OaqkWbVloBZY"
      },
      "source": [
        "# Taller de metodos computacionales\n",
        "\n",
        "# Proyectiles con rozamiento y viento\n",
        "\n",
        "\n",
        "Un proyectil es lanzado desde una posición (xo, yo), en presencia de viento y fuerza de fricción. Suponer que el efecto del viento sobre el proyectil es\n",
        "el de una fuerza proporcional a la velocidad relativa entre el viento y el proyectil. Si $\\vec{u} $ es la velocidad del viento y $\\alpha$ el ángulo que hace direccion de esta velocidad con el eje x, se puede entrontrar las siguientes ecuaciones de movimiento:\n",
        "\n",
        "\\begin{equation}\n",
        "m\\frac{dv_x}{dt} = -mb(v_x-u\\cos \\alpha )\n",
        "\\end{equation}\n",
        "\n",
        "\\begin{equation}\n",
        "m\\frac{dv_y}{dt} = -mg-mb(v_y-u\\sin \\alpha )\n",
        "\\end{equation}\n",
        "\n",
        "\n",
        "Para un proyectil lanzado con una rapidez $v_0$  y un ángulo $\\theta_0$,\n",
        "se enecuentra que la solución a la ecuación diferencial viene dada por:\n",
        "\n",
        "\n",
        "Posición en x\n",
        "\\begin{equation}\n",
        "x=(u\\cos \\alpha) t + \\frac{1}{b} (v_0\\cos \\theta_0 -u \\cos\\alpha)(1-\\mathrm{exp}(-bt))\n",
        "\\end{equation}\n",
        "\n",
        "Posicion en y\n",
        "\\begin{equation}\n",
        "y= \\frac{1}{b}\\left(\\frac{g}{b}+v_0 \\sin \\theta_0 -u\\sin\\alpha \\right)(1-\\mathrm{exp}(-bt))-\\left( \\frac{g}{b}-u\\sin\\alpha\\right)t\n",
        "\\end{equation}\n",
        "\n",
        "Ver imagen:  http://www.sc.ehu.es/sbweb/fisica3/fluidos/viento/parabolico.html\n"
      ]
    },
    {
      "cell_type": "markdown",
      "metadata": {
        "id": "zb1dLEZavqTa"
      },
      "source": [
        "Problema.\n",
        "\n",
        "1. Escribir un programa en python que resuelva la ecuacion diferencial del movimiento del proeyctil y comprobar la solución con la solución teórica. Para ello realice una grafica de la trayectoria y comprueba que la soución numérica coincide con la solucion teórica. Compruebe su solución para $b=0.05$, $theta=60^{o}$, $u=v_0/2$, $\\alpha=\\pi$, $vo=50m/s$\n",
        "\n",
        "\n",
        "3. Determine el alcance máximo de la partícula, para ello tome  la solucion teórica con $y=0$, solucione numericamente la ecuación para t y remplace este valor en la ecuación para x. Resuelvalo para $\\theta=45^{o}$.  \n",
        "\n",
        "4. Construya una  gráfica del alcance máximo R como función de $\\theta$, varie $\\theta$  entre 10 y 80 grados\n",
        "\n",
        "5. Realice un ajuste a la curva construida en el apartado anterior.\n",
        "\n",
        "6. Se denomina ángulo crítico, aquel  ángulo para el cual el alcance máximo es cero.  Para ello, se pide resolver el sistema no lineal de ecuaciones para $t$ y $\\theta$  con  $x=0$, $y=0$. Representar para $\\theta=0.9\\theta_c$, $\\theta=\\theta_c$, $\\theta=1.1\\theta_c$.\n",
        "\n",
        "7. Construya la trayectoria seguida por la partícula para $\\theta=10^{o}, 15^{o}, 20^{o}, ...45^{o}$.\n",
        "\n",
        "8. Determine el máximo de cada unas de las trayectorias anteriores, y construya una gráfica de los máximos como función del ángulo.\n",
        "\n"
      ]
    },
    {
      "cell_type": "markdown",
      "metadata": {
        "id": "rQl9ikfYoIn6"
      },
      "source": [
        "Solucion teorica"
      ]
    }
  ],
  "metadata": {
    "colab": {
      "provenance": []
    },
    "kernelspec": {
      "display_name": "Python 3",
      "name": "python3"
    }
  },
  "nbformat": 4,
  "nbformat_minor": 0
}
