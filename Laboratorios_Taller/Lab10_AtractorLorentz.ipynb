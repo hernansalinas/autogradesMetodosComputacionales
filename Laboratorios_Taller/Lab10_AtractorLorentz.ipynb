{
  "cells": [
    {
      "cell_type": "markdown",
      "metadata": {},
      "source": [
        "<a href=\"https://colab.research.google.com/github/hernansalinas/autogrades/blob/main/Laboratorios_Taller/Lab10_AtractorLorentz.ipynb\" target=\"_parent\"><img src=\"https://colab.research.google.com/assets/colab-badge.svg\" alt=\"Open In Colab\"/></a>\n"
      ]
    },
    {
      "cell_type": "markdown",
      "metadata": {
        "id": "gNNATzmv6p1-"
      },
      "source": [
        "# [Atractor de lorentz](https://en.wikipedia.org/wiki/Lorenz_system)\n",
        "\n",
        "\n",
        "\n",
        "Dada el siguiente sistema de ecuaciones, asociadas a un modelo simplificado de la atomosfera, encontrar los valores de x, y, z.\n",
        "\n",
        "\\begin{equation}\n",
        "\\frac{\\mathrm{d}x}{\\mathrm{d}t} = \\sigma (y-x)\n",
        "\\end{equation}\n",
        "\n",
        "\n",
        "\\begin{equation}\n",
        "\\frac{\\mathrm{d}y}{\\mathrm{d}t} = x(\\rho-z)-y\n",
        "\\end{equation}\n",
        "\n",
        "\\begin{equation}\n",
        "\\frac{\\mathrm{d}z}{\\mathrm{d}t} = xy-\\beta z\n",
        "\\end{equation}\n",
        "\n",
        "El modelo anteror permite describir de un a manera simplificada el movimiento atmosférico de masas de aire, los valores x, y, z se corresponden a posiciones de un volumen que contiene  una masa de aire, y los párametros $\\sigma$, $\\beta$ y  $\\rho$ hacen referencia a, las siguientes cantidades fisicas:\n",
        "\n",
        "\\begin{equation}\n",
        "\\sigma = \\frac{\\mathrm{viscosidad}}{\\mathrm{conductividad\\ térmica }},\n",
        "\\end{equation}\n",
        "\n",
        "$\\rho$ hace refencia al término de convección entre el suelo y el techo del volumen discretizado.\n",
        "\n",
        "\\begin{equation}\n",
        "\\rho =\\frac{g\\beta}{v \\alpha} (T_s-T_{\\infty})L^3\n",
        "\\end{equation}\n",
        "\n",
        "y $\\beta=\\frac{\\mathrm{Ancho\\ del\\ cubo}}{\\mathrm{Altura\\ de\\ la\\ caja}}$ es un termino geométrico.\n",
        "\n",
        "\n",
        "<!-- Tiene puntos de equilibrio en\n",
        "- $(x, y, z)=(0,0,0)$\n",
        "- $(\\pm \\sqrt{\\beta(\\rho-1}),\\pm \\sqrt{\\beta(\\rho-1}),\\rho-1)$\n",
        "\n",
        "El sistema de ecuaciones anterior puede ser escrito como:\n",
        "\\begin{equation}\n",
        "\\begin{pmatrix}\n",
        "-\\sigma & \\sigma & 0\\\\\n",
        "\\rho-z & -1 & 0\\\\\n",
        "y & 0 & -\\beta\n",
        "\\end{pmatrix}\n",
        "\\end{equation} -->\n",
        "\n",
        "\n",
        "\n",
        "Emplee la integración [odeint](https://docs.scipy.org/doc/scipy/reference/generated/scipy.integrate.odeint.html) para realizar la integración del sistema de ecuaciones diferenciales"
      ]
    },
    {
      "cell_type": "markdown",
      "metadata": {
        "id": "XCRueOMGJzLD"
      },
      "source": [
        "1. Importe las librerias odeint, numpy, matplotlib\n"
      ]
    },
    {
      "cell_type": "markdown",
      "metadata": {
        "id": "WF5v5sroKmFN"
      },
      "source": [
        "2. Defina una función con el sistema de ecuaciones a integrar, para ello construya el siguiente el sistema de ecuaciones en una función:\n",
        "\n",
        "\n",
        "Puede ser escrito como:\n",
        "\n",
        "\\begin{equation}\n",
        "\\begin{bmatrix}\n",
        "\\frac{\\mathrm{d}U_1}{\\mathrm{d}t}\\\\\n",
        "\\frac{\\mathrm{d}U_2}{\\mathrm{d}t}\\\\\n",
        "\\frac{\\mathrm{d}U_3}{\\mathrm{d}t}\n",
        "\\end{bmatrix}=\n",
        "\\begin{bmatrix}\n",
        "\\sigma (U_1-U_0)\\\\\n",
        "U_0(\\rho-U_2)\\\\\n",
        "xy-\\beta z\\\\\n",
        "\\end{bmatrix}\n",
        "\\end{equation}\n",
        "\n",
        "\n",
        "3. Solucione el sistema de ecuaciones para los siguientes parámetros y  realice un gráfico en 3D de la solución, empleando el código de más abajo.\n",
        "\n",
        "- $\\sigma = 10.0$, $\\beta = 8./3$ ,$\\rho = 28$  con condiciones iniciales,  $x_0,y_0,z_0 = [1.5,1.5,1.5]$\n",
        "\n",
        "- $\\sigma = 10.0$, $\\beta = 8./3$ ,$\\rho = 25$  con condiciones iniciales,  $x_0,y_0,z_0 = [1.5,1,5,1.5]$\n",
        "\n",
        "\n",
        "- $\\sigma = 10.0$, $\\beta = 8./3$ ,$\\rho = 25$  con condiciones iniciales,  $x_0,y_0,z_0 = [1,1,1]$\n",
        "\n",
        "- $\\sigma = 10.0$, $\\beta = 8./3$ ,$\\rho = 25$  con condiciones iniciales,  $x_0,y_0,z_0 = [1001,1.001,1.001]$\n",
        "\n",
        "```\n",
        "fig = plt.figure()\n",
        "ax = fig.gca(projection=\"3d\")\n",
        "ax.plot(x,y,z)\n",
        "plt.draw()\n",
        "plt.show()\n",
        "```\n",
        "\n",
        "5. ¿Cómo puede estar seguro de que la solución es la esperada?\n"
      ]
    }
  ],
  "metadata": {
    "colab": {
      "provenance": []
    },
    "kernelspec": {
      "display_name": "Python 3",
      "name": "python3"
    },
    "language_info": {
      "name": "python"
    }
  },
  "nbformat": 4,
  "nbformat_minor": 0
}
